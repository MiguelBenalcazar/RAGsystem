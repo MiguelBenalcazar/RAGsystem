{
 "cells": [
  {
   "cell_type": "code",
   "execution_count": 1,
   "metadata": {},
   "outputs": [],
   "source": [
    "from utils.utils import load_structure\n",
    "from chromadbClass.chromadb import Chromadb_Class\n",
    "from BM25.BM25 import BM25, get_k_best_scores\n",
    "from text.textProcess import NLP\n",
    "from rerank_search.Process_search import Searching_results\n",
    "import time"
   ]
  },
  {
   "cell_type": "code",
   "execution_count": 2,
   "metadata": {},
   "outputs": [
    {
     "name": "stderr",
     "output_type": "stream",
     "text": [
      "/home/mab/anaconda3/lib/python3.11/site-packages/huggingface_hub/file_download.py:1132: FutureWarning: `resume_download` is deprecated and will be removed in version 1.0.0. Downloads always resume when possible. If you want to force a new download, use `force_download=True`.\n",
      "  warnings.warn(\n"
     ]
    },
    {
     "name": "stdout",
     "output_type": "stream",
     "text": [
      "loaded data structure\n"
     ]
    }
   ],
   "source": [
    "db = Chromadb_Class()\n",
    "documents, embeddings = db.get_documents()\n",
    "\n",
    "token = load_structure(\"./chunk_tokens/tokens.pkl.gz\")\n",
    "BM25_search = BM25(token)\n",
    "\n",
    "nlp = NLP()\n",
    "results = Searching_results()"
   ]
  },
  {
   "cell_type": "code",
   "execution_count": 3,
   "metadata": {},
   "outputs": [
    {
     "name": "stdout",
     "output_type": "stream",
     "text": [
      "time:  7.440332412719727\n"
     ]
    }
   ],
   "source": [
    "start = time.time()\n",
    "prompt = 'Did Wilson support the committee system?\t'\n",
    "token_prompt = nlp.process_text(prompt)\n",
    "scores = BM25_search.get_scores(token_prompt)\n",
    "data_extract, embedding_extract = get_k_best_scores(data = documents,embeddings=embeddings, scores = scores, best_k=20)\n",
    "simil_query = db.search_data_collection(prompt, 25)\n",
    "\n",
    "similarity_query = simil_query[\"documents\"][0]\n",
    "similarity_embedding_query = simil_query[\"embeddings\"][0]\n",
    "\n",
    "data_extract.extend(similarity_query)\n",
    "embedding_extract.extend(similarity_embedding_query)\n",
    "\n",
    "results_search=results(documents = data_extract, embeddings=embedding_extract, query= prompt)\n",
    "\n",
    "print(\"time: \", time.time() - start )"
   ]
  },
  {
   "cell_type": "code",
   "execution_count": 4,
   "metadata": {},
   "outputs": [
    {
     "name": "stdout",
     "output_type": "stream",
     "text": [
      "These petty barons, some of them not a little powerful, but none of them within reach [of] the full powers of rule, may at will exercise an almost despotic sway within their own shires, and may sometimes threaten to convulse even the realm itself.\". Congressional Government, 76  Wilson said that the committee system was fundamentally undemocratic, because committee chairs, who ruled by seniority, were responsible to no one except their constituents, even though they determined national policy. In addition to their undemocratic nature, Wilson also believed that the Committee System facilitated corruption. By the time Wilson finished Congressional Government, Grover Cleveland was President, and Wilson had his faith in the United States government restored. When William Jennings Bryan captured the Democratic nomination from Cleveland's supporters in 1896, however, Wilson refused to stand by the ticket.\n"
     ]
    }
   ],
   "source": [
    "for i in results_search['search_results']:\n",
    "    print(i[1])"
   ]
  },
  {
   "cell_type": "code",
   "execution_count": 5,
   "metadata": {},
   "outputs": [
    {
     "data": {
      "text/plain": [
       "-0.61441547"
      ]
     },
     "execution_count": 5,
     "metadata": {},
     "output_type": "execute_result"
    }
   ],
   "source": [
    "a = results_search[\"reduced_query_embedding\"][0]\n",
    "a[0]"
   ]
  },
  {
   "cell_type": "code",
   "execution_count": 6,
   "metadata": {},
   "outputs": [
    {
     "data": {
      "application/vnd.plotly.v1+json": {
       "config": {
        "plotlyServerURL": "https://plot.ly"
       },
       "data": [
        {
         "marker": {
          "color": "rgba(31, 119, 180, 0.8)",
          "size": 5,
          "symbol": "circle"
         },
         "mode": "markers",
         "name": "Cluster 0",
         "type": "scatter3d",
         "x": [
          11.910206,
          12.02216,
          11.733209
         ],
         "y": [
          3.0675695,
          2.956288,
          3.2442207
         ],
         "z": [
          8.672837,
          8.56773,
          8.827431
         ]
        },
        {
         "marker": {
          "color": "rgba(255, 127, 14, 0.8)",
          "size": 5,
          "symbol": "circle"
         },
         "mode": "markers",
         "name": "Cluster 1",
         "type": "scatter3d",
         "x": [
          -2.960174,
          -3.2282467,
          -3.2298608
         ],
         "y": [
          0.27169123,
          0.00356828,
          0.0020085669
         ],
         "z": [
          9.388314,
          9.660189,
          9.661483
         ]
        },
        {
         "marker": {
          "color": "rgba(44, 160, 44, 0.8)",
          "size": 5,
          "symbol": "circle"
         },
         "mode": "markers",
         "name": "Cluster 2",
         "type": "scatter3d",
         "x": [
          -2.784656,
          -2.637394,
          -2.7148523
         ],
         "y": [
          0.52440065,
          0.3656598,
          0.44484785
         ],
         "z": [
          6.3762536,
          6.225802,
          6.303593
         ]
        },
        {
         "marker": {
          "color": "rgba(214, 39, 40, 0.8)",
          "size": 5,
          "symbol": "circle"
         },
         "mode": "markers",
         "name": "Cluster 3",
         "type": "scatter3d",
         "x": [
          1.070999,
          0.8901792,
          1.3485912,
          1.0449435
         ],
         "y": [
          11.7768955,
          11.955499,
          11.488543,
          11.806094
         ],
         "z": [
          7.47796,
          7.6592584,
          7.234984,
          7.4961147
         ]
        },
        {
         "marker": {
          "color": "rgba(148, 103, 189, 0.8)",
          "size": 5,
          "symbol": "circle"
         },
         "mode": "markers",
         "name": "Cluster 4",
         "type": "scatter3d",
         "x": [
          7.7478375,
          4.6459756,
          3.5172799,
          4.8714504,
          4.8214283,
          3.4179335,
          7.672264
         ],
         "y": [
          6.1529455,
          3.2798538,
          6.1368937,
          3.0541658,
          3.1028843,
          6.0543885,
          6.2388673
         ],
         "z": [
          0.93694806,
          -0.7943822,
          -0.20157719,
          -1.0064774,
          -0.9612684,
          -0.31082106,
          0.85065985
         ]
        },
        {
         "marker": {
          "color": "rgba(140, 86, 75, 0.8)",
          "size": 5,
          "symbol": "circle"
         },
         "mode": "markers",
         "name": "Cluster 5",
         "type": "scatter3d",
         "x": [
          2.7672188,
          2.13504,
          2.2218866,
          2.7327256,
          2.5965347
         ],
         "y": [
          0.78616595,
          1.6698667,
          1.5577691,
          0.82594496,
          0.96663994
         ],
         "z": [
          3.8683603,
          3.148893,
          3.2450945,
          3.8335192,
          3.696039
         ]
        },
        {
         "marker": {
          "color": "rgba(227, 119, 194, 0.8)",
          "size": 5,
          "symbol": "circle"
         },
         "mode": "markers",
         "name": "Cluster 6",
         "type": "scatter3d",
         "x": [
          3.120175,
          2.9967713,
          2.7894583
         ],
         "y": [
          -0.9126287,
          -1.0407132,
          -1.2469385
         ],
         "z": [
          1.2506917,
          1.1239426,
          0.9200942
         ]
        },
        {
         "marker": {
          "color": "rgba(127, 127, 127, 0.8)",
          "size": 5,
          "symbol": "circle"
         },
         "mode": "markers",
         "name": "Cluster 7",
         "type": "scatter3d",
         "x": [
          -0.5705012,
          -0.5564593,
          -0.7465962
         ],
         "y": [
          8.812152,
          8.825947,
          8.635753
         ],
         "z": [
          12.601045,
          12.586869,
          12.777621
         ]
        },
        {
         "marker": {
          "color": "rgba(188, 189, 34, 0.8)",
          "size": 5,
          "symbol": "circle"
         },
         "mode": "markers",
         "name": "Cluster 8",
         "type": "scatter3d",
         "x": [
          4.252265,
          4.182536,
          4.347545
         ],
         "y": [
          3.8893034,
          3.8190014,
          3.982312
         ],
         "z": [
          8.811775,
          8.880911,
          8.718105
         ]
        },
        {
         "marker": {
          "color": "rgba(23, 190, 207, 0.8)",
          "size": 5,
          "symbol": "circle"
         },
         "mode": "markers",
         "name": "Cluster 9",
         "type": "scatter3d",
         "x": [
          3.4459987,
          3.192707,
          3.2186635
         ],
         "y": [
          5.995997,
          6.251969,
          6.226509
         ],
         "z": [
          7.838507,
          7.5838675,
          7.6085505
         ]
        },
        {
         "marker": {
          "color": "black",
          "size": 5,
          "symbol": "x"
         },
         "mode": "markers",
         "name": "Cluster -1",
         "type": "scatter3d",
         "x": [
          2.8230414,
          0.67342734,
          -0.97017866,
          5.1701245,
          2.8229632,
          0.7096015,
          5.165427,
          -0.9704563
         ],
         "y": [
          7.918503,
          4.3967133,
          2.6468406,
          5.6183157,
          7.9195905,
          4.359979,
          5.623029,
          2.647028
         ],
         "z": [
          10.407541,
          9.65707,
          -0.69169027,
          4.4270463,
          10.408887,
          9.621448,
          4.431157,
          -0.6918638
         ]
        },
        {
         "marker": {
          "color": "red",
          "size": 10,
          "symbol": "diamond"
         },
         "mode": "markers",
         "name": "Query",
         "type": "scatter3d",
         "x": [
          -0.6144154667854309
         ],
         "y": [
          8.770240783691406
         ],
         "z": [
          12.645772933959961
         ]
        }
       ],
       "layout": {
        "scene": {
         "xaxis": {
          "title": {
           "text": "x"
          }
         },
         "yaxis": {
          "title": {
           "text": "y"
          }
         },
         "zaxis": {
          "title": {
           "text": "z"
          }
         }
        },
        "template": {
         "data": {
          "bar": [
           {
            "error_x": {
             "color": "#2a3f5f"
            },
            "error_y": {
             "color": "#2a3f5f"
            },
            "marker": {
             "line": {
              "color": "#E5ECF6",
              "width": 0.5
             },
             "pattern": {
              "fillmode": "overlay",
              "size": 10,
              "solidity": 0.2
             }
            },
            "type": "bar"
           }
          ],
          "barpolar": [
           {
            "marker": {
             "line": {
              "color": "#E5ECF6",
              "width": 0.5
             },
             "pattern": {
              "fillmode": "overlay",
              "size": 10,
              "solidity": 0.2
             }
            },
            "type": "barpolar"
           }
          ],
          "carpet": [
           {
            "aaxis": {
             "endlinecolor": "#2a3f5f",
             "gridcolor": "white",
             "linecolor": "white",
             "minorgridcolor": "white",
             "startlinecolor": "#2a3f5f"
            },
            "baxis": {
             "endlinecolor": "#2a3f5f",
             "gridcolor": "white",
             "linecolor": "white",
             "minorgridcolor": "white",
             "startlinecolor": "#2a3f5f"
            },
            "type": "carpet"
           }
          ],
          "choropleth": [
           {
            "colorbar": {
             "outlinewidth": 0,
             "ticks": ""
            },
            "type": "choropleth"
           }
          ],
          "contour": [
           {
            "colorbar": {
             "outlinewidth": 0,
             "ticks": ""
            },
            "colorscale": [
             [
              0,
              "#0d0887"
             ],
             [
              0.1111111111111111,
              "#46039f"
             ],
             [
              0.2222222222222222,
              "#7201a8"
             ],
             [
              0.3333333333333333,
              "#9c179e"
             ],
             [
              0.4444444444444444,
              "#bd3786"
             ],
             [
              0.5555555555555556,
              "#d8576b"
             ],
             [
              0.6666666666666666,
              "#ed7953"
             ],
             [
              0.7777777777777778,
              "#fb9f3a"
             ],
             [
              0.8888888888888888,
              "#fdca26"
             ],
             [
              1,
              "#f0f921"
             ]
            ],
            "type": "contour"
           }
          ],
          "contourcarpet": [
           {
            "colorbar": {
             "outlinewidth": 0,
             "ticks": ""
            },
            "type": "contourcarpet"
           }
          ],
          "heatmap": [
           {
            "colorbar": {
             "outlinewidth": 0,
             "ticks": ""
            },
            "colorscale": [
             [
              0,
              "#0d0887"
             ],
             [
              0.1111111111111111,
              "#46039f"
             ],
             [
              0.2222222222222222,
              "#7201a8"
             ],
             [
              0.3333333333333333,
              "#9c179e"
             ],
             [
              0.4444444444444444,
              "#bd3786"
             ],
             [
              0.5555555555555556,
              "#d8576b"
             ],
             [
              0.6666666666666666,
              "#ed7953"
             ],
             [
              0.7777777777777778,
              "#fb9f3a"
             ],
             [
              0.8888888888888888,
              "#fdca26"
             ],
             [
              1,
              "#f0f921"
             ]
            ],
            "type": "heatmap"
           }
          ],
          "heatmapgl": [
           {
            "colorbar": {
             "outlinewidth": 0,
             "ticks": ""
            },
            "colorscale": [
             [
              0,
              "#0d0887"
             ],
             [
              0.1111111111111111,
              "#46039f"
             ],
             [
              0.2222222222222222,
              "#7201a8"
             ],
             [
              0.3333333333333333,
              "#9c179e"
             ],
             [
              0.4444444444444444,
              "#bd3786"
             ],
             [
              0.5555555555555556,
              "#d8576b"
             ],
             [
              0.6666666666666666,
              "#ed7953"
             ],
             [
              0.7777777777777778,
              "#fb9f3a"
             ],
             [
              0.8888888888888888,
              "#fdca26"
             ],
             [
              1,
              "#f0f921"
             ]
            ],
            "type": "heatmapgl"
           }
          ],
          "histogram": [
           {
            "marker": {
             "pattern": {
              "fillmode": "overlay",
              "size": 10,
              "solidity": 0.2
             }
            },
            "type": "histogram"
           }
          ],
          "histogram2d": [
           {
            "colorbar": {
             "outlinewidth": 0,
             "ticks": ""
            },
            "colorscale": [
             [
              0,
              "#0d0887"
             ],
             [
              0.1111111111111111,
              "#46039f"
             ],
             [
              0.2222222222222222,
              "#7201a8"
             ],
             [
              0.3333333333333333,
              "#9c179e"
             ],
             [
              0.4444444444444444,
              "#bd3786"
             ],
             [
              0.5555555555555556,
              "#d8576b"
             ],
             [
              0.6666666666666666,
              "#ed7953"
             ],
             [
              0.7777777777777778,
              "#fb9f3a"
             ],
             [
              0.8888888888888888,
              "#fdca26"
             ],
             [
              1,
              "#f0f921"
             ]
            ],
            "type": "histogram2d"
           }
          ],
          "histogram2dcontour": [
           {
            "colorbar": {
             "outlinewidth": 0,
             "ticks": ""
            },
            "colorscale": [
             [
              0,
              "#0d0887"
             ],
             [
              0.1111111111111111,
              "#46039f"
             ],
             [
              0.2222222222222222,
              "#7201a8"
             ],
             [
              0.3333333333333333,
              "#9c179e"
             ],
             [
              0.4444444444444444,
              "#bd3786"
             ],
             [
              0.5555555555555556,
              "#d8576b"
             ],
             [
              0.6666666666666666,
              "#ed7953"
             ],
             [
              0.7777777777777778,
              "#fb9f3a"
             ],
             [
              0.8888888888888888,
              "#fdca26"
             ],
             [
              1,
              "#f0f921"
             ]
            ],
            "type": "histogram2dcontour"
           }
          ],
          "mesh3d": [
           {
            "colorbar": {
             "outlinewidth": 0,
             "ticks": ""
            },
            "type": "mesh3d"
           }
          ],
          "parcoords": [
           {
            "line": {
             "colorbar": {
              "outlinewidth": 0,
              "ticks": ""
             }
            },
            "type": "parcoords"
           }
          ],
          "pie": [
           {
            "automargin": true,
            "type": "pie"
           }
          ],
          "scatter": [
           {
            "fillpattern": {
             "fillmode": "overlay",
             "size": 10,
             "solidity": 0.2
            },
            "type": "scatter"
           }
          ],
          "scatter3d": [
           {
            "line": {
             "colorbar": {
              "outlinewidth": 0,
              "ticks": ""
             }
            },
            "marker": {
             "colorbar": {
              "outlinewidth": 0,
              "ticks": ""
             }
            },
            "type": "scatter3d"
           }
          ],
          "scattercarpet": [
           {
            "marker": {
             "colorbar": {
              "outlinewidth": 0,
              "ticks": ""
             }
            },
            "type": "scattercarpet"
           }
          ],
          "scattergeo": [
           {
            "marker": {
             "colorbar": {
              "outlinewidth": 0,
              "ticks": ""
             }
            },
            "type": "scattergeo"
           }
          ],
          "scattergl": [
           {
            "marker": {
             "colorbar": {
              "outlinewidth": 0,
              "ticks": ""
             }
            },
            "type": "scattergl"
           }
          ],
          "scattermapbox": [
           {
            "marker": {
             "colorbar": {
              "outlinewidth": 0,
              "ticks": ""
             }
            },
            "type": "scattermapbox"
           }
          ],
          "scatterpolar": [
           {
            "marker": {
             "colorbar": {
              "outlinewidth": 0,
              "ticks": ""
             }
            },
            "type": "scatterpolar"
           }
          ],
          "scatterpolargl": [
           {
            "marker": {
             "colorbar": {
              "outlinewidth": 0,
              "ticks": ""
             }
            },
            "type": "scatterpolargl"
           }
          ],
          "scatterternary": [
           {
            "marker": {
             "colorbar": {
              "outlinewidth": 0,
              "ticks": ""
             }
            },
            "type": "scatterternary"
           }
          ],
          "surface": [
           {
            "colorbar": {
             "outlinewidth": 0,
             "ticks": ""
            },
            "colorscale": [
             [
              0,
              "#0d0887"
             ],
             [
              0.1111111111111111,
              "#46039f"
             ],
             [
              0.2222222222222222,
              "#7201a8"
             ],
             [
              0.3333333333333333,
              "#9c179e"
             ],
             [
              0.4444444444444444,
              "#bd3786"
             ],
             [
              0.5555555555555556,
              "#d8576b"
             ],
             [
              0.6666666666666666,
              "#ed7953"
             ],
             [
              0.7777777777777778,
              "#fb9f3a"
             ],
             [
              0.8888888888888888,
              "#fdca26"
             ],
             [
              1,
              "#f0f921"
             ]
            ],
            "type": "surface"
           }
          ],
          "table": [
           {
            "cells": {
             "fill": {
              "color": "#EBF0F8"
             },
             "line": {
              "color": "white"
             }
            },
            "header": {
             "fill": {
              "color": "#C8D4E3"
             },
             "line": {
              "color": "white"
             }
            },
            "type": "table"
           }
          ]
         },
         "layout": {
          "annotationdefaults": {
           "arrowcolor": "#2a3f5f",
           "arrowhead": 0,
           "arrowwidth": 1
          },
          "autotypenumbers": "strict",
          "coloraxis": {
           "colorbar": {
            "outlinewidth": 0,
            "ticks": ""
           }
          },
          "colorscale": {
           "diverging": [
            [
             0,
             "#8e0152"
            ],
            [
             0.1,
             "#c51b7d"
            ],
            [
             0.2,
             "#de77ae"
            ],
            [
             0.3,
             "#f1b6da"
            ],
            [
             0.4,
             "#fde0ef"
            ],
            [
             0.5,
             "#f7f7f7"
            ],
            [
             0.6,
             "#e6f5d0"
            ],
            [
             0.7,
             "#b8e186"
            ],
            [
             0.8,
             "#7fbc41"
            ],
            [
             0.9,
             "#4d9221"
            ],
            [
             1,
             "#276419"
            ]
           ],
           "sequential": [
            [
             0,
             "#0d0887"
            ],
            [
             0.1111111111111111,
             "#46039f"
            ],
            [
             0.2222222222222222,
             "#7201a8"
            ],
            [
             0.3333333333333333,
             "#9c179e"
            ],
            [
             0.4444444444444444,
             "#bd3786"
            ],
            [
             0.5555555555555556,
             "#d8576b"
            ],
            [
             0.6666666666666666,
             "#ed7953"
            ],
            [
             0.7777777777777778,
             "#fb9f3a"
            ],
            [
             0.8888888888888888,
             "#fdca26"
            ],
            [
             1,
             "#f0f921"
            ]
           ],
           "sequentialminus": [
            [
             0,
             "#0d0887"
            ],
            [
             0.1111111111111111,
             "#46039f"
            ],
            [
             0.2222222222222222,
             "#7201a8"
            ],
            [
             0.3333333333333333,
             "#9c179e"
            ],
            [
             0.4444444444444444,
             "#bd3786"
            ],
            [
             0.5555555555555556,
             "#d8576b"
            ],
            [
             0.6666666666666666,
             "#ed7953"
            ],
            [
             0.7777777777777778,
             "#fb9f3a"
            ],
            [
             0.8888888888888888,
             "#fdca26"
            ],
            [
             1,
             "#f0f921"
            ]
           ]
          },
          "colorway": [
           "#636efa",
           "#EF553B",
           "#00cc96",
           "#ab63fa",
           "#FFA15A",
           "#19d3f3",
           "#FF6692",
           "#B6E880",
           "#FF97FF",
           "#FECB52"
          ],
          "font": {
           "color": "#2a3f5f"
          },
          "geo": {
           "bgcolor": "white",
           "lakecolor": "white",
           "landcolor": "#E5ECF6",
           "showlakes": true,
           "showland": true,
           "subunitcolor": "white"
          },
          "hoverlabel": {
           "align": "left"
          },
          "hovermode": "closest",
          "mapbox": {
           "style": "light"
          },
          "paper_bgcolor": "white",
          "plot_bgcolor": "#E5ECF6",
          "polar": {
           "angularaxis": {
            "gridcolor": "white",
            "linecolor": "white",
            "ticks": ""
           },
           "bgcolor": "#E5ECF6",
           "radialaxis": {
            "gridcolor": "white",
            "linecolor": "white",
            "ticks": ""
           }
          },
          "scene": {
           "xaxis": {
            "backgroundcolor": "#E5ECF6",
            "gridcolor": "white",
            "gridwidth": 2,
            "linecolor": "white",
            "showbackground": true,
            "ticks": "",
            "zerolinecolor": "white"
           },
           "yaxis": {
            "backgroundcolor": "#E5ECF6",
            "gridcolor": "white",
            "gridwidth": 2,
            "linecolor": "white",
            "showbackground": true,
            "ticks": "",
            "zerolinecolor": "white"
           },
           "zaxis": {
            "backgroundcolor": "#E5ECF6",
            "gridcolor": "white",
            "gridwidth": 2,
            "linecolor": "white",
            "showbackground": true,
            "ticks": "",
            "zerolinecolor": "white"
           }
          },
          "shapedefaults": {
           "line": {
            "color": "#2a3f5f"
           }
          },
          "ternary": {
           "aaxis": {
            "gridcolor": "white",
            "linecolor": "white",
            "ticks": ""
           },
           "baxis": {
            "gridcolor": "white",
            "linecolor": "white",
            "ticks": ""
           },
           "bgcolor": "#E5ECF6",
           "caxis": {
            "gridcolor": "white",
            "linecolor": "white",
            "ticks": ""
           }
          },
          "title": {
           "x": 0.05
          },
          "xaxis": {
           "automargin": true,
           "gridcolor": "white",
           "linecolor": "white",
           "ticks": "",
           "title": {
            "standoff": 15
           },
           "zerolinecolor": "white",
           "zerolinewidth": 2
          },
          "yaxis": {
           "automargin": true,
           "gridcolor": "white",
           "linecolor": "white",
           "ticks": "",
           "title": {
            "standoff": 15
           },
           "zerolinecolor": "white",
           "zerolinewidth": 2
          }
         }
        },
        "title": {
         "text": "3D Cluster Plot of Candidates"
        }
       }
      }
     },
     "metadata": {},
     "output_type": "display_data"
    }
   ],
   "source": [
    "results.plot_search(results_search)"
   ]
  },
  {
   "cell_type": "code",
   "execution_count": 7,
   "metadata": {},
   "outputs": [],
   "source": [
    "import ollama"
   ]
  },
  {
   "cell_type": "code",
   "execution_count": 8,
   "metadata": {},
   "outputs": [
    {
     "name": "stdout",
     "output_type": "stream",
     "text": [
      "No, Wilson did not support the committee system. He believed it was fundamentally undemocratic and facilitated corruption.\n"
     ]
    }
   ],
   "source": [
    "output = ollama.generate(\n",
    "  model=\"llama3\",\n",
    "#   prompt=f\"Given the context information and not prior knowledge: {most_relevant_document}. Answer the query: {prompt}\"\n",
    "  prompt=f\"Given the context information and not prior knowledge, answer the query. knowledge: {results_search['search_results']} the information provided includes similarity score and cluster, query: {prompt} be consist and give a shortest answer\"\n",
    ")\n",
    "\n",
    "\n",
    "print(output['response'])"
   ]
  },
  {
   "cell_type": "code",
   "execution_count": 9,
   "metadata": {},
   "outputs": [
    {
     "name": "stdout",
     "output_type": "stream",
     "text": [
      "Based on the provided context information, there is no mention of Wilson supporting or opposing the committee system. The context only provides biographical information about Woodrow Wilson's life, including his education, career, marriage, and presidency. Therefore, I cannot answer the query as it is not supported by the given context.\n",
      "\n",
      "Similarity score: 0\n",
      "Cluster: None\n"
     ]
    }
   ],
   "source": [
    "output = ollama.generate(\n",
    "  model=\"llama3\",\n",
    "#   prompt=f\"Given the context information and not prior knowledge: {most_relevant_document}. Answer the query: {prompt}\"\n",
    "  prompt=f\"Given the context information and not prior knowledge, answer the query. knowledge: {data_extract} the information provided includes similarity score and cluster, query: {prompt} be consist and direct\"\n",
    ")\n",
    "\n",
    "\n",
    "print(output['response'])"
   ]
  },
  {
   "cell_type": "code",
   "execution_count": 12,
   "metadata": {},
   "outputs": [
    {
     "name": "stdout",
     "output_type": "stream",
     "text": [
      " No, Wilson did not support the committee system due to its undemocratic nature and potential for corruption.\n"
     ]
    }
   ],
   "source": [
    "output = ollama.generate(\n",
    "  model=\"phi3\",\n",
    "#   prompt=f\"Given the context information and not prior knowledge: {most_relevant_document}. Answer the query: {prompt}\"\n",
    "  prompt=f\"Given the context information and not prior knowledge, answer the query. knowledge: {results_search['search_results']} the information provided includes similarity score and cluster, query: {prompt} be consist and give a shortest answer\"\n",
    ")\n",
    "\n",
    "\n",
    "print(output['response'])"
   ]
  },
  {
   "cell_type": "code",
   "execution_count": null,
   "metadata": {},
   "outputs": [],
   "source": []
  }
 ],
 "metadata": {
  "kernelspec": {
   "display_name": "base",
   "language": "python",
   "name": "python3"
  },
  "language_info": {
   "codemirror_mode": {
    "name": "ipython",
    "version": 3
   },
   "file_extension": ".py",
   "mimetype": "text/x-python",
   "name": "python",
   "nbconvert_exporter": "python",
   "pygments_lexer": "ipython3",
   "version": "3.11.7"
  }
 },
 "nbformat": 4,
 "nbformat_minor": 2
}
