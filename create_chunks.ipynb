{
 "cells": [
  {
   "cell_type": "code",
   "execution_count": 13,
   "metadata": {},
   "outputs": [],
   "source": [
    "import utils.load_files as  files\n",
    "from semantic_chunkers.chunkers.statistical import StatisticalChunker\n",
    "from encoder.embedding import Embeddings\n",
    "import os\n",
    "from tqdm.auto import tqdm\n",
    "from utils.utils import save_structure, load_structure\n"
   ]
  },
  {
   "cell_type": "code",
   "execution_count": null,
   "metadata": {},
   "outputs": [],
   "source": [
    "# path = \"../test2/extracted_files/text_data\"\n",
    "# model = \"all-MiniLM-L6-v2\"\n",
    "# text = files.read_folder_file(path)\n",
    "# encoder = Embeddings(type = model)\n",
    "  \n",
    "   \n",
    "    \n",
    "# chunker = StatisticalChunker(encoder=encoder)\n",
    "# chunks = chunker(docs=text)\n",
    "   "
   ]
  },
  {
   "cell_type": "code",
   "execution_count": null,
   "metadata": {},
   "outputs": [],
   "source": [
    "# chunker.print(chunks[0])"
   ]
  },
  {
   "cell_type": "code",
   "execution_count": null,
   "metadata": {},
   "outputs": [],
   "source": [
    "\n",
    "save_structure(chunks, \"./chunks_extracted\")"
   ]
  },
  {
   "cell_type": "code",
   "execution_count": null,
   "metadata": {},
   "outputs": [],
   "source": [
    "data = load_structure(\"./chunks_extracted/chunks.pkl.gz\")"
   ]
  },
  {
   "cell_type": "code",
   "execution_count": 9,
   "metadata": {},
   "outputs": [],
   "source": [
    "def read_file(file_path: str)-> str:\n",
    "    with open(file_path, 'r', encoding='latin-1') as f:\n",
    "        content = f.read()\n",
    "    return content"
   ]
  },
  {
   "cell_type": "code",
   "execution_count": 11,
   "metadata": {},
   "outputs": [
    {
     "data": {
      "application/vnd.jupyter.widget-view+json": {
       "model_id": "2ec2b4200cdb4e5fb06041309c462b0f",
       "version_major": 2,
       "version_minor": 0
      },
      "text/plain": [
       "  0%|          | 0/150 [00:00<?, ?it/s]"
      ]
     },
     "metadata": {},
     "output_type": "display_data"
    },
    {
     "name": "stderr",
     "output_type": "stream",
     "text": [
      "\u001b[32m2024-06-14 18:32:24 INFO semantic_chunkers.utils.logger Single document exceeds the maximum token limit of 300. Splitting to sentences before semantically merging.\u001b[0m\n"
     ]
    },
    {
     "data": {
      "application/vnd.jupyter.widget-view+json": {
       "model_id": "69f8402ff69345d8abc5fae408915e02",
       "version_major": 2,
       "version_minor": 0
      },
      "text/plain": [
       "  0%|          | 0/3 [00:00<?, ?it/s]"
      ]
     },
     "metadata": {},
     "output_type": "display_data"
    },
    {
     "name": "stdout",
     "output_type": "stream",
     "text": [
      "Data structure has been saved to ./chunks_extracted/S09_set4_a7.pkl.gz\n"
     ]
    },
    {
     "name": "stderr",
     "output_type": "stream",
     "text": [
      "\u001b[32m2024-06-14 18:37:17 INFO semantic_chunkers.utils.logger Single document exceeds the maximum token limit of 300. Splitting to sentences before semantically merging.\u001b[0m\n"
     ]
    },
    {
     "data": {
      "application/vnd.jupyter.widget-view+json": {
       "model_id": "1850cdd693f24b929a460b4b9b2ac547",
       "version_major": 2,
       "version_minor": 0
      },
      "text/plain": [
       "  0%|          | 0/3 [00:00<?, ?it/s]"
      ]
     },
     "metadata": {},
     "output_type": "display_data"
    },
    {
     "name": "stdout",
     "output_type": "stream",
     "text": [
      "Data structure has been saved to ./chunks_extracted/S08_set2_a3.pkl.gz\n"
     ]
    },
    {
     "name": "stderr",
     "output_type": "stream",
     "text": [
      "\u001b[32m2024-06-14 18:42:02 INFO semantic_chunkers.utils.logger Single document exceeds the maximum token limit of 300. Splitting to sentences before semantically merging.\u001b[0m\n"
     ]
    },
    {
     "data": {
      "application/vnd.jupyter.widget-view+json": {
       "model_id": "7c925a4f9eee4657b9f77eca9c19a225",
       "version_major": 2,
       "version_minor": 0
      },
      "text/plain": [
       "  0%|          | 0/4 [00:00<?, ?it/s]"
      ]
     },
     "metadata": {},
     "output_type": "display_data"
    },
    {
     "name": "stdout",
     "output_type": "stream",
     "text": [
      "Data structure has been saved to ./chunks_extracted/S10_set1_a5.pkl.gz\n"
     ]
    },
    {
     "name": "stderr",
     "output_type": "stream",
     "text": [
      "\u001b[32m2024-06-14 18:48:01 INFO semantic_chunkers.utils.logger Single document exceeds the maximum token limit of 300. Splitting to sentences before semantically merging.\u001b[0m\n"
     ]
    },
    {
     "data": {
      "application/vnd.jupyter.widget-view+json": {
       "model_id": "ef5e6e0998914615b7b7946b1b6b8b9e",
       "version_major": 2,
       "version_minor": 0
      },
      "text/plain": [
       "  0%|          | 0/1 [00:00<?, ?it/s]"
      ]
     },
     "metadata": {},
     "output_type": "display_data"
    },
    {
     "name": "stdout",
     "output_type": "stream",
     "text": [
      "Data structure has been saved to ./chunks_extracted/S09_set4_a8.pkl.gz\n"
     ]
    },
    {
     "name": "stderr",
     "output_type": "stream",
     "text": [
      "\u001b[32m2024-06-14 18:49:18 INFO semantic_chunkers.utils.logger Single document exceeds the maximum token limit of 300. Splitting to sentences before semantically merging.\u001b[0m\n"
     ]
    },
    {
     "data": {
      "application/vnd.jupyter.widget-view+json": {
       "model_id": "5c5ff9cc9b474073893f603d6e6d9cb9",
       "version_major": 2,
       "version_minor": 0
      },
      "text/plain": [
       "  0%|          | 0/7 [00:00<?, ?it/s]"
      ]
     },
     "metadata": {},
     "output_type": "display_data"
    },
    {
     "name": "stdout",
     "output_type": "stream",
     "text": [
      "Data structure has been saved to ./chunks_extracted/S10_set3_a9.pkl.gz\n"
     ]
    },
    {
     "name": "stderr",
     "output_type": "stream",
     "text": [
      "\u001b[32m2024-06-14 18:58:43 INFO semantic_chunkers.utils.logger Single document exceeds the maximum token limit of 300. Splitting to sentences before semantically merging.\u001b[0m\n"
     ]
    },
    {
     "data": {
      "application/vnd.jupyter.widget-view+json": {
       "model_id": "9253ec1fb13645dfb6aaaeaf7520c3a3",
       "version_major": 2,
       "version_minor": 0
      },
      "text/plain": [
       "  0%|          | 0/3 [00:00<?, ?it/s]"
      ]
     },
     "metadata": {},
     "output_type": "display_data"
    },
    {
     "name": "stdout",
     "output_type": "stream",
     "text": [
      "Data structure has been saved to ./chunks_extracted/S10_set2_a3.pkl.gz\n"
     ]
    },
    {
     "name": "stderr",
     "output_type": "stream",
     "text": [
      "\u001b[32m2024-06-14 19:02:19 INFO semantic_chunkers.utils.logger Single document exceeds the maximum token limit of 300. Splitting to sentences before semantically merging.\u001b[0m\n"
     ]
    },
    {
     "data": {
      "application/vnd.jupyter.widget-view+json": {
       "model_id": "8646e3f14cb1415e90d37eefcd5d8f91",
       "version_major": 2,
       "version_minor": 0
      },
      "text/plain": [
       "  0%|          | 0/10 [00:00<?, ?it/s]"
      ]
     },
     "metadata": {},
     "output_type": "display_data"
    },
    {
     "name": "stdout",
     "output_type": "stream",
     "text": [
      "Data structure has been saved to ./chunks_extracted/S10_set4_a1.pkl.gz\n"
     ]
    },
    {
     "name": "stderr",
     "output_type": "stream",
     "text": [
      "\u001b[32m2024-06-14 19:17:46 INFO semantic_chunkers.utils.logger Single document exceeds the maximum token limit of 300. Splitting to sentences before semantically merging.\u001b[0m\n"
     ]
    },
    {
     "data": {
      "application/vnd.jupyter.widget-view+json": {
       "model_id": "c0c2fd76df1447f186d8ca3004342a17",
       "version_major": 2,
       "version_minor": 0
      },
      "text/plain": [
       "  0%|          | 0/9 [00:00<?, ?it/s]"
      ]
     },
     "metadata": {},
     "output_type": "display_data"
    },
    {
     "name": "stdout",
     "output_type": "stream",
     "text": [
      "Data structure has been saved to ./chunks_extracted/S08_set2_a6.pkl.gz\n"
     ]
    },
    {
     "name": "stderr",
     "output_type": "stream",
     "text": [
      "\u001b[32m2024-06-14 19:30:56 INFO semantic_chunkers.utils.logger Single document exceeds the maximum token limit of 300. Splitting to sentences before semantically merging.\u001b[0m\n"
     ]
    },
    {
     "data": {
      "application/vnd.jupyter.widget-view+json": {
       "model_id": "b9a1b8619bd14aea82ffb5f6f71fbba1",
       "version_major": 2,
       "version_minor": 0
      },
      "text/plain": [
       "  0%|          | 0/8 [00:00<?, ?it/s]"
      ]
     },
     "metadata": {},
     "output_type": "display_data"
    },
    {
     "name": "stdout",
     "output_type": "stream",
     "text": [
      "Data structure has been saved to ./chunks_extracted/S08_set3_a8.pkl.gz\n"
     ]
    },
    {
     "name": "stderr",
     "output_type": "stream",
     "text": [
      "\u001b[32m2024-06-14 19:42:56 INFO semantic_chunkers.utils.logger Single document exceeds the maximum token limit of 300. Splitting to sentences before semantically merging.\u001b[0m\n"
     ]
    },
    {
     "data": {
      "application/vnd.jupyter.widget-view+json": {
       "model_id": "a5f0c0ceadab437d86f0b51b52506596",
       "version_major": 2,
       "version_minor": 0
      },
      "text/plain": [
       "  0%|          | 0/3 [00:00<?, ?it/s]"
      ]
     },
     "metadata": {},
     "output_type": "display_data"
    },
    {
     "name": "stdout",
     "output_type": "stream",
     "text": [
      "Data structure has been saved to ./chunks_extracted/S09_set2_a3.pkl.gz\n"
     ]
    },
    {
     "name": "stderr",
     "output_type": "stream",
     "text": [
      "\u001b[32m2024-06-14 19:47:22 INFO semantic_chunkers.utils.logger Single document exceeds the maximum token limit of 300. Splitting to sentences before semantically merging.\u001b[0m\n"
     ]
    },
    {
     "data": {
      "application/vnd.jupyter.widget-view+json": {
       "model_id": "313633a3acd642e18a60aabff9b8d139",
       "version_major": 2,
       "version_minor": 0
      },
      "text/plain": [
       "  0%|          | 0/4 [00:00<?, ?it/s]"
      ]
     },
     "metadata": {},
     "output_type": "display_data"
    },
    {
     "name": "stdout",
     "output_type": "stream",
     "text": [
      "Data structure has been saved to ./chunks_extracted/S09_set1_a4.pkl.gz\n"
     ]
    },
    {
     "name": "stderr",
     "output_type": "stream",
     "text": [
      "\u001b[32m2024-06-14 19:53:15 INFO semantic_chunkers.utils.logger Single document exceeds the maximum token limit of 300. Splitting to sentences before semantically merging.\u001b[0m\n"
     ]
    },
    {
     "data": {
      "application/vnd.jupyter.widget-view+json": {
       "model_id": "5e477fa53b2d49d492a3f1b63bcda256",
       "version_major": 2,
       "version_minor": 0
      },
      "text/plain": [
       "  0%|          | 0/5 [00:00<?, ?it/s]"
      ]
     },
     "metadata": {},
     "output_type": "display_data"
    },
    {
     "name": "stdout",
     "output_type": "stream",
     "text": [
      "Data structure has been saved to ./chunks_extracted/S10_set6_a2.pkl.gz\n"
     ]
    },
    {
     "name": "stderr",
     "output_type": "stream",
     "text": [
      "\u001b[32m2024-06-14 20:02:06 INFO semantic_chunkers.utils.logger Single document exceeds the maximum token limit of 300. Splitting to sentences before semantically merging.\u001b[0m\n"
     ]
    },
    {
     "data": {
      "application/vnd.jupyter.widget-view+json": {
       "model_id": "ac46c77836264c5eac470b646099583e",
       "version_major": 2,
       "version_minor": 0
      },
      "text/plain": [
       "  0%|          | 0/4 [00:00<?, ?it/s]"
      ]
     },
     "metadata": {},
     "output_type": "display_data"
    },
    {
     "name": "stdout",
     "output_type": "stream",
     "text": [
      "Data structure has been saved to ./chunks_extracted/S08_set1_a2.pkl.gz\n"
     ]
    },
    {
     "name": "stderr",
     "output_type": "stream",
     "text": [
      "\u001b[32m2024-06-14 20:07:54 INFO semantic_chunkers.utils.logger Single document exceeds the maximum token limit of 300. Splitting to sentences before semantically merging.\u001b[0m\n"
     ]
    },
    {
     "data": {
      "application/vnd.jupyter.widget-view+json": {
       "model_id": "f5c23b713472459cba8b721ee1f6326e",
       "version_major": 2,
       "version_minor": 0
      },
      "text/plain": [
       "  0%|          | 0/1 [00:00<?, ?it/s]"
      ]
     },
     "metadata": {},
     "output_type": "display_data"
    },
    {
     "name": "stdout",
     "output_type": "stream",
     "text": [
      "Data structure has been saved to ./chunks_extracted/S08_set4_a9.pkl.gz\n"
     ]
    },
    {
     "name": "stderr",
     "output_type": "stream",
     "text": [
      "\u001b[32m2024-06-14 20:08:29 INFO semantic_chunkers.utils.logger Single document exceeds the maximum token limit of 300. Splitting to sentences before semantically merging.\u001b[0m\n"
     ]
    },
    {
     "data": {
      "application/vnd.jupyter.widget-view+json": {
       "model_id": "d2aef6b89289426eb4905d55bb513938",
       "version_major": 2,
       "version_minor": 0
      },
      "text/plain": [
       "  0%|          | 0/6 [00:00<?, ?it/s]"
      ]
     },
     "metadata": {},
     "output_type": "display_data"
    },
    {
     "name": "stdout",
     "output_type": "stream",
     "text": [
      "Data structure has been saved to ./chunks_extracted/S09_set5_a5.pkl.gz\n"
     ]
    },
    {
     "name": "stderr",
     "output_type": "stream",
     "text": [
      "\u001b[32m2024-06-14 20:16:53 INFO semantic_chunkers.utils.logger Single document exceeds the maximum token limit of 300. Splitting to sentences before semantically merging.\u001b[0m\n"
     ]
    },
    {
     "data": {
      "application/vnd.jupyter.widget-view+json": {
       "model_id": "f28827ce4ff04882be4a739b1542b6c9",
       "version_major": 2,
       "version_minor": 0
      },
      "text/plain": [
       "  0%|          | 0/5 [00:00<?, ?it/s]"
      ]
     },
     "metadata": {},
     "output_type": "display_data"
    },
    {
     "name": "stdout",
     "output_type": "stream",
     "text": [
      "Data structure has been saved to ./chunks_extracted/S10_set4_a7.pkl.gz\n"
     ]
    },
    {
     "name": "stderr",
     "output_type": "stream",
     "text": [
      "\u001b[32m2024-06-14 20:23:21 INFO semantic_chunkers.utils.logger Single document exceeds the maximum token limit of 300. Splitting to sentences before semantically merging.\u001b[0m\n"
     ]
    },
    {
     "data": {
      "application/vnd.jupyter.widget-view+json": {
       "model_id": "a96036a9d3234b359d614312224ff73a",
       "version_major": 2,
       "version_minor": 0
      },
      "text/plain": [
       "  0%|          | 0/4 [00:00<?, ?it/s]"
      ]
     },
     "metadata": {},
     "output_type": "display_data"
    },
    {
     "name": "stdout",
     "output_type": "stream",
     "text": [
      "Data structure has been saved to ./chunks_extracted/S10_set6_a9.pkl.gz\n"
     ]
    },
    {
     "name": "stderr",
     "output_type": "stream",
     "text": [
      "\u001b[32m2024-06-14 20:27:50 INFO semantic_chunkers.utils.logger Single document exceeds the maximum token limit of 300. Splitting to sentences before semantically merging.\u001b[0m\n"
     ]
    },
    {
     "data": {
      "application/vnd.jupyter.widget-view+json": {
       "model_id": "fd4dcef3d8d74163a2ed08a1c50e4081",
       "version_major": 2,
       "version_minor": 0
      },
      "text/plain": [
       "  0%|          | 0/6 [00:00<?, ?it/s]"
      ]
     },
     "metadata": {},
     "output_type": "display_data"
    },
    {
     "name": "stdout",
     "output_type": "stream",
     "text": [
      "Data structure has been saved to ./chunks_extracted/S10_set3_a3.pkl.gz\n"
     ]
    },
    {
     "name": "stderr",
     "output_type": "stream",
     "text": [
      "\u001b[32m2024-06-14 20:35:48 INFO semantic_chunkers.utils.logger Single document exceeds the maximum token limit of 300. Splitting to sentences before semantically merging.\u001b[0m\n"
     ]
    },
    {
     "data": {
      "application/vnd.jupyter.widget-view+json": {
       "model_id": "c6ac777d2e1f4402b24957be930bb540",
       "version_major": 2,
       "version_minor": 0
      },
      "text/plain": [
       "  0%|          | 0/6 [00:00<?, ?it/s]"
      ]
     },
     "metadata": {},
     "output_type": "display_data"
    },
    {
     "name": "stdout",
     "output_type": "stream",
     "text": [
      "Data structure has been saved to ./chunks_extracted/S10_set5_a4.pkl.gz\n"
     ]
    },
    {
     "name": "stderr",
     "output_type": "stream",
     "text": [
      "\u001b[32m2024-06-14 20:43:35 INFO semantic_chunkers.utils.logger Single document exceeds the maximum token limit of 300. Splitting to sentences before semantically merging.\u001b[0m\n"
     ]
    },
    {
     "data": {
      "application/vnd.jupyter.widget-view+json": {
       "model_id": "1c7d7b9f4b504a528c8ca0b39c6b0705",
       "version_major": 2,
       "version_minor": 0
      },
      "text/plain": [
       "  0%|          | 0/7 [00:00<?, ?it/s]"
      ]
     },
     "metadata": {},
     "output_type": "display_data"
    },
    {
     "name": "stdout",
     "output_type": "stream",
     "text": [
      "Data structure has been saved to ./chunks_extracted/S08_set3_a1.pkl.gz\n"
     ]
    },
    {
     "name": "stderr",
     "output_type": "stream",
     "text": [
      "\u001b[32m2024-06-14 20:52:09 INFO semantic_chunkers.utils.logger Single document exceeds the maximum token limit of 300. Splitting to sentences before semantically merging.\u001b[0m\n"
     ]
    },
    {
     "data": {
      "application/vnd.jupyter.widget-view+json": {
       "model_id": "3e17281a8afa469eb26d000c264b8a34",
       "version_major": 2,
       "version_minor": 0
      },
      "text/plain": [
       "  0%|          | 0/7 [00:00<?, ?it/s]"
      ]
     },
     "metadata": {},
     "output_type": "display_data"
    },
    {
     "name": "stdout",
     "output_type": "stream",
     "text": [
      "Data structure has been saved to ./chunks_extracted/S10_set3_a4.pkl.gz\n"
     ]
    },
    {
     "name": "stderr",
     "output_type": "stream",
     "text": [
      "\u001b[32m2024-06-14 21:01:12 INFO semantic_chunkers.utils.logger Single document exceeds the maximum token limit of 300. Splitting to sentences before semantically merging.\u001b[0m\n"
     ]
    },
    {
     "data": {
      "application/vnd.jupyter.widget-view+json": {
       "model_id": "af5837811ab74711889b5b9476e6300c",
       "version_major": 2,
       "version_minor": 0
      },
      "text/plain": [
       "  0%|          | 0/4 [00:00<?, ?it/s]"
      ]
     },
     "metadata": {},
     "output_type": "display_data"
    },
    {
     "name": "stdout",
     "output_type": "stream",
     "text": [
      "Data structure has been saved to ./chunks_extracted/S10_set2_a5.pkl.gz\n"
     ]
    },
    {
     "name": "stderr",
     "output_type": "stream",
     "text": [
      "\u001b[32m2024-06-14 21:06:11 INFO semantic_chunkers.utils.logger Single document exceeds the maximum token limit of 300. Splitting to sentences before semantically merging.\u001b[0m\n"
     ]
    },
    {
     "data": {
      "application/vnd.jupyter.widget-view+json": {
       "model_id": "d1e51d02f1f34d5393e9f64e92504f7a",
       "version_major": 2,
       "version_minor": 0
      },
      "text/plain": [
       "  0%|          | 0/2 [00:00<?, ?it/s]"
      ]
     },
     "metadata": {},
     "output_type": "display_data"
    },
    {
     "name": "stdout",
     "output_type": "stream",
     "text": [
      "Data structure has been saved to ./chunks_extracted/S09_set1_a6.pkl.gz\n"
     ]
    },
    {
     "name": "stderr",
     "output_type": "stream",
     "text": [
      "\u001b[32m2024-06-14 21:07:50 INFO semantic_chunkers.utils.logger Single document exceeds the maximum token limit of 300. Splitting to sentences before semantically merging.\u001b[0m\n"
     ]
    },
    {
     "data": {
      "application/vnd.jupyter.widget-view+json": {
       "model_id": "373d96e4327a406a8c3f649fd79e6e74",
       "version_major": 2,
       "version_minor": 0
      },
      "text/plain": [
       "  0%|          | 0/8 [00:00<?, ?it/s]"
      ]
     },
     "metadata": {},
     "output_type": "display_data"
    },
    {
     "name": "stdout",
     "output_type": "stream",
     "text": [
      "Data structure has been saved to ./chunks_extracted/S10_set3_a2.pkl.gz\n"
     ]
    },
    {
     "name": "stderr",
     "output_type": "stream",
     "text": [
      "\u001b[32m2024-06-14 21:17:42 INFO semantic_chunkers.utils.logger Single document exceeds the maximum token limit of 300. Splitting to sentences before semantically merging.\u001b[0m\n"
     ]
    },
    {
     "data": {
      "application/vnd.jupyter.widget-view+json": {
       "model_id": "059c63843a0e4af8b8ee78e53a7ecb93",
       "version_major": 2,
       "version_minor": 0
      },
      "text/plain": [
       "  0%|          | 0/7 [00:00<?, ?it/s]"
      ]
     },
     "metadata": {},
     "output_type": "display_data"
    },
    {
     "name": "stdout",
     "output_type": "stream",
     "text": [
      "Data structure has been saved to ./chunks_extracted/S10_set6_a3.pkl.gz\n"
     ]
    },
    {
     "name": "stderr",
     "output_type": "stream",
     "text": [
      "\u001b[32m2024-06-14 21:27:16 INFO semantic_chunkers.utils.logger Single document exceeds the maximum token limit of 300. Splitting to sentences before semantically merging.\u001b[0m\n"
     ]
    },
    {
     "data": {
      "application/vnd.jupyter.widget-view+json": {
       "model_id": "ba182e372c944bcc9441a9719f15198e",
       "version_major": 2,
       "version_minor": 0
      },
      "text/plain": [
       "  0%|          | 0/11 [00:00<?, ?it/s]"
      ]
     },
     "metadata": {},
     "output_type": "display_data"
    },
    {
     "name": "stdout",
     "output_type": "stream",
     "text": [
      "Data structure has been saved to ./chunks_extracted/S08_set3_a7.pkl.gz\n"
     ]
    },
    {
     "name": "stderr",
     "output_type": "stream",
     "text": [
      "\u001b[32m2024-06-14 21:42:13 INFO semantic_chunkers.utils.logger Single document exceeds the maximum token limit of 300. Splitting to sentences before semantically merging.\u001b[0m\n"
     ]
    },
    {
     "data": {
      "application/vnd.jupyter.widget-view+json": {
       "model_id": "e87079a034e44e5cb87ef0e67638efb2",
       "version_major": 2,
       "version_minor": 0
      },
      "text/plain": [
       "  0%|          | 0/7 [00:00<?, ?it/s]"
      ]
     },
     "metadata": {},
     "output_type": "display_data"
    },
    {
     "name": "stdout",
     "output_type": "stream",
     "text": [
      "Data structure has been saved to ./chunks_extracted/S09_set4_a1.pkl.gz\n"
     ]
    },
    {
     "name": "stderr",
     "output_type": "stream",
     "text": [
      "\u001b[32m2024-06-14 21:52:11 INFO semantic_chunkers.utils.logger Single document exceeds the maximum token limit of 300. Splitting to sentences before semantically merging.\u001b[0m\n"
     ]
    },
    {
     "data": {
      "application/vnd.jupyter.widget-view+json": {
       "model_id": "28bccbe01a094afc9975b372848d86c1",
       "version_major": 2,
       "version_minor": 0
      },
      "text/plain": [
       "  0%|          | 0/3 [00:00<?, ?it/s]"
      ]
     },
     "metadata": {},
     "output_type": "display_data"
    },
    {
     "name": "stdout",
     "output_type": "stream",
     "text": [
      "Data structure has been saved to ./chunks_extracted/S09_set2_a4.pkl.gz\n"
     ]
    },
    {
     "name": "stderr",
     "output_type": "stream",
     "text": [
      "\u001b[32m2024-06-14 21:55:36 INFO semantic_chunkers.utils.logger Single document exceeds the maximum token limit of 300. Splitting to sentences before semantically merging.\u001b[0m\n"
     ]
    },
    {
     "data": {
      "application/vnd.jupyter.widget-view+json": {
       "model_id": "faddca22258f420d885caa20ca2392f3",
       "version_major": 2,
       "version_minor": 0
      },
      "text/plain": [
       "  0%|          | 0/9 [00:00<?, ?it/s]"
      ]
     },
     "metadata": {},
     "output_type": "display_data"
    },
    {
     "name": "stdout",
     "output_type": "stream",
     "text": [
      "Data structure has been saved to ./chunks_extracted/S09_set1_a3.pkl.gz\n"
     ]
    },
    {
     "name": "stderr",
     "output_type": "stream",
     "text": [
      "\u001b[32m2024-06-14 22:06:56 INFO semantic_chunkers.utils.logger Single document exceeds the maximum token limit of 300. Splitting to sentences before semantically merging.\u001b[0m\n"
     ]
    },
    {
     "data": {
      "application/vnd.jupyter.widget-view+json": {
       "model_id": "b42c7249566440e39ce13033c6e55568",
       "version_major": 2,
       "version_minor": 0
      },
      "text/plain": [
       "  0%|          | 0/10 [00:00<?, ?it/s]"
      ]
     },
     "metadata": {},
     "output_type": "display_data"
    },
    {
     "name": "stdout",
     "output_type": "stream",
     "text": [
      "Data structure has been saved to ./chunks_extracted/S10_set5_a10.pkl.gz\n"
     ]
    },
    {
     "name": "stderr",
     "output_type": "stream",
     "text": [
      "\u001b[32m2024-06-14 22:20:09 INFO semantic_chunkers.utils.logger Single document exceeds the maximum token limit of 300. Splitting to sentences before semantically merging.\u001b[0m\n"
     ]
    },
    {
     "data": {
      "application/vnd.jupyter.widget-view+json": {
       "model_id": "66c2de57c1f043aaa389ac1db4f5e5b2",
       "version_major": 2,
       "version_minor": 0
      },
      "text/plain": [
       "  0%|          | 0/4 [00:00<?, ?it/s]"
      ]
     },
     "metadata": {},
     "output_type": "display_data"
    },
    {
     "name": "stdout",
     "output_type": "stream",
     "text": [
      "Data structure has been saved to ./chunks_extracted/S10_set6_a10.pkl.gz\n"
     ]
    },
    {
     "name": "stderr",
     "output_type": "stream",
     "text": [
      "\u001b[32m2024-06-14 22:26:00 INFO semantic_chunkers.utils.logger Single document exceeds the maximum token limit of 300. Splitting to sentences before semantically merging.\u001b[0m\n"
     ]
    },
    {
     "data": {
      "application/vnd.jupyter.widget-view+json": {
       "model_id": "dd822d4bf8424bd5988b058b053a2806",
       "version_major": 2,
       "version_minor": 0
      },
      "text/plain": [
       "  0%|          | 0/12 [00:00<?, ?it/s]"
      ]
     },
     "metadata": {},
     "output_type": "display_data"
    },
    {
     "name": "stdout",
     "output_type": "stream",
     "text": [
      "Data structure has been saved to ./chunks_extracted/S09_set5_a7.pkl.gz\n"
     ]
    },
    {
     "name": "stderr",
     "output_type": "stream",
     "text": [
      "\u001b[32m2024-06-14 22:42:22 INFO semantic_chunkers.utils.logger Single document exceeds the maximum token limit of 300. Splitting to sentences before semantically merging.\u001b[0m\n"
     ]
    },
    {
     "data": {
      "application/vnd.jupyter.widget-view+json": {
       "model_id": "6c226e120bc6439296cf1b5f81208f7b",
       "version_major": 2,
       "version_minor": 0
      },
      "text/plain": [
       "  0%|          | 0/4 [00:00<?, ?it/s]"
      ]
     },
     "metadata": {},
     "output_type": "display_data"
    },
    {
     "name": "stdout",
     "output_type": "stream",
     "text": [
      "Data structure has been saved to ./chunks_extracted/S09_set1_a8.pkl.gz\n"
     ]
    },
    {
     "name": "stderr",
     "output_type": "stream",
     "text": [
      "\u001b[32m2024-06-14 22:47:03 INFO semantic_chunkers.utils.logger Single document exceeds the maximum token limit of 300. Splitting to sentences before semantically merging.\u001b[0m\n"
     ]
    },
    {
     "data": {
      "application/vnd.jupyter.widget-view+json": {
       "model_id": "166d68e459144114a799777ecf74b3ef",
       "version_major": 2,
       "version_minor": 0
      },
      "text/plain": [
       "  0%|          | 0/3 [00:00<?, ?it/s]"
      ]
     },
     "metadata": {},
     "output_type": "display_data"
    },
    {
     "name": "stdout",
     "output_type": "stream",
     "text": [
      "Data structure has been saved to ./chunks_extracted/S08_set1_a1.pkl.gz\n"
     ]
    },
    {
     "name": "stderr",
     "output_type": "stream",
     "text": [
      "\u001b[32m2024-06-14 22:50:03 INFO semantic_chunkers.utils.logger Single document exceeds the maximum token limit of 300. Splitting to sentences before semantically merging.\u001b[0m\n"
     ]
    },
    {
     "data": {
      "application/vnd.jupyter.widget-view+json": {
       "model_id": "869e5ed67f894a29a3faae073bf6e5b2",
       "version_major": 2,
       "version_minor": 0
      },
      "text/plain": [
       "  0%|          | 0/3 [00:00<?, ?it/s]"
      ]
     },
     "metadata": {},
     "output_type": "display_data"
    },
    {
     "name": "stdout",
     "output_type": "stream",
     "text": [
      "Data structure has been saved to ./chunks_extracted/S09_set4_a2.pkl.gz\n"
     ]
    },
    {
     "name": "stderr",
     "output_type": "stream",
     "text": [
      "\u001b[32m2024-06-14 22:53:06 INFO semantic_chunkers.utils.logger Single document exceeds the maximum token limit of 300. Splitting to sentences before semantically merging.\u001b[0m\n"
     ]
    },
    {
     "data": {
      "application/vnd.jupyter.widget-view+json": {
       "model_id": "458ba39559314c6798cc754d0fac2db2",
       "version_major": 2,
       "version_minor": 0
      },
      "text/plain": [
       "  0%|          | 0/7 [00:00<?, ?it/s]"
      ]
     },
     "metadata": {},
     "output_type": "display_data"
    },
    {
     "name": "stdout",
     "output_type": "stream",
     "text": [
      "Data structure has been saved to ./chunks_extracted/S10_set3_a8.pkl.gz\n"
     ]
    },
    {
     "name": "stderr",
     "output_type": "stream",
     "text": [
      "\u001b[32m2024-06-14 23:02:23 INFO semantic_chunkers.utils.logger Single document exceeds the maximum token limit of 300. Splitting to sentences before semantically merging.\u001b[0m\n"
     ]
    },
    {
     "data": {
      "application/vnd.jupyter.widget-view+json": {
       "model_id": "97d2e1d3f578461b9356b335f23ff2e7",
       "version_major": 2,
       "version_minor": 0
      },
      "text/plain": [
       "  0%|          | 0/9 [00:00<?, ?it/s]"
      ]
     },
     "metadata": {},
     "output_type": "display_data"
    },
    {
     "name": "stdout",
     "output_type": "stream",
     "text": [
      "Data structure has been saved to ./chunks_extracted/S08_set3_a10.pkl.gz\n"
     ]
    },
    {
     "name": "stderr",
     "output_type": "stream",
     "text": [
      "\u001b[32m2024-06-14 23:14:21 INFO semantic_chunkers.utils.logger Single document exceeds the maximum token limit of 300. Splitting to sentences before semantically merging.\u001b[0m\n"
     ]
    },
    {
     "data": {
      "application/vnd.jupyter.widget-view+json": {
       "model_id": "d13692d66d5b42efb9ededb906ff9398",
       "version_major": 2,
       "version_minor": 0
      },
      "text/plain": [
       "  0%|          | 0/1 [00:00<?, ?it/s]"
      ]
     },
     "metadata": {},
     "output_type": "display_data"
    },
    {
     "name": "stdout",
     "output_type": "stream",
     "text": [
      "Data structure has been saved to ./chunks_extracted/S09_set4_a10.pkl.gz\n"
     ]
    },
    {
     "name": "stderr",
     "output_type": "stream",
     "text": [
      "\u001b[32m2024-06-14 23:15:29 INFO semantic_chunkers.utils.logger Single document exceeds the maximum token limit of 300. Splitting to sentences before semantically merging.\u001b[0m\n"
     ]
    },
    {
     "data": {
      "application/vnd.jupyter.widget-view+json": {
       "model_id": "f17accc522ae4af8824c234d174dad7a",
       "version_major": 2,
       "version_minor": 0
      },
      "text/plain": [
       "  0%|          | 0/5 [00:00<?, ?it/s]"
      ]
     },
     "metadata": {},
     "output_type": "display_data"
    },
    {
     "name": "stdout",
     "output_type": "stream",
     "text": [
      "Data structure has been saved to ./chunks_extracted/S10_set6_a6.pkl.gz\n"
     ]
    },
    {
     "name": "stderr",
     "output_type": "stream",
     "text": [
      "\u001b[32m2024-06-14 23:21:40 INFO semantic_chunkers.utils.logger Single document exceeds the maximum token limit of 300. Splitting to sentences before semantically merging.\u001b[0m\n"
     ]
    },
    {
     "data": {
      "application/vnd.jupyter.widget-view+json": {
       "model_id": "124577ce76464634a64e6e82ccbd46e1",
       "version_major": 2,
       "version_minor": 0
      },
      "text/plain": [
       "  0%|          | 0/5 [00:00<?, ?it/s]"
      ]
     },
     "metadata": {},
     "output_type": "display_data"
    },
    {
     "name": "stdout",
     "output_type": "stream",
     "text": [
      "Data structure has been saved to ./chunks_extracted/S10_set6_a8.pkl.gz\n"
     ]
    },
    {
     "name": "stderr",
     "output_type": "stream",
     "text": [
      "\u001b[32m2024-06-14 23:27:31 INFO semantic_chunkers.utils.logger Single document exceeds the maximum token limit of 300. Splitting to sentences before semantically merging.\u001b[0m\n"
     ]
    },
    {
     "data": {
      "application/vnd.jupyter.widget-view+json": {
       "model_id": "bc833c53f8004746ab0da004ce99142c",
       "version_major": 2,
       "version_minor": 0
      },
      "text/plain": [
       "  0%|          | 0/1 [00:00<?, ?it/s]"
      ]
     },
     "metadata": {},
     "output_type": "display_data"
    },
    {
     "name": "stdout",
     "output_type": "stream",
     "text": [
      "Data structure has been saved to ./chunks_extracted/S10_set4_a6.pkl.gz\n"
     ]
    },
    {
     "name": "stderr",
     "output_type": "stream",
     "text": [
      "\u001b[32m2024-06-14 23:28:42 INFO semantic_chunkers.utils.logger Single document exceeds the maximum token limit of 300. Splitting to sentences before semantically merging.\u001b[0m\n"
     ]
    },
    {
     "data": {
      "application/vnd.jupyter.widget-view+json": {
       "model_id": "20e1be8c0bfb441597905919e5199b86",
       "version_major": 2,
       "version_minor": 0
      },
      "text/plain": [
       "  0%|          | 0/2 [00:00<?, ?it/s]"
      ]
     },
     "metadata": {},
     "output_type": "display_data"
    },
    {
     "name": "stdout",
     "output_type": "stream",
     "text": [
      "Data structure has been saved to ./chunks_extracted/S10_set1_a8.pkl.gz\n"
     ]
    },
    {
     "name": "stderr",
     "output_type": "stream",
     "text": [
      "\u001b[32m2024-06-14 23:30:52 INFO semantic_chunkers.utils.logger Single document exceeds the maximum token limit of 300. Splitting to sentences before semantically merging.\u001b[0m\n"
     ]
    },
    {
     "data": {
      "application/vnd.jupyter.widget-view+json": {
       "model_id": "d4bcd18ba4a04c8c8fec2471c3eb5209",
       "version_major": 2,
       "version_minor": 0
      },
      "text/plain": [
       "  0%|          | 0/8 [00:00<?, ?it/s]"
      ]
     },
     "metadata": {},
     "output_type": "display_data"
    },
    {
     "name": "stdout",
     "output_type": "stream",
     "text": [
      "Data structure has been saved to ./chunks_extracted/S10_set2_a7.pkl.gz\n"
     ]
    },
    {
     "name": "stderr",
     "output_type": "stream",
     "text": [
      "\u001b[32m2024-06-14 23:40:29 INFO semantic_chunkers.utils.logger Single document exceeds the maximum token limit of 300. Splitting to sentences before semantically merging.\u001b[0m\n"
     ]
    },
    {
     "data": {
      "application/vnd.jupyter.widget-view+json": {
       "model_id": "30bc36bef1354806bfadd48e6eee43e8",
       "version_major": 2,
       "version_minor": 0
      },
      "text/plain": [
       "  0%|          | 0/2 [00:00<?, ?it/s]"
      ]
     },
     "metadata": {},
     "output_type": "display_data"
    },
    {
     "name": "stdout",
     "output_type": "stream",
     "text": [
      "Data structure has been saved to ./chunks_extracted/S10_set1_a7.pkl.gz\n"
     ]
    },
    {
     "name": "stderr",
     "output_type": "stream",
     "text": [
      "\u001b[32m2024-06-14 23:42:56 INFO semantic_chunkers.utils.logger Single document exceeds the maximum token limit of 300. Splitting to sentences before semantically merging.\u001b[0m\n"
     ]
    },
    {
     "data": {
      "application/vnd.jupyter.widget-view+json": {
       "model_id": "a7223811340842d7804915c865ef8efb",
       "version_major": 2,
       "version_minor": 0
      },
      "text/plain": [
       "  0%|          | 0/5 [00:00<?, ?it/s]"
      ]
     },
     "metadata": {},
     "output_type": "display_data"
    },
    {
     "name": "stdout",
     "output_type": "stream",
     "text": [
      "Data structure has been saved to ./chunks_extracted/S10_set1_a10.pkl.gz\n"
     ]
    },
    {
     "name": "stderr",
     "output_type": "stream",
     "text": [
      "\u001b[32m2024-06-14 23:49:16 INFO semantic_chunkers.utils.logger Single document exceeds the maximum token limit of 300. Splitting to sentences before semantically merging.\u001b[0m\n"
     ]
    },
    {
     "data": {
      "application/vnd.jupyter.widget-view+json": {
       "model_id": "4e77db9c67eb4b5ea51f96fe0c454f9c",
       "version_major": 2,
       "version_minor": 0
      },
      "text/plain": [
       "  0%|          | 0/2 [00:00<?, ?it/s]"
      ]
     },
     "metadata": {},
     "output_type": "display_data"
    },
    {
     "name": "stdout",
     "output_type": "stream",
     "text": [
      "Data structure has been saved to ./chunks_extracted/S09_set1_a7.pkl.gz\n"
     ]
    },
    {
     "name": "stderr",
     "output_type": "stream",
     "text": [
      "\u001b[32m2024-06-14 23:50:59 INFO semantic_chunkers.utils.logger Single document exceeds the maximum token limit of 300. Splitting to sentences before semantically merging.\u001b[0m\n"
     ]
    },
    {
     "data": {
      "application/vnd.jupyter.widget-view+json": {
       "model_id": "77b8941a3c654019ac1ec4dae7d15862",
       "version_major": 2,
       "version_minor": 0
      },
      "text/plain": [
       "  0%|          | 0/2 [00:00<?, ?it/s]"
      ]
     },
     "metadata": {},
     "output_type": "display_data"
    },
    {
     "name": "stdout",
     "output_type": "stream",
     "text": [
      "Data structure has been saved to ./chunks_extracted/S10_set2_a8.pkl.gz\n"
     ]
    },
    {
     "name": "stderr",
     "output_type": "stream",
     "text": [
      "\u001b[32m2024-06-14 23:52:39 INFO semantic_chunkers.utils.logger Single document exceeds the maximum token limit of 300. Splitting to sentences before semantically merging.\u001b[0m\n"
     ]
    },
    {
     "data": {
      "application/vnd.jupyter.widget-view+json": {
       "model_id": "51417e37fcfb45f3b3ed0de40cf36dbc",
       "version_major": 2,
       "version_minor": 0
      },
      "text/plain": [
       "  0%|          | 0/1 [00:00<?, ?it/s]"
      ]
     },
     "metadata": {},
     "output_type": "display_data"
    },
    {
     "name": "stdout",
     "output_type": "stream",
     "text": [
      "Data structure has been saved to ./chunks_extracted/S08_set4_a5.pkl.gz\n"
     ]
    },
    {
     "name": "stderr",
     "output_type": "stream",
     "text": [
      "\u001b[32m2024-06-14 23:53:00 INFO semantic_chunkers.utils.logger Single document exceeds the maximum token limit of 300. Splitting to sentences before semantically merging.\u001b[0m\n"
     ]
    },
    {
     "data": {
      "application/vnd.jupyter.widget-view+json": {
       "model_id": "c7124b8591c843b0812c06ba8ed5a109",
       "version_major": 2,
       "version_minor": 0
      },
      "text/plain": [
       "  0%|          | 0/7 [00:00<?, ?it/s]"
      ]
     },
     "metadata": {},
     "output_type": "display_data"
    },
    {
     "name": "stdout",
     "output_type": "stream",
     "text": [
      "Data structure has been saved to ./chunks_extracted/S10_set6_a1.pkl.gz\n"
     ]
    },
    {
     "name": "stderr",
     "output_type": "stream",
     "text": [
      "\u001b[32m2024-06-15 00:02:00 INFO semantic_chunkers.utils.logger Single document exceeds the maximum token limit of 300. Splitting to sentences before semantically merging.\u001b[0m\n"
     ]
    },
    {
     "data": {
      "application/vnd.jupyter.widget-view+json": {
       "model_id": "79d26896b7d04300a045de952d8c4314",
       "version_major": 2,
       "version_minor": 0
      },
      "text/plain": [
       "  0%|          | 0/3 [00:00<?, ?it/s]"
      ]
     },
     "metadata": {},
     "output_type": "display_data"
    },
    {
     "name": "stdout",
     "output_type": "stream",
     "text": [
      "Data structure has been saved to ./chunks_extracted/S08_set3_a2.pkl.gz\n"
     ]
    },
    {
     "name": "stderr",
     "output_type": "stream",
     "text": [
      "\u001b[32m2024-06-15 00:04:49 INFO semantic_chunkers.utils.logger Single document exceeds the maximum token limit of 300. Splitting to sentences before semantically merging.\u001b[0m\n"
     ]
    },
    {
     "data": {
      "application/vnd.jupyter.widget-view+json": {
       "model_id": "e0270d3c9f4242678f6b7e05fcc23943",
       "version_major": 2,
       "version_minor": 0
      },
      "text/plain": [
       "  0%|          | 0/6 [00:00<?, ?it/s]"
      ]
     },
     "metadata": {},
     "output_type": "display_data"
    },
    {
     "name": "stdout",
     "output_type": "stream",
     "text": [
      "Data structure has been saved to ./chunks_extracted/S10_set4_a4.pkl.gz\n"
     ]
    },
    {
     "name": "stderr",
     "output_type": "stream",
     "text": [
      "\u001b[32m2024-06-15 00:12:30 INFO semantic_chunkers.utils.logger Single document exceeds the maximum token limit of 300. Splitting to sentences before semantically merging.\u001b[0m\n"
     ]
    },
    {
     "data": {
      "application/vnd.jupyter.widget-view+json": {
       "model_id": "1aff45417778462289eb2c9f6d4082a2",
       "version_major": 2,
       "version_minor": 0
      },
      "text/plain": [
       "  0%|          | 0/6 [00:00<?, ?it/s]"
      ]
     },
     "metadata": {},
     "output_type": "display_data"
    },
    {
     "name": "stdout",
     "output_type": "stream",
     "text": [
      "Data structure has been saved to ./chunks_extracted/S09_set5_a3.pkl.gz\n"
     ]
    },
    {
     "name": "stderr",
     "output_type": "stream",
     "text": [
      "\u001b[32m2024-06-15 00:18:40 INFO semantic_chunkers.utils.logger Single document exceeds the maximum token limit of 300. Splitting to sentences before semantically merging.\u001b[0m\n"
     ]
    },
    {
     "data": {
      "application/vnd.jupyter.widget-view+json": {
       "model_id": "48af422f1dec4a35bece6fa6ec8fd21f",
       "version_major": 2,
       "version_minor": 0
      },
      "text/plain": [
       "  0%|          | 0/7 [00:00<?, ?it/s]"
      ]
     },
     "metadata": {},
     "output_type": "display_data"
    },
    {
     "name": "stdout",
     "output_type": "stream",
     "text": [
      "Data structure has been saved to ./chunks_extracted/S10_set3_a7.pkl.gz\n"
     ]
    },
    {
     "name": "stderr",
     "output_type": "stream",
     "text": [
      "\u001b[32m2024-06-15 00:27:06 INFO semantic_chunkers.utils.logger Single document exceeds the maximum token limit of 300. Splitting to sentences before semantically merging.\u001b[0m\n"
     ]
    },
    {
     "data": {
      "application/vnd.jupyter.widget-view+json": {
       "model_id": "afc42b0e1f6e40b281dc028b6258d786",
       "version_major": 2,
       "version_minor": 0
      },
      "text/plain": [
       "  0%|          | 0/2 [00:00<?, ?it/s]"
      ]
     },
     "metadata": {},
     "output_type": "display_data"
    },
    {
     "name": "stdout",
     "output_type": "stream",
     "text": [
      "Data structure has been saved to ./chunks_extracted/S09_set3_a2.pkl.gz\n"
     ]
    },
    {
     "name": "stderr",
     "output_type": "stream",
     "text": [
      "\u001b[32m2024-06-15 00:28:27 INFO semantic_chunkers.utils.logger Single document exceeds the maximum token limit of 300. Splitting to sentences before semantically merging.\u001b[0m\n"
     ]
    },
    {
     "data": {
      "application/vnd.jupyter.widget-view+json": {
       "model_id": "d293ba8562744c1ba229f767b02e6471",
       "version_major": 2,
       "version_minor": 0
      },
      "text/plain": [
       "  0%|          | 0/9 [00:00<?, ?it/s]"
      ]
     },
     "metadata": {},
     "output_type": "display_data"
    },
    {
     "name": "stdout",
     "output_type": "stream",
     "text": [
      "Data structure has been saved to ./chunks_extracted/S09_set5_a2.pkl.gz\n"
     ]
    },
    {
     "name": "stderr",
     "output_type": "stream",
     "text": [
      "\u001b[32m2024-06-15 00:39:41 INFO semantic_chunkers.utils.logger Single document exceeds the maximum token limit of 300. Splitting to sentences before semantically merging.\u001b[0m\n"
     ]
    },
    {
     "data": {
      "application/vnd.jupyter.widget-view+json": {
       "model_id": "be773d583ec2422d8168eeb64bec9ee0",
       "version_major": 2,
       "version_minor": 0
      },
      "text/plain": [
       "  0%|          | 0/9 [00:00<?, ?it/s]"
      ]
     },
     "metadata": {},
     "output_type": "display_data"
    },
    {
     "name": "stdout",
     "output_type": "stream",
     "text": [
      "Data structure has been saved to ./chunks_extracted/S08_set3_a5.pkl.gz\n"
     ]
    },
    {
     "name": "stderr",
     "output_type": "stream",
     "text": [
      "\u001b[32m2024-06-15 00:50:54 INFO semantic_chunkers.utils.logger Single document exceeds the maximum token limit of 300. Splitting to sentences before semantically merging.\u001b[0m\n"
     ]
    },
    {
     "data": {
      "application/vnd.jupyter.widget-view+json": {
       "model_id": "57a4d34f234a4187bb8199b1b96d1fa5",
       "version_major": 2,
       "version_minor": 0
      },
      "text/plain": [
       "  0%|          | 0/5 [00:00<?, ?it/s]"
      ]
     },
     "metadata": {},
     "output_type": "display_data"
    },
    {
     "name": "stdout",
     "output_type": "stream",
     "text": [
      "Data structure has been saved to ./chunks_extracted/S08_set1_a4.pkl.gz\n"
     ]
    },
    {
     "name": "stderr",
     "output_type": "stream",
     "text": [
      "\u001b[32m2024-06-15 00:56:02 INFO semantic_chunkers.utils.logger Single document exceeds the maximum token limit of 300. Splitting to sentences before semantically merging.\u001b[0m\n"
     ]
    },
    {
     "data": {
      "application/vnd.jupyter.widget-view+json": {
       "model_id": "4cb9ffb1dc614b8e937de7cb98e75af3",
       "version_major": 2,
       "version_minor": 0
      },
      "text/plain": [
       "  0%|          | 0/5 [00:00<?, ?it/s]"
      ]
     },
     "metadata": {},
     "output_type": "display_data"
    },
    {
     "name": "stdout",
     "output_type": "stream",
     "text": [
      "Data structure has been saved to ./chunks_extracted/S08_set4_a4.pkl.gz\n"
     ]
    },
    {
     "name": "stderr",
     "output_type": "stream",
     "text": [
      "\u001b[32m2024-06-15 01:01:40 INFO semantic_chunkers.utils.logger Single document exceeds the maximum token limit of 300. Splitting to sentences before semantically merging.\u001b[0m\n"
     ]
    },
    {
     "data": {
      "application/vnd.jupyter.widget-view+json": {
       "model_id": "1e5ef35de5b74fd0be6a236962379f1d",
       "version_major": 2,
       "version_minor": 0
      },
      "text/plain": [
       "  0%|          | 0/1 [00:00<?, ?it/s]"
      ]
     },
     "metadata": {},
     "output_type": "display_data"
    },
    {
     "name": "stdout",
     "output_type": "stream",
     "text": [
      "Data structure has been saved to ./chunks_extracted/S08_set4_a6.pkl.gz\n"
     ]
    },
    {
     "name": "stderr",
     "output_type": "stream",
     "text": [
      "\u001b[32m2024-06-15 01:02:47 INFO semantic_chunkers.utils.logger Single document exceeds the maximum token limit of 300. Splitting to sentences before semantically merging.\u001b[0m\n"
     ]
    },
    {
     "data": {
      "application/vnd.jupyter.widget-view+json": {
       "model_id": "c6ff65edfac44da9b090c416edc903f6",
       "version_major": 2,
       "version_minor": 0
      },
      "text/plain": [
       "  0%|          | 0/2 [00:00<?, ?it/s]"
      ]
     },
     "metadata": {},
     "output_type": "display_data"
    },
    {
     "name": "stdout",
     "output_type": "stream",
     "text": [
      "Data structure has been saved to ./chunks_extracted/S08_set1_a7.pkl.gz\n"
     ]
    },
    {
     "name": "stderr",
     "output_type": "stream",
     "text": [
      "\u001b[32m2024-06-15 01:04:11 INFO semantic_chunkers.utils.logger Single document exceeds the maximum token limit of 300. Splitting to sentences before semantically merging.\u001b[0m\n"
     ]
    },
    {
     "data": {
      "application/vnd.jupyter.widget-view+json": {
       "model_id": "fa921e51a2b8434abfac6e36849d966b",
       "version_major": 2,
       "version_minor": 0
      },
      "text/plain": [
       "  0%|          | 0/7 [00:00<?, ?it/s]"
      ]
     },
     "metadata": {},
     "output_type": "display_data"
    },
    {
     "name": "stdout",
     "output_type": "stream",
     "text": [
      "Data structure has been saved to ./chunks_extracted/S10_set5_a9.pkl.gz\n"
     ]
    },
    {
     "name": "stderr",
     "output_type": "stream",
     "text": [
      "\u001b[32m2024-06-15 01:12:48 INFO semantic_chunkers.utils.logger Single document exceeds the maximum token limit of 300. Splitting to sentences before semantically merging.\u001b[0m\n"
     ]
    },
    {
     "data": {
      "application/vnd.jupyter.widget-view+json": {
       "model_id": "336e1d6602c043a5bb6b95f190a72e44",
       "version_major": 2,
       "version_minor": 0
      },
      "text/plain": [
       "  0%|          | 0/7 [00:00<?, ?it/s]"
      ]
     },
     "metadata": {},
     "output_type": "display_data"
    },
    {
     "name": "stdout",
     "output_type": "stream",
     "text": [
      "Data structure has been saved to ./chunks_extracted/S09_set5_a1.pkl.gz\n"
     ]
    },
    {
     "name": "stderr",
     "output_type": "stream",
     "text": [
      "\u001b[32m2024-06-15 01:20:52 INFO semantic_chunkers.utils.logger Single document exceeds the maximum token limit of 300. Splitting to sentences before semantically merging.\u001b[0m\n"
     ]
    },
    {
     "data": {
      "application/vnd.jupyter.widget-view+json": {
       "model_id": "29ed318c17f345f991a6c7fe763533b3",
       "version_major": 2,
       "version_minor": 0
      },
      "text/plain": [
       "  0%|          | 0/3 [00:00<?, ?it/s]"
      ]
     },
     "metadata": {},
     "output_type": "display_data"
    },
    {
     "name": "stdout",
     "output_type": "stream",
     "text": [
      "Data structure has been saved to ./chunks_extracted/S10_set2_a4.pkl.gz\n"
     ]
    },
    {
     "name": "stderr",
     "output_type": "stream",
     "text": [
      "\u001b[32m2024-06-15 01:24:04 INFO semantic_chunkers.utils.logger Single document exceeds the maximum token limit of 300. Splitting to sentences before semantically merging.\u001b[0m\n"
     ]
    },
    {
     "data": {
      "application/vnd.jupyter.widget-view+json": {
       "model_id": "a894a1f36fcd465e889250c2bc8e6761",
       "version_major": 2,
       "version_minor": 0
      },
      "text/plain": [
       "  0%|          | 0/7 [00:00<?, ?it/s]"
      ]
     },
     "metadata": {},
     "output_type": "display_data"
    },
    {
     "name": "stdout",
     "output_type": "stream",
     "text": [
      "Data structure has been saved to ./chunks_extracted/S10_set1_a1.pkl.gz\n"
     ]
    },
    {
     "name": "stderr",
     "output_type": "stream",
     "text": [
      "\u001b[32m2024-06-15 01:32:41 INFO semantic_chunkers.utils.logger Single document exceeds the maximum token limit of 300. Splitting to sentences before semantically merging.\u001b[0m\n"
     ]
    },
    {
     "data": {
      "application/vnd.jupyter.widget-view+json": {
       "model_id": "d29b2808ea434e11b5167f31ffd839b9",
       "version_major": 2,
       "version_minor": 0
      },
      "text/plain": [
       "  0%|          | 0/3 [00:00<?, ?it/s]"
      ]
     },
     "metadata": {},
     "output_type": "display_data"
    },
    {
     "name": "stdout",
     "output_type": "stream",
     "text": [
      "Data structure has been saved to ./chunks_extracted/S08_set1_a3.pkl.gz\n"
     ]
    },
    {
     "name": "stderr",
     "output_type": "stream",
     "text": [
      "\u001b[32m2024-06-15 01:36:01 INFO semantic_chunkers.utils.logger Single document exceeds the maximum token limit of 300. Splitting to sentences before semantically merging.\u001b[0m\n"
     ]
    },
    {
     "data": {
      "application/vnd.jupyter.widget-view+json": {
       "model_id": "3d965df1342d49e89f058aaa09b0ef0e",
       "version_major": 2,
       "version_minor": 0
      },
      "text/plain": [
       "  0%|          | 0/1 [00:00<?, ?it/s]"
      ]
     },
     "metadata": {},
     "output_type": "display_data"
    },
    {
     "name": "stdout",
     "output_type": "stream",
     "text": [
      "Data structure has been saved to ./chunks_extracted/S10_set4_a8.pkl.gz\n"
     ]
    },
    {
     "name": "stderr",
     "output_type": "stream",
     "text": [
      "\u001b[32m2024-06-15 01:37:06 INFO semantic_chunkers.utils.logger Single document exceeds the maximum token limit of 300. Splitting to sentences before semantically merging.\u001b[0m\n"
     ]
    },
    {
     "data": {
      "application/vnd.jupyter.widget-view+json": {
       "model_id": "3de9382db8b64045ab4fb05add32934c",
       "version_major": 2,
       "version_minor": 0
      },
      "text/plain": [
       "  0%|          | 0/9 [00:00<?, ?it/s]"
      ]
     },
     "metadata": {},
     "output_type": "display_data"
    },
    {
     "name": "stdout",
     "output_type": "stream",
     "text": [
      "Data structure has been saved to ./chunks_extracted/S10_set1_a6.pkl.gz\n"
     ]
    },
    {
     "name": "stderr",
     "output_type": "stream",
     "text": [
      "\u001b[32m2024-06-15 01:48:53 INFO semantic_chunkers.utils.logger Single document exceeds the maximum token limit of 300. Splitting to sentences before semantically merging.\u001b[0m\n"
     ]
    },
    {
     "data": {
      "application/vnd.jupyter.widget-view+json": {
       "model_id": "28018b072bba4637ba4b2472f539dde7",
       "version_major": 2,
       "version_minor": 0
      },
      "text/plain": [
       "  0%|          | 0/1 [00:00<?, ?it/s]"
      ]
     },
     "metadata": {},
     "output_type": "display_data"
    },
    {
     "name": "stdout",
     "output_type": "stream",
     "text": [
      "Data structure has been saved to ./chunks_extracted/S09_set4_a5.pkl.gz\n"
     ]
    },
    {
     "name": "stderr",
     "output_type": "stream",
     "text": [
      "\u001b[32m2024-06-15 01:49:12 INFO semantic_chunkers.utils.logger Single document exceeds the maximum token limit of 300. Splitting to sentences before semantically merging.\u001b[0m\n"
     ]
    },
    {
     "data": {
      "application/vnd.jupyter.widget-view+json": {
       "model_id": "0c3a0e9318df472b9edb390cbab4c06e",
       "version_major": 2,
       "version_minor": 0
      },
      "text/plain": [
       "  0%|          | 0/3 [00:00<?, ?it/s]"
      ]
     },
     "metadata": {},
     "output_type": "display_data"
    },
    {
     "name": "stdout",
     "output_type": "stream",
     "text": [
      "Data structure has been saved to ./chunks_extracted/S09_set3_a6.pkl.gz\n"
     ]
    },
    {
     "name": "stderr",
     "output_type": "stream",
     "text": [
      "\u001b[32m2024-06-15 01:52:10 INFO semantic_chunkers.utils.logger Single document exceeds the maximum token limit of 300. Splitting to sentences before semantically merging.\u001b[0m\n"
     ]
    },
    {
     "data": {
      "application/vnd.jupyter.widget-view+json": {
       "model_id": "c553bab3427d4f33a5dd06d2e7926217",
       "version_major": 2,
       "version_minor": 0
      },
      "text/plain": [
       "  0%|          | 0/1 [00:00<?, ?it/s]"
      ]
     },
     "metadata": {},
     "output_type": "display_data"
    },
    {
     "name": "stdout",
     "output_type": "stream",
     "text": [
      "Data structure has been saved to ./chunks_extracted/S08_set4_a8.pkl.gz\n"
     ]
    },
    {
     "name": "stderr",
     "output_type": "stream",
     "text": [
      "\u001b[32m2024-06-15 01:53:23 INFO semantic_chunkers.utils.logger Single document exceeds the maximum token limit of 300. Splitting to sentences before semantically merging.\u001b[0m\n"
     ]
    },
    {
     "data": {
      "application/vnd.jupyter.widget-view+json": {
       "model_id": "47d2385c00f04476bb6d3771367715b9",
       "version_major": 2,
       "version_minor": 0
      },
      "text/plain": [
       "  0%|          | 0/5 [00:00<?, ?it/s]"
      ]
     },
     "metadata": {},
     "output_type": "display_data"
    },
    {
     "name": "stdout",
     "output_type": "stream",
     "text": [
      "Data structure has been saved to ./chunks_extracted/S09_set3_a3.pkl.gz\n"
     ]
    },
    {
     "name": "stderr",
     "output_type": "stream",
     "text": [
      "\u001b[32m2024-06-15 01:58:35 INFO semantic_chunkers.utils.logger Single document exceeds the maximum token limit of 300. Splitting to sentences before semantically merging.\u001b[0m\n"
     ]
    },
    {
     "data": {
      "application/vnd.jupyter.widget-view+json": {
       "model_id": "9846c3764e884d45944a182bf9814feb",
       "version_major": 2,
       "version_minor": 0
      },
      "text/plain": [
       "  0%|          | 0/2 [00:00<?, ?it/s]"
      ]
     },
     "metadata": {},
     "output_type": "display_data"
    },
    {
     "name": "stdout",
     "output_type": "stream",
     "text": [
      "Data structure has been saved to ./chunks_extracted/S10_set2_a6.pkl.gz\n"
     ]
    },
    {
     "name": "stderr",
     "output_type": "stream",
     "text": [
      "\u001b[32m2024-06-15 02:00:36 INFO semantic_chunkers.utils.logger Single document exceeds the maximum token limit of 300. Splitting to sentences before semantically merging.\u001b[0m\n"
     ]
    },
    {
     "data": {
      "application/vnd.jupyter.widget-view+json": {
       "model_id": "3a4e5a9fd0d94defb1eca85d83b9d04a",
       "version_major": 2,
       "version_minor": 0
      },
      "text/plain": [
       "  0%|          | 0/7 [00:00<?, ?it/s]"
      ]
     },
     "metadata": {},
     "output_type": "display_data"
    },
    {
     "name": "stdout",
     "output_type": "stream",
     "text": [
      "Data structure has been saved to ./chunks_extracted/S10_set3_a6.pkl.gz\n"
     ]
    },
    {
     "name": "stderr",
     "output_type": "stream",
     "text": [
      "\u001b[32m2024-06-15 02:08:47 INFO semantic_chunkers.utils.logger Single document exceeds the maximum token limit of 300. Splitting to sentences before semantically merging.\u001b[0m\n"
     ]
    },
    {
     "data": {
      "application/vnd.jupyter.widget-view+json": {
       "model_id": "384d6187caab41e3a7f848d880a82959",
       "version_major": 2,
       "version_minor": 0
      },
      "text/plain": [
       "  0%|          | 0/2 [00:00<?, ?it/s]"
      ]
     },
     "metadata": {},
     "output_type": "display_data"
    },
    {
     "name": "stdout",
     "output_type": "stream",
     "text": [
      "Data structure has been saved to ./chunks_extracted/S10_set2_a10.pkl.gz\n"
     ]
    },
    {
     "name": "stderr",
     "output_type": "stream",
     "text": [
      "\u001b[32m2024-06-15 02:10:58 INFO semantic_chunkers.utils.logger Single document exceeds the maximum token limit of 300. Splitting to sentences before semantically merging.\u001b[0m\n"
     ]
    },
    {
     "data": {
      "application/vnd.jupyter.widget-view+json": {
       "model_id": "cac19a5209bd4d58be4423810ce109f6",
       "version_major": 2,
       "version_minor": 0
      },
      "text/plain": [
       "  0%|          | 0/6 [00:00<?, ?it/s]"
      ]
     },
     "metadata": {},
     "output_type": "display_data"
    },
    {
     "name": "stdout",
     "output_type": "stream",
     "text": [
      "Data structure has been saved to ./chunks_extracted/S10_set5_a8.pkl.gz\n"
     ]
    },
    {
     "name": "stderr",
     "output_type": "stream",
     "text": [
      "\u001b[32m2024-06-15 02:18:52 INFO semantic_chunkers.utils.logger Single document exceeds the maximum token limit of 300. Splitting to sentences before semantically merging.\u001b[0m\n"
     ]
    },
    {
     "data": {
      "application/vnd.jupyter.widget-view+json": {
       "model_id": "50926d032aa842c2a8818a5824b9fb0d",
       "version_major": 2,
       "version_minor": 0
      },
      "text/plain": [
       "  0%|          | 0/7 [00:00<?, ?it/s]"
      ]
     },
     "metadata": {},
     "output_type": "display_data"
    },
    {
     "name": "stdout",
     "output_type": "stream",
     "text": [
      "Data structure has been saved to ./chunks_extracted/S09_set3_a1.pkl.gz\n"
     ]
    },
    {
     "name": "stderr",
     "output_type": "stream",
     "text": [
      "\u001b[32m2024-06-15 02:28:03 INFO semantic_chunkers.utils.logger Single document exceeds the maximum token limit of 300. Splitting to sentences before semantically merging.\u001b[0m\n"
     ]
    },
    {
     "data": {
      "application/vnd.jupyter.widget-view+json": {
       "model_id": "f03cd5f275db441cb536befaacb7d07e",
       "version_major": 2,
       "version_minor": 0
      },
      "text/plain": [
       "  0%|          | 0/7 [00:00<?, ?it/s]"
      ]
     },
     "metadata": {},
     "output_type": "display_data"
    },
    {
     "name": "stdout",
     "output_type": "stream",
     "text": [
      "Data structure has been saved to ./chunks_extracted/S08_set3_a9.pkl.gz\n"
     ]
    },
    {
     "name": "stderr",
     "output_type": "stream",
     "text": [
      "\u001b[32m2024-06-15 02:36:55 INFO semantic_chunkers.utils.logger Single document exceeds the maximum token limit of 300. Splitting to sentences before semantically merging.\u001b[0m\n"
     ]
    },
    {
     "data": {
      "application/vnd.jupyter.widget-view+json": {
       "model_id": "11ae918df23d42e29f90ffb0441f66d7",
       "version_major": 2,
       "version_minor": 0
      },
      "text/plain": [
       "  0%|          | 0/3 [00:00<?, ?it/s]"
      ]
     },
     "metadata": {},
     "output_type": "display_data"
    },
    {
     "name": "stdout",
     "output_type": "stream",
     "text": [
      "Data structure has been saved to ./chunks_extracted/S08_set2_a1.pkl.gz\n"
     ]
    },
    {
     "name": "stderr",
     "output_type": "stream",
     "text": [
      "\u001b[32m2024-06-15 02:40:49 INFO semantic_chunkers.utils.logger Single document exceeds the maximum token limit of 300. Splitting to sentences before semantically merging.\u001b[0m\n"
     ]
    },
    {
     "data": {
      "application/vnd.jupyter.widget-view+json": {
       "model_id": "dae05cc5f55549ba90c2cb52d062f743",
       "version_major": 2,
       "version_minor": 0
      },
      "text/plain": [
       "  0%|          | 0/10 [00:00<?, ?it/s]"
      ]
     },
     "metadata": {},
     "output_type": "display_data"
    },
    {
     "name": "stdout",
     "output_type": "stream",
     "text": [
      "Data structure has been saved to ./chunks_extracted/S10_set3_a1.pkl.gz\n"
     ]
    },
    {
     "name": "stderr",
     "output_type": "stream",
     "text": [
      "\u001b[32m2024-06-15 02:52:22 INFO semantic_chunkers.utils.logger Single document exceeds the maximum token limit of 300. Splitting to sentences before semantically merging.\u001b[0m\n"
     ]
    },
    {
     "data": {
      "application/vnd.jupyter.widget-view+json": {
       "model_id": "9cda3f07efc646688d0e2f4113ca5276",
       "version_major": 2,
       "version_minor": 0
      },
      "text/plain": [
       "  0%|          | 0/11 [00:00<?, ?it/s]"
      ]
     },
     "metadata": {},
     "output_type": "display_data"
    },
    {
     "name": "stdout",
     "output_type": "stream",
     "text": [
      "Data structure has been saved to ./chunks_extracted/S09_set1_a2.pkl.gz\n"
     ]
    },
    {
     "name": "stderr",
     "output_type": "stream",
     "text": [
      "\u001b[32m2024-06-15 03:05:29 INFO semantic_chunkers.utils.logger Single document exceeds the maximum token limit of 300. Splitting to sentences before semantically merging.\u001b[0m\n"
     ]
    },
    {
     "data": {
      "application/vnd.jupyter.widget-view+json": {
       "model_id": "2091589f7b584c52beabc9a6b0e6d2df",
       "version_major": 2,
       "version_minor": 0
      },
      "text/plain": [
       "  0%|          | 0/7 [00:00<?, ?it/s]"
      ]
     },
     "metadata": {},
     "output_type": "display_data"
    },
    {
     "name": "stdout",
     "output_type": "stream",
     "text": [
      "Data structure has been saved to ./chunks_extracted/S10_set5_a1.pkl.gz\n"
     ]
    },
    {
     "name": "stderr",
     "output_type": "stream",
     "text": [
      "\u001b[32m2024-06-15 03:13:25 INFO semantic_chunkers.utils.logger Single document exceeds the maximum token limit of 300. Splitting to sentences before semantically merging.\u001b[0m\n"
     ]
    },
    {
     "data": {
      "application/vnd.jupyter.widget-view+json": {
       "model_id": "64cc7fcd723b49b7bb147862c5aefbd5",
       "version_major": 2,
       "version_minor": 0
      },
      "text/plain": [
       "  0%|          | 0/10 [00:00<?, ?it/s]"
      ]
     },
     "metadata": {},
     "output_type": "display_data"
    },
    {
     "name": "stdout",
     "output_type": "stream",
     "text": [
      "Data structure has been saved to ./chunks_extracted/S10_set6_a7.pkl.gz\n"
     ]
    },
    {
     "name": "stderr",
     "output_type": "stream",
     "text": [
      "\u001b[32m2024-06-15 03:25:59 INFO semantic_chunkers.utils.logger Single document exceeds the maximum token limit of 300. Splitting to sentences before semantically merging.\u001b[0m\n"
     ]
    },
    {
     "data": {
      "application/vnd.jupyter.widget-view+json": {
       "model_id": "2673bedbb8d84a43b6e0ff49a06cba76",
       "version_major": 2,
       "version_minor": 0
      },
      "text/plain": [
       "  0%|          | 0/2 [00:00<?, ?it/s]"
      ]
     },
     "metadata": {},
     "output_type": "display_data"
    },
    {
     "name": "stdout",
     "output_type": "stream",
     "text": [
      "Data structure has been saved to ./chunks_extracted/S09_set2_a6.pkl.gz\n"
     ]
    },
    {
     "name": "stderr",
     "output_type": "stream",
     "text": [
      "\u001b[32m2024-06-15 03:28:04 INFO semantic_chunkers.utils.logger Single document exceeds the maximum token limit of 300. Splitting to sentences before semantically merging.\u001b[0m\n"
     ]
    },
    {
     "data": {
      "application/vnd.jupyter.widget-view+json": {
       "model_id": "bf491c4021084d7ab3c57fb911f5ebb2",
       "version_major": 2,
       "version_minor": 0
      },
      "text/plain": [
       "  0%|          | 0/6 [00:00<?, ?it/s]"
      ]
     },
     "metadata": {},
     "output_type": "display_data"
    },
    {
     "name": "stdout",
     "output_type": "stream",
     "text": [
      "Data structure has been saved to ./chunks_extracted/S10_set1_a4.pkl.gz\n"
     ]
    },
    {
     "name": "stderr",
     "output_type": "stream",
     "text": [
      "\u001b[32m2024-06-15 03:35:05 INFO semantic_chunkers.utils.logger Single document exceeds the maximum token limit of 300. Splitting to sentences before semantically merging.\u001b[0m\n"
     ]
    },
    {
     "data": {
      "application/vnd.jupyter.widget-view+json": {
       "model_id": "550a49071cd84866a551e53ca938d375",
       "version_major": 2,
       "version_minor": 0
      },
      "text/plain": [
       "  0%|          | 0/7 [00:00<?, ?it/s]"
      ]
     },
     "metadata": {},
     "output_type": "display_data"
    },
    {
     "name": "stdout",
     "output_type": "stream",
     "text": [
      "Data structure has been saved to ./chunks_extracted/S08_set4_a1.pkl.gz\n"
     ]
    },
    {
     "name": "stderr",
     "output_type": "stream",
     "text": [
      "\u001b[32m2024-06-15 03:44:19 INFO semantic_chunkers.utils.logger Single document exceeds the maximum token limit of 300. Splitting to sentences before semantically merging.\u001b[0m\n"
     ]
    },
    {
     "data": {
      "application/vnd.jupyter.widget-view+json": {
       "model_id": "d6555c7dde874a6eae1d9846296475fb",
       "version_major": 2,
       "version_minor": 0
      },
      "text/plain": [
       "  0%|          | 0/6 [00:00<?, ?it/s]"
      ]
     },
     "metadata": {},
     "output_type": "display_data"
    },
    {
     "name": "stdout",
     "output_type": "stream",
     "text": [
      "Data structure has been saved to ./chunks_extracted/S09_set5_a9.pkl.gz\n"
     ]
    },
    {
     "name": "stderr",
     "output_type": "stream",
     "text": [
      "\u001b[32m2024-06-15 03:51:47 INFO semantic_chunkers.utils.logger Single document exceeds the maximum token limit of 300. Splitting to sentences before semantically merging.\u001b[0m\n"
     ]
    },
    {
     "data": {
      "application/vnd.jupyter.widget-view+json": {
       "model_id": "da8afaab980446838a4a2da4a786ac60",
       "version_major": 2,
       "version_minor": 0
      },
      "text/plain": [
       "  0%|          | 0/2 [00:00<?, ?it/s]"
      ]
     },
     "metadata": {},
     "output_type": "display_data"
    },
    {
     "name": "stdout",
     "output_type": "stream",
     "text": [
      "Data structure has been saved to ./chunks_extracted/S09_set1_a10.pkl.gz\n"
     ]
    },
    {
     "name": "stderr",
     "output_type": "stream",
     "text": [
      "\u001b[32m2024-06-15 03:54:22 INFO semantic_chunkers.utils.logger Single document exceeds the maximum token limit of 300. Splitting to sentences before semantically merging.\u001b[0m\n"
     ]
    },
    {
     "data": {
      "application/vnd.jupyter.widget-view+json": {
       "model_id": "6b6a428fe2324c94bb67c1b020f3d2af",
       "version_major": 2,
       "version_minor": 0
      },
      "text/plain": [
       "  0%|          | 0/2 [00:00<?, ?it/s]"
      ]
     },
     "metadata": {},
     "output_type": "display_data"
    },
    {
     "name": "stdout",
     "output_type": "stream",
     "text": [
      "Data structure has been saved to ./chunks_extracted/S09_set2_a8.pkl.gz\n"
     ]
    },
    {
     "name": "stderr",
     "output_type": "stream",
     "text": [
      "\u001b[32m2024-06-15 03:55:57 INFO semantic_chunkers.utils.logger Single document exceeds the maximum token limit of 300. Splitting to sentences before semantically merging.\u001b[0m\n"
     ]
    },
    {
     "data": {
      "application/vnd.jupyter.widget-view+json": {
       "model_id": "e4de926a9db44d36aae7cfe7fd553878",
       "version_major": 2,
       "version_minor": 0
      },
      "text/plain": [
       "  0%|          | 0/10 [00:00<?, ?it/s]"
      ]
     },
     "metadata": {},
     "output_type": "display_data"
    },
    {
     "name": "stdout",
     "output_type": "stream",
     "text": [
      "Data structure has been saved to ./chunks_extracted/S08_set2_a7.pkl.gz\n"
     ]
    },
    {
     "name": "stderr",
     "output_type": "stream",
     "text": [
      "\u001b[32m2024-06-15 04:07:50 INFO semantic_chunkers.utils.logger Single document exceeds the maximum token limit of 300. Splitting to sentences before semantically merging.\u001b[0m\n"
     ]
    },
    {
     "data": {
      "application/vnd.jupyter.widget-view+json": {
       "model_id": "a2deee25d0d24bd5b21148010982566b",
       "version_major": 2,
       "version_minor": 0
      },
      "text/plain": [
       "  0%|          | 0/6 [00:00<?, ?it/s]"
      ]
     },
     "metadata": {},
     "output_type": "display_data"
    },
    {
     "name": "stdout",
     "output_type": "stream",
     "text": [
      "Data structure has been saved to ./chunks_extracted/S10_set5_a3.pkl.gz\n"
     ]
    },
    {
     "name": "stderr",
     "output_type": "stream",
     "text": [
      "\u001b[32m2024-06-15 04:14:13 INFO semantic_chunkers.utils.logger Single document exceeds the maximum token limit of 300. Splitting to sentences before semantically merging.\u001b[0m\n"
     ]
    },
    {
     "data": {
      "application/vnd.jupyter.widget-view+json": {
       "model_id": "79b42a52ee7e45b99f5a0846f74b0bb9",
       "version_major": 2,
       "version_minor": 0
      },
      "text/plain": [
       "  0%|          | 0/6 [00:00<?, ?it/s]"
      ]
     },
     "metadata": {},
     "output_type": "display_data"
    },
    {
     "name": "stdout",
     "output_type": "stream",
     "text": [
      "Data structure has been saved to ./chunks_extracted/S10_set2_a9.pkl.gz\n"
     ]
    },
    {
     "name": "stderr",
     "output_type": "stream",
     "text": [
      "\u001b[32m2024-06-15 04:21:17 INFO semantic_chunkers.utils.logger Single document exceeds the maximum token limit of 300. Splitting to sentences before semantically merging.\u001b[0m\n"
     ]
    },
    {
     "data": {
      "application/vnd.jupyter.widget-view+json": {
       "model_id": "0937b3f7694745ee85da3f134cf2e49e",
       "version_major": 2,
       "version_minor": 0
      },
      "text/plain": [
       "  0%|          | 0/10 [00:00<?, ?it/s]"
      ]
     },
     "metadata": {},
     "output_type": "display_data"
    },
    {
     "name": "stdout",
     "output_type": "stream",
     "text": [
      "Data structure has been saved to ./chunks_extracted/S08_set2_a4.pkl.gz\n"
     ]
    },
    {
     "name": "stderr",
     "output_type": "stream",
     "text": [
      "\u001b[32m2024-06-15 04:33:21 INFO semantic_chunkers.utils.logger Single document exceeds the maximum token limit of 300. Splitting to sentences before semantically merging.\u001b[0m\n"
     ]
    },
    {
     "data": {
      "application/vnd.jupyter.widget-view+json": {
       "model_id": "cdb0db3cdb814de18b0d736afa3daebd",
       "version_major": 2,
       "version_minor": 0
      },
      "text/plain": [
       "  0%|          | 0/2 [00:00<?, ?it/s]"
      ]
     },
     "metadata": {},
     "output_type": "display_data"
    },
    {
     "name": "stdout",
     "output_type": "stream",
     "text": [
      "Data structure has been saved to ./chunks_extracted/S09_set2_a10.pkl.gz\n"
     ]
    },
    {
     "name": "stderr",
     "output_type": "stream",
     "text": [
      "\u001b[32m2024-06-15 04:35:26 INFO semantic_chunkers.utils.logger Single document exceeds the maximum token limit of 300. Splitting to sentences before semantically merging.\u001b[0m\n"
     ]
    },
    {
     "data": {
      "application/vnd.jupyter.widget-view+json": {
       "model_id": "576de361c89b4fa58a3c06940570c3b7",
       "version_major": 2,
       "version_minor": 0
      },
      "text/plain": [
       "  0%|          | 0/2 [00:00<?, ?it/s]"
      ]
     },
     "metadata": {},
     "output_type": "display_data"
    },
    {
     "name": "stdout",
     "output_type": "stream",
     "text": [
      "Data structure has been saved to ./chunks_extracted/S10_set4_a10.pkl.gz\n"
     ]
    },
    {
     "name": "stderr",
     "output_type": "stream",
     "text": [
      "\u001b[32m2024-06-15 04:36:49 INFO semantic_chunkers.utils.logger Single document exceeds the maximum token limit of 300. Splitting to sentences before semantically merging.\u001b[0m\n"
     ]
    },
    {
     "data": {
      "application/vnd.jupyter.widget-view+json": {
       "model_id": "f7a280737df24a0b91fa9ff3f2e93000",
       "version_major": 2,
       "version_minor": 0
      },
      "text/plain": [
       "  0%|          | 0/6 [00:00<?, ?it/s]"
      ]
     },
     "metadata": {},
     "output_type": "display_data"
    },
    {
     "name": "stdout",
     "output_type": "stream",
     "text": [
      "Data structure has been saved to ./chunks_extracted/S09_set5_a4.pkl.gz\n"
     ]
    },
    {
     "name": "stderr",
     "output_type": "stream",
     "text": [
      "\u001b[32m2024-06-15 04:44:21 INFO semantic_chunkers.utils.logger Single document exceeds the maximum token limit of 300. Splitting to sentences before semantically merging.\u001b[0m\n"
     ]
    },
    {
     "data": {
      "application/vnd.jupyter.widget-view+json": {
       "model_id": "e091f0da8df74dedb99e52f05ce3b284",
       "version_major": 2,
       "version_minor": 0
      },
      "text/plain": [
       "  0%|          | 0/5 [00:00<?, ?it/s]"
      ]
     },
     "metadata": {},
     "output_type": "display_data"
    },
    {
     "name": "stdout",
     "output_type": "stream",
     "text": [
      "Data structure has been saved to ./chunks_extracted/S09_set4_a4.pkl.gz\n"
     ]
    },
    {
     "name": "stderr",
     "output_type": "stream",
     "text": [
      "\u001b[32m2024-06-15 04:50:03 INFO semantic_chunkers.utils.logger Single document exceeds the maximum token limit of 300. Splitting to sentences before semantically merging.\u001b[0m\n"
     ]
    },
    {
     "data": {
      "application/vnd.jupyter.widget-view+json": {
       "model_id": "56027db8f3ae4a969261804ff8dd7616",
       "version_major": 2,
       "version_minor": 0
      },
      "text/plain": [
       "  0%|          | 0/9 [00:00<?, ?it/s]"
      ]
     },
     "metadata": {},
     "output_type": "display_data"
    },
    {
     "name": "stdout",
     "output_type": "stream",
     "text": [
      "Data structure has been saved to ./chunks_extracted/S08_set3_a4.pkl.gz\n"
     ]
    },
    {
     "name": "stderr",
     "output_type": "stream",
     "text": [
      "\u001b[32m2024-06-15 05:00:30 INFO semantic_chunkers.utils.logger Single document exceeds the maximum token limit of 300. Splitting to sentences before semantically merging.\u001b[0m\n"
     ]
    },
    {
     "data": {
      "application/vnd.jupyter.widget-view+json": {
       "model_id": "41b3a4600f3a4c63a00b8b7cce54e938",
       "version_major": 2,
       "version_minor": 0
      },
      "text/plain": [
       "  0%|          | 0/3 [00:00<?, ?it/s]"
      ]
     },
     "metadata": {},
     "output_type": "display_data"
    },
    {
     "name": "stdout",
     "output_type": "stream",
     "text": [
      "Data structure has been saved to ./chunks_extracted/S10_set6_a5.pkl.gz\n"
     ]
    },
    {
     "name": "stderr",
     "output_type": "stream",
     "text": [
      "\u001b[32m2024-06-15 05:04:03 INFO semantic_chunkers.utils.logger Single document exceeds the maximum token limit of 300. Splitting to sentences before semantically merging.\u001b[0m\n"
     ]
    },
    {
     "data": {
      "application/vnd.jupyter.widget-view+json": {
       "model_id": "1466d566c8534dd8b63db671d52d98fb",
       "version_major": 2,
       "version_minor": 0
      },
      "text/plain": [
       "  0%|          | 0/6 [00:00<?, ?it/s]"
      ]
     },
     "metadata": {},
     "output_type": "display_data"
    },
    {
     "name": "stdout",
     "output_type": "stream",
     "text": [
      "Data structure has been saved to ./chunks_extracted/S09_set2_a9.pkl.gz\n"
     ]
    },
    {
     "name": "stderr",
     "output_type": "stream",
     "text": [
      "\u001b[32m2024-06-15 05:11:12 INFO semantic_chunkers.utils.logger Single document exceeds the maximum token limit of 300. Splitting to sentences before semantically merging.\u001b[0m\n"
     ]
    },
    {
     "data": {
      "application/vnd.jupyter.widget-view+json": {
       "model_id": "c2168b6c16d14f9fbe4d6a45cd9091e1",
       "version_major": 2,
       "version_minor": 0
      },
      "text/plain": [
       "  0%|          | 0/9 [00:00<?, ?it/s]"
      ]
     },
     "metadata": {},
     "output_type": "display_data"
    },
    {
     "name": "stdout",
     "output_type": "stream",
     "text": [
      "Data structure has been saved to ./chunks_extracted/S08_set1_a5.pkl.gz\n"
     ]
    },
    {
     "name": "stderr",
     "output_type": "stream",
     "text": [
      "\u001b[32m2024-06-15 05:22:37 INFO semantic_chunkers.utils.logger Single document exceeds the maximum token limit of 300. Splitting to sentences before semantically merging.\u001b[0m\n"
     ]
    },
    {
     "data": {
      "application/vnd.jupyter.widget-view+json": {
       "model_id": "2af68cde92b4491b8d009235b355d360",
       "version_major": 2,
       "version_minor": 0
      },
      "text/plain": [
       "  0%|          | 0/6 [00:00<?, ?it/s]"
      ]
     },
     "metadata": {},
     "output_type": "display_data"
    },
    {
     "name": "stdout",
     "output_type": "stream",
     "text": [
      "Data structure has been saved to ./chunks_extracted/S08_set2_a2.pkl.gz\n"
     ]
    },
    {
     "name": "stderr",
     "output_type": "stream",
     "text": [
      "\u001b[32m2024-06-15 05:29:55 INFO semantic_chunkers.utils.logger Single document exceeds the maximum token limit of 300. Splitting to sentences before semantically merging.\u001b[0m\n"
     ]
    },
    {
     "data": {
      "application/vnd.jupyter.widget-view+json": {
       "model_id": "76c06d2c33644871932a44054c09a0c2",
       "version_major": 2,
       "version_minor": 0
      },
      "text/plain": [
       "  0%|          | 0/7 [00:00<?, ?it/s]"
      ]
     },
     "metadata": {},
     "output_type": "display_data"
    },
    {
     "name": "stdout",
     "output_type": "stream",
     "text": [
      "Data structure has been saved to ./chunks_extracted/S09_set2_a2.pkl.gz\n"
     ]
    },
    {
     "name": "stderr",
     "output_type": "stream",
     "text": [
      "\u001b[32m2024-06-15 05:37:32 INFO semantic_chunkers.utils.logger Single document exceeds the maximum token limit of 300. Splitting to sentences before semantically merging.\u001b[0m\n"
     ]
    },
    {
     "data": {
      "application/vnd.jupyter.widget-view+json": {
       "model_id": "e91040839b944fc38613553230b9916f",
       "version_major": 2,
       "version_minor": 0
      },
      "text/plain": [
       "  0%|          | 0/5 [00:00<?, ?it/s]"
      ]
     },
     "metadata": {},
     "output_type": "display_data"
    },
    {
     "name": "stdout",
     "output_type": "stream",
     "text": [
      "Data structure has been saved to ./chunks_extracted/S10_set2_a1.pkl.gz\n"
     ]
    },
    {
     "name": "stderr",
     "output_type": "stream",
     "text": [
      "\u001b[32m2024-06-15 05:44:04 INFO semantic_chunkers.utils.logger Single document exceeds the maximum token limit of 300. Splitting to sentences before semantically merging.\u001b[0m\n"
     ]
    },
    {
     "data": {
      "application/vnd.jupyter.widget-view+json": {
       "model_id": "d1e9ccde7aa947d0947d583e50fa842a",
       "version_major": 2,
       "version_minor": 0
      },
      "text/plain": [
       "  0%|          | 0/4 [00:00<?, ?it/s]"
      ]
     },
     "metadata": {},
     "output_type": "display_data"
    },
    {
     "name": "stdout",
     "output_type": "stream",
     "text": [
      "Data structure has been saved to ./chunks_extracted/S09_set3_a5.pkl.gz\n"
     ]
    },
    {
     "name": "stderr",
     "output_type": "stream",
     "text": [
      "\u001b[32m2024-06-15 05:48:48 INFO semantic_chunkers.utils.logger Single document exceeds the maximum token limit of 300. Splitting to sentences before semantically merging.\u001b[0m\n"
     ]
    },
    {
     "data": {
      "application/vnd.jupyter.widget-view+json": {
       "model_id": "47bc32998dd24833be40abc68d397564",
       "version_major": 2,
       "version_minor": 0
      },
      "text/plain": [
       "  0%|          | 0/5 [00:00<?, ?it/s]"
      ]
     },
     "metadata": {},
     "output_type": "display_data"
    },
    {
     "name": "stdout",
     "output_type": "stream",
     "text": [
      "Data structure has been saved to ./chunks_extracted/S09_set2_a1.pkl.gz\n"
     ]
    },
    {
     "name": "stderr",
     "output_type": "stream",
     "text": [
      "\u001b[32m2024-06-15 05:55:07 INFO semantic_chunkers.utils.logger Single document exceeds the maximum token limit of 300. Splitting to sentences before semantically merging.\u001b[0m\n"
     ]
    },
    {
     "data": {
      "application/vnd.jupyter.widget-view+json": {
       "model_id": "509fd219109f4eff8537d7c6d0e6f744",
       "version_major": 2,
       "version_minor": 0
      },
      "text/plain": [
       "  0%|          | 0/4 [00:00<?, ?it/s]"
      ]
     },
     "metadata": {},
     "output_type": "display_data"
    },
    {
     "name": "stdout",
     "output_type": "stream",
     "text": [
      "Data structure has been saved to ./chunks_extracted/S09_set2_a5.pkl.gz\n"
     ]
    },
    {
     "name": "stderr",
     "output_type": "stream",
     "text": [
      "\u001b[32m2024-06-15 06:00:00 INFO semantic_chunkers.utils.logger Single document exceeds the maximum token limit of 300. Splitting to sentences before semantically merging.\u001b[0m\n"
     ]
    },
    {
     "data": {
      "application/vnd.jupyter.widget-view+json": {
       "model_id": "a60a9b3488404a49a3d937ea97ff2f57",
       "version_major": 2,
       "version_minor": 0
      },
      "text/plain": [
       "  0%|          | 0/3 [00:00<?, ?it/s]"
      ]
     },
     "metadata": {},
     "output_type": "display_data"
    },
    {
     "name": "stdout",
     "output_type": "stream",
     "text": [
      "Data structure has been saved to ./chunks_extracted/S08_set4_a7.pkl.gz\n"
     ]
    },
    {
     "name": "stderr",
     "output_type": "stream",
     "text": [
      "\u001b[32m2024-06-15 06:03:27 INFO semantic_chunkers.utils.logger Single document exceeds the maximum token limit of 300. Splitting to sentences before semantically merging.\u001b[0m\n"
     ]
    },
    {
     "data": {
      "application/vnd.jupyter.widget-view+json": {
       "model_id": "f6865429a5744447b0a887ba4bd0d54d",
       "version_major": 2,
       "version_minor": 0
      },
      "text/plain": [
       "  0%|          | 0/5 [00:00<?, ?it/s]"
      ]
     },
     "metadata": {},
     "output_type": "display_data"
    },
    {
     "name": "stdout",
     "output_type": "stream",
     "text": [
      "Data structure has been saved to ./chunks_extracted/S09_set5_a8.pkl.gz\n"
     ]
    },
    {
     "name": "stderr",
     "output_type": "stream",
     "text": [
      "\u001b[32m2024-06-15 06:09:45 INFO semantic_chunkers.utils.logger Single document exceeds the maximum token limit of 300. Splitting to sentences before semantically merging.\u001b[0m\n"
     ]
    },
    {
     "data": {
      "application/vnd.jupyter.widget-view+json": {
       "model_id": "ae30d68dcc464711b21adcb291dbb9d3",
       "version_major": 2,
       "version_minor": 0
      },
      "text/plain": [
       "  0%|          | 0/7 [00:00<?, ?it/s]"
      ]
     },
     "metadata": {},
     "output_type": "display_data"
    },
    {
     "name": "stdout",
     "output_type": "stream",
     "text": [
      "Data structure has been saved to ./chunks_extracted/S10_set2_a2.pkl.gz\n"
     ]
    },
    {
     "name": "stderr",
     "output_type": "stream",
     "text": [
      "\u001b[32m2024-06-15 06:17:25 INFO semantic_chunkers.utils.logger Single document exceeds the maximum token limit of 300. Splitting to sentences before semantically merging.\u001b[0m\n"
     ]
    },
    {
     "data": {
      "application/vnd.jupyter.widget-view+json": {
       "model_id": "6a1d4b3a559b4af0881e358fc149dc5a",
       "version_major": 2,
       "version_minor": 0
      },
      "text/plain": [
       "  0%|          | 0/3 [00:00<?, ?it/s]"
      ]
     },
     "metadata": {},
     "output_type": "display_data"
    },
    {
     "name": "stdout",
     "output_type": "stream",
     "text": [
      "Data structure has been saved to ./chunks_extracted/S10_set5_a2.pkl.gz\n"
     ]
    },
    {
     "name": "stderr",
     "output_type": "stream",
     "text": [
      "\u001b[32m2024-06-15 06:21:13 INFO semantic_chunkers.utils.logger Single document exceeds the maximum token limit of 300. Splitting to sentences before semantically merging.\u001b[0m\n"
     ]
    },
    {
     "data": {
      "application/vnd.jupyter.widget-view+json": {
       "model_id": "e06dbd7dedad4719a35e06c738b3d02b",
       "version_major": 2,
       "version_minor": 0
      },
      "text/plain": [
       "  0%|          | 0/1 [00:00<?, ?it/s]"
      ]
     },
     "metadata": {},
     "output_type": "display_data"
    },
    {
     "name": "stdout",
     "output_type": "stream",
     "text": [
      "Data structure has been saved to ./chunks_extracted/S08_set4_a10.pkl.gz\n"
     ]
    },
    {
     "name": "stderr",
     "output_type": "stream",
     "text": [
      "\u001b[32m2024-06-15 06:22:20 INFO semantic_chunkers.utils.logger Single document exceeds the maximum token limit of 300. Splitting to sentences before semantically merging.\u001b[0m\n"
     ]
    },
    {
     "data": {
      "application/vnd.jupyter.widget-view+json": {
       "model_id": "852c6c3db0774663a2b683ce216e1b6e",
       "version_major": 2,
       "version_minor": 0
      },
      "text/plain": [
       "  0%|          | 0/3 [00:00<?, ?it/s]"
      ]
     },
     "metadata": {},
     "output_type": "display_data"
    },
    {
     "name": "stdout",
     "output_type": "stream",
     "text": [
      "Data structure has been saved to ./chunks_extracted/S08_set4_a2.pkl.gz\n"
     ]
    },
    {
     "name": "stderr",
     "output_type": "stream",
     "text": [
      "\u001b[32m2024-06-15 06:25:19 INFO semantic_chunkers.utils.logger Single document exceeds the maximum token limit of 300. Splitting to sentences before semantically merging.\u001b[0m\n"
     ]
    },
    {
     "data": {
      "application/vnd.jupyter.widget-view+json": {
       "model_id": "a3f5c7848f1d407799cb1d306d8ce134",
       "version_major": 2,
       "version_minor": 0
      },
      "text/plain": [
       "  0%|          | 0/13 [00:00<?, ?it/s]"
      ]
     },
     "metadata": {},
     "output_type": "display_data"
    },
    {
     "name": "stdout",
     "output_type": "stream",
     "text": [
      "Data structure has been saved to ./chunks_extracted/S10_set4_a3.pkl.gz\n"
     ]
    },
    {
     "name": "stderr",
     "output_type": "stream",
     "text": [
      "\u001b[32m2024-06-15 06:41:59 INFO semantic_chunkers.utils.logger Single document exceeds the maximum token limit of 300. Splitting to sentences before semantically merging.\u001b[0m\n"
     ]
    },
    {
     "data": {
      "application/vnd.jupyter.widget-view+json": {
       "model_id": "dafac9f0485a468589a5599b720bf421",
       "version_major": 2,
       "version_minor": 0
      },
      "text/plain": [
       "  0%|          | 0/1 [00:00<?, ?it/s]"
      ]
     },
     "metadata": {},
     "output_type": "display_data"
    },
    {
     "name": "stdout",
     "output_type": "stream",
     "text": [
      "Data structure has been saved to ./chunks_extracted/S09_set4_a6.pkl.gz\n"
     ]
    },
    {
     "name": "stderr",
     "output_type": "stream",
     "text": [
      "\u001b[32m2024-06-15 06:43:12 INFO semantic_chunkers.utils.logger Single document exceeds the maximum token limit of 300. Splitting to sentences before semantically merging.\u001b[0m\n"
     ]
    },
    {
     "data": {
      "application/vnd.jupyter.widget-view+json": {
       "model_id": "e2d094e51842419bab307bc9f11bf23e",
       "version_major": 2,
       "version_minor": 0
      },
      "text/plain": [
       "  0%|          | 0/3 [00:00<?, ?it/s]"
      ]
     },
     "metadata": {},
     "output_type": "display_data"
    },
    {
     "name": "stdout",
     "output_type": "stream",
     "text": [
      "Data structure has been saved to ./chunks_extracted/S08_set2_a5.pkl.gz\n"
     ]
    },
    {
     "name": "stderr",
     "output_type": "stream",
     "text": [
      "\u001b[32m2024-06-15 06:45:56 INFO semantic_chunkers.utils.logger Single document exceeds the maximum token limit of 300. Splitting to sentences before semantically merging.\u001b[0m\n"
     ]
    },
    {
     "data": {
      "application/vnd.jupyter.widget-view+json": {
       "model_id": "1d0a05e93fa548e7aeb74d5fba3e9f38",
       "version_major": 2,
       "version_minor": 0
      },
      "text/plain": [
       "  0%|          | 0/5 [00:00<?, ?it/s]"
      ]
     },
     "metadata": {},
     "output_type": "display_data"
    },
    {
     "name": "stdout",
     "output_type": "stream",
     "text": [
      "Data structure has been saved to ./chunks_extracted/S09_set3_a9.pkl.gz\n"
     ]
    },
    {
     "name": "stderr",
     "output_type": "stream",
     "text": [
      "\u001b[32m2024-06-15 06:51:29 INFO semantic_chunkers.utils.logger Single document exceeds the maximum token limit of 300. Splitting to sentences before semantically merging.\u001b[0m\n"
     ]
    },
    {
     "data": {
      "application/vnd.jupyter.widget-view+json": {
       "model_id": "0271e981cf934172b0d59840362034d8",
       "version_major": 2,
       "version_minor": 0
      },
      "text/plain": [
       "  0%|          | 0/5 [00:00<?, ?it/s]"
      ]
     },
     "metadata": {},
     "output_type": "display_data"
    },
    {
     "name": "stdout",
     "output_type": "stream",
     "text": [
      "Data structure has been saved to ./chunks_extracted/S10_set1_a2.pkl.gz\n"
     ]
    },
    {
     "name": "stderr",
     "output_type": "stream",
     "text": [
      "\u001b[32m2024-06-15 06:57:44 INFO semantic_chunkers.utils.logger Single document exceeds the maximum token limit of 300. Splitting to sentences before semantically merging.\u001b[0m\n"
     ]
    },
    {
     "data": {
      "application/vnd.jupyter.widget-view+json": {
       "model_id": "3473b0b9999c43bcac551ec806c3c6cc",
       "version_major": 2,
       "version_minor": 0
      },
      "text/plain": [
       "  0%|          | 0/10 [00:00<?, ?it/s]"
      ]
     },
     "metadata": {},
     "output_type": "display_data"
    },
    {
     "name": "stdout",
     "output_type": "stream",
     "text": [
      "Data structure has been saved to ./chunks_extracted/S09_set4_a3.pkl.gz\n"
     ]
    },
    {
     "name": "stderr",
     "output_type": "stream",
     "text": [
      "\u001b[32m2024-06-15 07:09:56 INFO semantic_chunkers.utils.logger Single document exceeds the maximum token limit of 300. Splitting to sentences before semantically merging.\u001b[0m\n"
     ]
    },
    {
     "data": {
      "application/vnd.jupyter.widget-view+json": {
       "model_id": "02baabb3cfd74fee9872c5d30d37ba5e",
       "version_major": 2,
       "version_minor": 0
      },
      "text/plain": [
       "  0%|          | 0/8 [00:00<?, ?it/s]"
      ]
     },
     "metadata": {},
     "output_type": "display_data"
    },
    {
     "name": "stdout",
     "output_type": "stream",
     "text": [
      "Data structure has been saved to ./chunks_extracted/S09_set2_a7.pkl.gz\n"
     ]
    },
    {
     "name": "stderr",
     "output_type": "stream",
     "text": [
      "\u001b[32m2024-06-15 07:19:26 INFO semantic_chunkers.utils.logger Single document exceeds the maximum token limit of 300. Splitting to sentences before semantically merging.\u001b[0m\n"
     ]
    },
    {
     "data": {
      "application/vnd.jupyter.widget-view+json": {
       "model_id": "4f453edf59e64f70817d582bbf6e51f9",
       "version_major": 2,
       "version_minor": 0
      },
      "text/plain": [
       "  0%|          | 0/13 [00:00<?, ?it/s]"
      ]
     },
     "metadata": {},
     "output_type": "display_data"
    },
    {
     "name": "stdout",
     "output_type": "stream",
     "text": [
      "Data structure has been saved to ./chunks_extracted/S09_set5_a6.pkl.gz\n"
     ]
    },
    {
     "name": "stderr",
     "output_type": "stream",
     "text": [
      "\u001b[32m2024-06-15 07:41:21 INFO semantic_chunkers.utils.logger Single document exceeds the maximum token limit of 300. Splitting to sentences before semantically merging.\u001b[0m\n"
     ]
    },
    {
     "data": {
      "application/vnd.jupyter.widget-view+json": {
       "model_id": "9f94ffe78cf44b80a219f1ab4f22a1d2",
       "version_major": 2,
       "version_minor": 0
      },
      "text/plain": [
       "  0%|          | 0/2 [00:00<?, ?it/s]"
      ]
     },
     "metadata": {},
     "output_type": "display_data"
    },
    {
     "name": "stdout",
     "output_type": "stream",
     "text": [
      "Data structure has been saved to ./chunks_extracted/S08_set1_a10.pkl.gz\n"
     ]
    },
    {
     "name": "stderr",
     "output_type": "stream",
     "text": [
      "\u001b[32m2024-06-15 07:42:47 INFO semantic_chunkers.utils.logger Single document exceeds the maximum token limit of 300. Splitting to sentences before semantically merging.\u001b[0m\n"
     ]
    },
    {
     "data": {
      "application/vnd.jupyter.widget-view+json": {
       "model_id": "b49c8b32c3e7444a88bab34c2de66329",
       "version_major": 2,
       "version_minor": 0
      },
      "text/plain": [
       "  0%|          | 0/1 [00:00<?, ?it/s]"
      ]
     },
     "metadata": {},
     "output_type": "display_data"
    },
    {
     "name": "stdout",
     "output_type": "stream",
     "text": [
      "Data structure has been saved to ./chunks_extracted/S08_set1_a9.pkl.gz\n"
     ]
    },
    {
     "name": "stderr",
     "output_type": "stream",
     "text": [
      "\u001b[32m2024-06-15 07:43:49 INFO semantic_chunkers.utils.logger Single document exceeds the maximum token limit of 300. Splitting to sentences before semantically merging.\u001b[0m\n"
     ]
    },
    {
     "data": {
      "application/vnd.jupyter.widget-view+json": {
       "model_id": "2aee2efadcbb46f5b20925ebe0b9cef5",
       "version_major": 2,
       "version_minor": 0
      },
      "text/plain": [
       "  0%|          | 0/3 [00:00<?, ?it/s]"
      ]
     },
     "metadata": {},
     "output_type": "display_data"
    },
    {
     "name": "stdout",
     "output_type": "stream",
     "text": [
      "Data structure has been saved to ./chunks_extracted/S09_set1_a1.pkl.gz\n"
     ]
    },
    {
     "name": "stderr",
     "output_type": "stream",
     "text": [
      "\u001b[32m2024-06-15 07:47:37 INFO semantic_chunkers.utils.logger Single document exceeds the maximum token limit of 300. Splitting to sentences before semantically merging.\u001b[0m\n"
     ]
    },
    {
     "data": {
      "application/vnd.jupyter.widget-view+json": {
       "model_id": "fe6e0607d60645af8dec8afab0be25fa",
       "version_major": 2,
       "version_minor": 0
      },
      "text/plain": [
       "  0%|          | 0/3 [00:00<?, ?it/s]"
      ]
     },
     "metadata": {},
     "output_type": "display_data"
    },
    {
     "name": "stdout",
     "output_type": "stream",
     "text": [
      "Data structure has been saved to ./chunks_extracted/S08_set3_a6.pkl.gz\n"
     ]
    },
    {
     "name": "stderr",
     "output_type": "stream",
     "text": [
      "\u001b[32m2024-06-15 07:51:40 INFO semantic_chunkers.utils.logger Single document exceeds the maximum token limit of 300. Splitting to sentences before semantically merging.\u001b[0m\n"
     ]
    },
    {
     "data": {
      "application/vnd.jupyter.widget-view+json": {
       "model_id": "efa9f452b0b9411ca95d9730a44914b6",
       "version_major": 2,
       "version_minor": 0
      },
      "text/plain": [
       "  0%|          | 0/1 [00:00<?, ?it/s]"
      ]
     },
     "metadata": {},
     "output_type": "display_data"
    },
    {
     "name": "stdout",
     "output_type": "stream",
     "text": [
      "Data structure has been saved to ./chunks_extracted/S10_set4_a5.pkl.gz\n"
     ]
    },
    {
     "name": "stderr",
     "output_type": "stream",
     "text": [
      "\u001b[32m2024-06-15 07:52:44 INFO semantic_chunkers.utils.logger Single document exceeds the maximum token limit of 300. Splitting to sentences before semantically merging.\u001b[0m\n"
     ]
    },
    {
     "data": {
      "application/vnd.jupyter.widget-view+json": {
       "model_id": "0632f839d8d24e2696bcf0dcff5bafc3",
       "version_major": 2,
       "version_minor": 0
      },
      "text/plain": [
       "  0%|          | 0/1 [00:00<?, ?it/s]"
      ]
     },
     "metadata": {},
     "output_type": "display_data"
    },
    {
     "name": "stdout",
     "output_type": "stream",
     "text": [
      "Data structure has been saved to ./chunks_extracted/S10_set4_a9.pkl.gz\n"
     ]
    },
    {
     "name": "stderr",
     "output_type": "stream",
     "text": [
      "\u001b[32m2024-06-15 07:53:30 INFO semantic_chunkers.utils.logger Single document exceeds the maximum token limit of 300. Splitting to sentences before semantically merging.\u001b[0m\n"
     ]
    },
    {
     "data": {
      "application/vnd.jupyter.widget-view+json": {
       "model_id": "3390a72d008848749deb46ac2d2cb8ab",
       "version_major": 2,
       "version_minor": 0
      },
      "text/plain": [
       "  0%|          | 0/10 [00:00<?, ?it/s]"
      ]
     },
     "metadata": {},
     "output_type": "display_data"
    },
    {
     "name": "stdout",
     "output_type": "stream",
     "text": [
      "Data structure has been saved to ./chunks_extracted/S09_set5_a10.pkl.gz\n"
     ]
    },
    {
     "name": "stderr",
     "output_type": "stream",
     "text": [
      "\u001b[32m2024-06-15 08:06:32 INFO semantic_chunkers.utils.logger Single document exceeds the maximum token limit of 300. Splitting to sentences before semantically merging.\u001b[0m\n"
     ]
    },
    {
     "data": {
      "application/vnd.jupyter.widget-view+json": {
       "model_id": "bbd0d5d15a574e4e867f6ee54bba22fa",
       "version_major": 2,
       "version_minor": 0
      },
      "text/plain": [
       "  0%|          | 0/3 [00:00<?, ?it/s]"
      ]
     },
     "metadata": {},
     "output_type": "display_data"
    },
    {
     "name": "stdout",
     "output_type": "stream",
     "text": [
      "Data structure has been saved to ./chunks_extracted/S10_set1_a3.pkl.gz\n"
     ]
    },
    {
     "name": "stderr",
     "output_type": "stream",
     "text": [
      "\u001b[32m2024-06-15 08:09:22 INFO semantic_chunkers.utils.logger Single document exceeds the maximum token limit of 300. Splitting to sentences before semantically merging.\u001b[0m\n"
     ]
    },
    {
     "data": {
      "application/vnd.jupyter.widget-view+json": {
       "model_id": "0658493e2ffd49ae8503105f0672205a",
       "version_major": 2,
       "version_minor": 0
      },
      "text/plain": [
       "  0%|          | 0/5 [00:00<?, ?it/s]"
      ]
     },
     "metadata": {},
     "output_type": "display_data"
    },
    {
     "name": "stdout",
     "output_type": "stream",
     "text": [
      "Data structure has been saved to ./chunks_extracted/S08_set2_a10.pkl.gz\n"
     ]
    },
    {
     "name": "stderr",
     "output_type": "stream",
     "text": [
      "\u001b[32m2024-06-15 08:15:29 INFO semantic_chunkers.utils.logger Single document exceeds the maximum token limit of 300. Splitting to sentences before semantically merging.\u001b[0m\n"
     ]
    },
    {
     "data": {
      "application/vnd.jupyter.widget-view+json": {
       "model_id": "48110cfecf774c5f9006cef27d8fd905",
       "version_major": 2,
       "version_minor": 0
      },
      "text/plain": [
       "  0%|          | 0/5 [00:00<?, ?it/s]"
      ]
     },
     "metadata": {},
     "output_type": "display_data"
    },
    {
     "name": "stdout",
     "output_type": "stream",
     "text": [
      "Data structure has been saved to ./chunks_extracted/S08_set2_a8.pkl.gz\n"
     ]
    },
    {
     "name": "stderr",
     "output_type": "stream",
     "text": [
      "\u001b[32m2024-06-15 08:21:50 INFO semantic_chunkers.utils.logger Single document exceeds the maximum token limit of 300. Splitting to sentences before semantically merging.\u001b[0m\n"
     ]
    },
    {
     "data": {
      "application/vnd.jupyter.widget-view+json": {
       "model_id": "302f52d2bf0c45b0adf95b010296ff36",
       "version_major": 2,
       "version_minor": 0
      },
      "text/plain": [
       "  0%|          | 0/7 [00:00<?, ?it/s]"
      ]
     },
     "metadata": {},
     "output_type": "display_data"
    },
    {
     "name": "stdout",
     "output_type": "stream",
     "text": [
      "Data structure has been saved to ./chunks_extracted/S09_set3_a4.pkl.gz\n"
     ]
    },
    {
     "name": "stderr",
     "output_type": "stream",
     "text": [
      "\u001b[32m2024-06-15 08:31:15 INFO semantic_chunkers.utils.logger Single document exceeds the maximum token limit of 300. Splitting to sentences before semantically merging.\u001b[0m\n"
     ]
    },
    {
     "data": {
      "application/vnd.jupyter.widget-view+json": {
       "model_id": "84ba7a27e603412fbe0b34805396b6e3",
       "version_major": 2,
       "version_minor": 0
      },
      "text/plain": [
       "  0%|          | 0/12 [00:00<?, ?it/s]"
      ]
     },
     "metadata": {},
     "output_type": "display_data"
    },
    {
     "name": "stdout",
     "output_type": "stream",
     "text": [
      "Data structure has been saved to ./chunks_extracted/S10_set3_a10.pkl.gz\n"
     ]
    },
    {
     "name": "stderr",
     "output_type": "stream",
     "text": [
      "\u001b[32m2024-06-15 08:46:36 INFO semantic_chunkers.utils.logger Single document exceeds the maximum token limit of 300. Splitting to sentences before semantically merging.\u001b[0m\n"
     ]
    },
    {
     "data": {
      "application/vnd.jupyter.widget-view+json": {
       "model_id": "ae3826bb8b884bdab2bc317387ae0cfe",
       "version_major": 2,
       "version_minor": 0
      },
      "text/plain": [
       "  0%|          | 0/3 [00:00<?, ?it/s]"
      ]
     },
     "metadata": {},
     "output_type": "display_data"
    },
    {
     "name": "stdout",
     "output_type": "stream",
     "text": [
      "Data structure has been saved to ./chunks_extracted/S08_set1_a8.pkl.gz\n"
     ]
    },
    {
     "name": "stderr",
     "output_type": "stream",
     "text": [
      "\u001b[32m2024-06-15 08:50:16 INFO semantic_chunkers.utils.logger Single document exceeds the maximum token limit of 300. Splitting to sentences before semantically merging.\u001b[0m\n"
     ]
    },
    {
     "data": {
      "application/vnd.jupyter.widget-view+json": {
       "model_id": "e64316052a6d49ecbf092841e3feb3db",
       "version_major": 2,
       "version_minor": 0
      },
      "text/plain": [
       "  0%|          | 0/5 [00:00<?, ?it/s]"
      ]
     },
     "metadata": {},
     "output_type": "display_data"
    },
    {
     "name": "stdout",
     "output_type": "stream",
     "text": [
      "Data structure has been saved to ./chunks_extracted/S09_set3_a10.pkl.gz\n"
     ]
    },
    {
     "name": "stderr",
     "output_type": "stream",
     "text": [
      "\u001b[32m2024-06-15 08:55:25 INFO semantic_chunkers.utils.logger Single document exceeds the maximum token limit of 300. Splitting to sentences before semantically merging.\u001b[0m\n"
     ]
    },
    {
     "data": {
      "application/vnd.jupyter.widget-view+json": {
       "model_id": "47a7f96ac58b4e758e0831431256b820",
       "version_major": 2,
       "version_minor": 0
      },
      "text/plain": [
       "  0%|          | 0/3 [00:00<?, ?it/s]"
      ]
     },
     "metadata": {},
     "output_type": "display_data"
    },
    {
     "name": "stdout",
     "output_type": "stream",
     "text": [
      "Data structure has been saved to ./chunks_extracted/S08_set2_a9.pkl.gz\n"
     ]
    },
    {
     "name": "stderr",
     "output_type": "stream",
     "text": [
      "\u001b[32m2024-06-15 08:59:19 INFO semantic_chunkers.utils.logger Single document exceeds the maximum token limit of 300. Splitting to sentences before semantically merging.\u001b[0m\n"
     ]
    },
    {
     "data": {
      "application/vnd.jupyter.widget-view+json": {
       "model_id": "6830c1c860574b58879c614ffd3ce091",
       "version_major": 2,
       "version_minor": 0
      },
      "text/plain": [
       "  0%|          | 0/8 [00:00<?, ?it/s]"
      ]
     },
     "metadata": {},
     "output_type": "display_data"
    },
    {
     "name": "stdout",
     "output_type": "stream",
     "text": [
      "Data structure has been saved to ./chunks_extracted/S09_set3_a7.pkl.gz\n"
     ]
    },
    {
     "name": "stderr",
     "output_type": "stream",
     "text": [
      "\u001b[32m2024-06-15 09:08:21 INFO semantic_chunkers.utils.logger Single document exceeds the maximum token limit of 300. Splitting to sentences before semantically merging.\u001b[0m\n"
     ]
    },
    {
     "data": {
      "application/vnd.jupyter.widget-view+json": {
       "model_id": "f446d367b4b14f319eaa36309e338949",
       "version_major": 2,
       "version_minor": 0
      },
      "text/plain": [
       "  0%|          | 0/10 [00:00<?, ?it/s]"
      ]
     },
     "metadata": {},
     "output_type": "display_data"
    },
    {
     "name": "stdout",
     "output_type": "stream",
     "text": [
      "Data structure has been saved to ./chunks_extracted/S10_set5_a5.pkl.gz\n"
     ]
    },
    {
     "name": "stderr",
     "output_type": "stream",
     "text": [
      "\u001b[32m2024-06-15 09:20:56 INFO semantic_chunkers.utils.logger Single document exceeds the maximum token limit of 300. Splitting to sentences before semantically merging.\u001b[0m\n"
     ]
    },
    {
     "data": {
      "application/vnd.jupyter.widget-view+json": {
       "model_id": "f72dbc4dee4048458551fd88ab7a903e",
       "version_major": 2,
       "version_minor": 0
      },
      "text/plain": [
       "  0%|          | 0/11 [00:00<?, ?it/s]"
      ]
     },
     "metadata": {},
     "output_type": "display_data"
    },
    {
     "name": "stdout",
     "output_type": "stream",
     "text": [
      "Data structure has been saved to ./chunks_extracted/S09_set3_a8.pkl.gz\n"
     ]
    },
    {
     "name": "stderr",
     "output_type": "stream",
     "text": [
      "\u001b[32m2024-06-15 09:35:55 INFO semantic_chunkers.utils.logger Single document exceeds the maximum token limit of 300. Splitting to sentences before semantically merging.\u001b[0m\n"
     ]
    },
    {
     "data": {
      "application/vnd.jupyter.widget-view+json": {
       "model_id": "327517f2d05b42b0aae90e488f7704db",
       "version_major": 2,
       "version_minor": 0
      },
      "text/plain": [
       "  0%|          | 0/10 [00:00<?, ?it/s]"
      ]
     },
     "metadata": {},
     "output_type": "display_data"
    },
    {
     "name": "stdout",
     "output_type": "stream",
     "text": [
      "Data structure has been saved to ./chunks_extracted/S08_set4_a3.pkl.gz\n"
     ]
    },
    {
     "name": "stderr",
     "output_type": "stream",
     "text": [
      "\u001b[32m2024-06-15 09:48:27 INFO semantic_chunkers.utils.logger Single document exceeds the maximum token limit of 300. Splitting to sentences before semantically merging.\u001b[0m\n"
     ]
    },
    {
     "data": {
      "application/vnd.jupyter.widget-view+json": {
       "model_id": "a16fe4e4a6f94a6fbeb9d13fb8e9b5fd",
       "version_major": 2,
       "version_minor": 0
      },
      "text/plain": [
       "  0%|          | 0/5 [00:00<?, ?it/s]"
      ]
     },
     "metadata": {},
     "output_type": "display_data"
    },
    {
     "name": "stdout",
     "output_type": "stream",
     "text": [
      "Data structure has been saved to ./chunks_extracted/S10_set3_a5.pkl.gz\n"
     ]
    },
    {
     "name": "stderr",
     "output_type": "stream",
     "text": [
      "\u001b[32m2024-06-15 09:54:03 INFO semantic_chunkers.utils.logger Single document exceeds the maximum token limit of 300. Splitting to sentences before semantically merging.\u001b[0m\n"
     ]
    },
    {
     "data": {
      "application/vnd.jupyter.widget-view+json": {
       "model_id": "371b5f1ecf264994b4bb8f59c5178ccf",
       "version_major": 2,
       "version_minor": 0
      },
      "text/plain": [
       "  0%|          | 0/11 [00:00<?, ?it/s]"
      ]
     },
     "metadata": {},
     "output_type": "display_data"
    },
    {
     "name": "stdout",
     "output_type": "stream",
     "text": [
      "Data structure has been saved to ./chunks_extracted/S10_set5_a7.pkl.gz\n"
     ]
    },
    {
     "name": "stderr",
     "output_type": "stream",
     "text": [
      "\u001b[32m2024-06-15 10:09:33 INFO semantic_chunkers.utils.logger Single document exceeds the maximum token limit of 300. Splitting to sentences before semantically merging.\u001b[0m\n"
     ]
    },
    {
     "data": {
      "application/vnd.jupyter.widget-view+json": {
       "model_id": "ae300be693544e1b8fde9b9ea9c8c6cb",
       "version_major": 2,
       "version_minor": 0
      },
      "text/plain": [
       "  0%|          | 0/3 [00:00<?, ?it/s]"
      ]
     },
     "metadata": {},
     "output_type": "display_data"
    },
    {
     "name": "stdout",
     "output_type": "stream",
     "text": [
      "Data structure has been saved to ./chunks_extracted/S08_set3_a3.pkl.gz\n"
     ]
    },
    {
     "name": "stderr",
     "output_type": "stream",
     "text": [
      "\u001b[32m2024-06-15 10:12:06 INFO semantic_chunkers.utils.logger Single document exceeds the maximum token limit of 300. Splitting to sentences before semantically merging.\u001b[0m\n"
     ]
    },
    {
     "data": {
      "application/vnd.jupyter.widget-view+json": {
       "model_id": "fbc77a958c1a482082e4670a6475f57e",
       "version_major": 2,
       "version_minor": 0
      },
      "text/plain": [
       "  0%|          | 0/4 [00:00<?, ?it/s]"
      ]
     },
     "metadata": {},
     "output_type": "display_data"
    },
    {
     "name": "stdout",
     "output_type": "stream",
     "text": [
      "Data structure has been saved to ./chunks_extracted/S10_set1_a9.pkl.gz\n"
     ]
    },
    {
     "name": "stderr",
     "output_type": "stream",
     "text": [
      "\u001b[32m2024-06-15 10:16:06 INFO semantic_chunkers.utils.logger Single document exceeds the maximum token limit of 300. Splitting to sentences before semantically merging.\u001b[0m\n"
     ]
    },
    {
     "data": {
      "application/vnd.jupyter.widget-view+json": {
       "model_id": "95b4690891844197ac58479fbfea8e1f",
       "version_major": 2,
       "version_minor": 0
      },
      "text/plain": [
       "  0%|          | 0/4 [00:00<?, ?it/s]"
      ]
     },
     "metadata": {},
     "output_type": "display_data"
    },
    {
     "name": "stdout",
     "output_type": "stream",
     "text": [
      "Data structure has been saved to ./chunks_extracted/S09_set1_a9.pkl.gz\n"
     ]
    },
    {
     "name": "stderr",
     "output_type": "stream",
     "text": [
      "\u001b[32m2024-06-15 10:20:09 INFO semantic_chunkers.utils.logger Single document exceeds the maximum token limit of 300. Splitting to sentences before semantically merging.\u001b[0m\n"
     ]
    },
    {
     "data": {
      "application/vnd.jupyter.widget-view+json": {
       "model_id": "ecbe306d3e35422f84e30ada83f3559d",
       "version_major": 2,
       "version_minor": 0
      },
      "text/plain": [
       "  0%|          | 0/7 [00:00<?, ?it/s]"
      ]
     },
     "metadata": {},
     "output_type": "display_data"
    },
    {
     "name": "stdout",
     "output_type": "stream",
     "text": [
      "Data structure has been saved to ./chunks_extracted/S10_set5_a6.pkl.gz\n"
     ]
    },
    {
     "name": "stderr",
     "output_type": "stream",
     "text": [
      "\u001b[32m2024-06-15 10:28:58 INFO semantic_chunkers.utils.logger Single document exceeds the maximum token limit of 300. Splitting to sentences before semantically merging.\u001b[0m\n"
     ]
    },
    {
     "data": {
      "application/vnd.jupyter.widget-view+json": {
       "model_id": "31309f75997e41d09e6033e0e72be765",
       "version_major": 2,
       "version_minor": 0
      },
      "text/plain": [
       "  0%|          | 0/4 [00:00<?, ?it/s]"
      ]
     },
     "metadata": {},
     "output_type": "display_data"
    },
    {
     "name": "stdout",
     "output_type": "stream",
     "text": [
      "Data structure has been saved to ./chunks_extracted/S09_set1_a5.pkl.gz\n"
     ]
    },
    {
     "name": "stderr",
     "output_type": "stream",
     "text": [
      "\u001b[32m2024-06-15 10:34:05 INFO semantic_chunkers.utils.logger Single document exceeds the maximum token limit of 300. Splitting to sentences before semantically merging.\u001b[0m\n"
     ]
    },
    {
     "data": {
      "application/vnd.jupyter.widget-view+json": {
       "model_id": "b531f8680cf5455a9a3fd3fc05cc40f3",
       "version_major": 2,
       "version_minor": 0
      },
      "text/plain": [
       "  0%|          | 0/3 [00:00<?, ?it/s]"
      ]
     },
     "metadata": {},
     "output_type": "display_data"
    },
    {
     "name": "stdout",
     "output_type": "stream",
     "text": [
      "Data structure has been saved to ./chunks_extracted/S10_set4_a2.pkl.gz\n"
     ]
    },
    {
     "name": "stderr",
     "output_type": "stream",
     "text": [
      "\u001b[32m2024-06-15 10:37:22 INFO semantic_chunkers.utils.logger Single document exceeds the maximum token limit of 300. Splitting to sentences before semantically merging.\u001b[0m\n"
     ]
    },
    {
     "data": {
      "application/vnd.jupyter.widget-view+json": {
       "model_id": "2c8601a0c8bb4e988cb63b3c0f6df73d",
       "version_major": 2,
       "version_minor": 0
      },
      "text/plain": [
       "  0%|          | 0/1 [00:00<?, ?it/s]"
      ]
     },
     "metadata": {},
     "output_type": "display_data"
    },
    {
     "name": "stdout",
     "output_type": "stream",
     "text": [
      "Data structure has been saved to ./chunks_extracted/S09_set4_a9.pkl.gz\n"
     ]
    },
    {
     "name": "stderr",
     "output_type": "stream",
     "text": [
      "\u001b[32m2024-06-15 10:37:52 INFO semantic_chunkers.utils.logger Single document exceeds the maximum token limit of 300. Splitting to sentences before semantically merging.\u001b[0m\n"
     ]
    },
    {
     "data": {
      "application/vnd.jupyter.widget-view+json": {
       "model_id": "c13e73fd0a8644759efb32ba37cae215",
       "version_major": 2,
       "version_minor": 0
      },
      "text/plain": [
       "  0%|          | 0/3 [00:00<?, ?it/s]"
      ]
     },
     "metadata": {},
     "output_type": "display_data"
    },
    {
     "name": "stdout",
     "output_type": "stream",
     "text": [
      "Data structure has been saved to ./chunks_extracted/S10_set6_a4.pkl.gz\n"
     ]
    },
    {
     "name": "stderr",
     "output_type": "stream",
     "text": [
      "\u001b[32m2024-06-15 10:41:27 INFO semantic_chunkers.utils.logger Single document exceeds the maximum token limit of 300. Splitting to sentences before semantically merging.\u001b[0m\n"
     ]
    },
    {
     "data": {
      "application/vnd.jupyter.widget-view+json": {
       "model_id": "dd1698547aec4a5ab5afe59b4c67a747",
       "version_major": 2,
       "version_minor": 0
      },
      "text/plain": [
       "  0%|          | 0/9 [00:00<?, ?it/s]"
      ]
     },
     "metadata": {},
     "output_type": "display_data"
    },
    {
     "name": "stdout",
     "output_type": "stream",
     "text": [
      "Data structure has been saved to ./chunks_extracted/S08_set1_a6.pkl.gz\n"
     ]
    }
   ],
   "source": [
    "path = \"../test2/extracted_files/text_data\"\n",
    "model = \"all-MiniLM-L6-v2\"\n",
    "encoder = Embeddings(type = model)\n",
    "files = os.listdir(path)\n",
    "\n",
    "\n",
    "for i in tqdm(range(0, len(files))):\n",
    "    file = files[i]\n",
    "    file_path = os.path.join(path, file)\n",
    "    content = read_file(file_path)\n",
    "\n",
    "    chunker = StatisticalChunker(encoder=encoder)\n",
    "    chunks = chunker(docs=[content])\n",
    "    save_structure(chunks, \"./chunks_extracted\", file.split(\".\")[0])"
   ]
  },
  {
   "cell_type": "code",
   "execution_count": 12,
   "metadata": {},
   "outputs": [
    {
     "name": "stdout",
     "output_type": "stream",
     "text": [
      "[[Chunk(splits=['leopard', \"The leopard (Panthera pardus) is an Old World mammal of the Felidae family and the smallest of the four 'big cats' of the genus Panthera, along with the tiger, lion, and jaguar.\", 'Leopards that are melanistic, either all-black or very dark in coloration, are known colloquially as Black Panthers.', 'Once distributed across southern Eurasia and Africa, from Korea to South Africa and Spain, it has disappeared from much of its former range and now chiefly occurs in subsaharan Africa.', 'There are fragmented populations in Israel, the Indian subcontinent, Indochina, Malaysia, and western China.', 'Despite the loss of range and continued population declines, the cat remains a least concern species;  its numbers are greater than that of the other Panthera species, all of which face more acute conservation concerns.', \"The species' success owes in part to its opportunistic hunting behaviour and its adaptability to a variety of habitats.\", 'The leopard consumes virtually any animal it can catch and ranges from rainforest to desert.', 'Its ecological role resembles that of the similarly-sized cougar in the Americas.', 'Physically, the spotted cat most closely resembles the jaguar, although it is of lighter build.', 'In Antiquity, it was believed that a leopard was a hybrid between a lion and a panther, as is reflected in its name, a Greek compound word derived from Î»Î'], is_triggered=True, triggered_score=0.054659678967150245, token_count=258, metadata=None), Chunk(splits=['Ï', 'Î½ lÃ©on (\"lion\") and Ï', 'Î¬Ï', 'Î´Î¿Ï', 'pÃ¡rdos (\"male panther\"), the latter related to Sanskrit à¤ªà¥', 'à¤¦à¤¾à¤', 'à¥', 'pá¹', 'dÄ', 'ku (\"snake, tiger, panther\").', 'A panther can be any of several species of large felid; in North America, the term refers to cougars, in South America, jaguars, and elsewhere, leopards.', 'Early naturalists distinguished between leopards and panthers not by colour (a common misconception), but by the length of the tail panthers having longer tails than leopards.'], is_triggered=True, triggered_score=0.1531686132254773, token_count=108, metadata=None), Chunk(splits=[\"Felis pardus was one of the many species described in Linnaeus's 18th-century work, Systema Naturae.\", 'The generic component of its modern scientific designation, Panthera pardus, is derived from Latin via Greek Ï', 'Î¬Î½Î¸Î·Ï', 'pÃ¡nthÄ', 'r.', 'A folk etymology held that it was a compound of Ï', 'Î±Î½ pan (\"all\") and Î¸Î·Ï', '(\"beast\").', 'However, it is believed instead to derive from an Indo-Iranian word meaning \"whitish-yellow, pale\"; in Sanskrit, this word\\'s reflex was à¤ªà¤¾à¤£à¥', 'à¤¡à¤° pÄ', 'á¹', 'á¸', 'ara, from which was derived à¤ªà¥', 'à¤£à¥', 'à¤¡à¤°à¥', 'à¤', 'puá¹', 'á¸', 'Ã¡rÄ«ka (\"tiger\", among other things), then borrowed into Greek.'], is_triggered=True, triggered_score=0.1723127959466253, token_count=135, metadata=None), Chunk(splits=['The leopard is an agile and graceful predator.', 'Although smaller than the other members of Panthera, the leopard is still able to take large prey given a massive skull that well utilizes powerful jaw muscles.', 'Its body is comparatively long for a cat and its legs are short.', 'Head and body length is between 90 and 190 cm, the tail reaches 60 to 110cm.', 'Shoulder height is 45 to 80 cm.', 'Males are considerably larger than females and weigh 37 to 90 kg compared to 28 to 60 kg for females.'], is_triggered=True, triggered_score=0.08791835670574226, token_count=100, metadata=None), Chunk(splits=['Ronald M.', 'Nowak:', \"Walker's Mammals of the World.\", 'Johns Hopkins University Press, 1999 ISBN 0-8018-5789-9', 'One of many spotted cats, a leopard may be mistaken for a cheetah or a jaguar.', \"The leopard has rosettes rather than cheetah's simple spots, but they lack internal spots, unlike the jaguar.\", 'The leopard is larger and less lanky than the cheetah but smaller than the jaguar.', \"The leopard's black, irregular rosettes serve as camouflage.\", 'They are circular in East Africa but tend to be square in southern Africa.  .', 'Leopards have been reported to reach 21 years of age in captivity.', 'A melanistic leopard, or \"black panther\"', 'A melanistic morph of the leopard occurs particularly in mountainous areas and rain forests.', 'The black color is heritable and caused by only one recessive gene locus.', 'In some regions, for example on the Malayan Peninsula, up to half of all leopards are black.', 'In Africa black leopards seem to be most common in the Ethiopian Highlands.', 'While they are commonly called black panthers, the term is not applied exclusively to leopards.', 'Black leopards are less successful on the African plains because their colouration makes them stand out.', 'As of 1996, the leopard had the largest distribution of any wild cat,  although populations before and since have shown a declining trend and are fragmented outside of subsaharan Africa.', 'The IUCN notes that within subsaharan Africa the species is \"still numerous and even thriving in marginal habitats\" where other large cats have disappeared, but that populations in North Africa may be extinct.'], is_triggered=False, triggered_score=None, token_count=298, metadata=None), Chunk(splits=['In Asia, data on distribution are mixed: populations in Southwest and Central Asia are small and fragmented; in the northeast portion of the range, they are critically endangered; and in Indian, Southeast Asia, and China, the cat is still relatively abundant.', 'Leopards also like to live in grasslands, woodlands and riverside forests.', 'Graceful and stealthy, leopards are famous for their ability to go undetected.', 'They are good, agile climbers, but cannot get down from a tree headfirst, because they do not have the ankle flexibilityâ', 'the only two cats that do are the Margay and the Clouded Leopard.', 'Female leopard.', 'Note the white spots on the back of the ears used for communication with cubs when hunting in long grassAlong with climbing, they are strong swimmers but not as fond of water as tigers; for example, leopards will not normally lie in water.', 'They are mainly nocturnal but can be seen at any time of day and will even hunt during daytime on overcast days.', 'In regions where they are hunted, nocturnal behaviour is more common.', 'These cats are solitary, avoiding one another.'], is_triggered=True, triggered_score=0.25947741369079275, token_count=211, metadata=None), Chunk(splits=['However, three or four are sometimes seen together.', \"Hearing and eyesight are the strongest of these cats' senses and are extremely acute.\", 'Olfaction is relied upon as well, but not for hunting.', 'When making a threat, leopards stretch their backs, depress their ribcages between their shoulder blades so they stick out, and lower their heads (similar to domestic cats).', 'During the day they may lie in bush, on rocks, or in a tree with their tails hanging below the treetops and giving them away.', 'Leopards are opportunistic hunters.', 'Although mid-sized animals are preferred, the leopard will eat anything from dung beetles to 900 kg male giant elands.'], is_triggered=True, triggered_score=-0.014150619759489195, token_count=127, metadata=None), Chunk(splits=['Nowell, K.; Jackson, P. eds. (1996).', 'Wild Cats.', 'Status Survey and Conservation Action Plan.', 'IUCN/SSC Cat Specialist Group.', 'IUCN, Gland, Switzerland. (see Panthera Pardus, pp. 24 â', '29.)  Their diet consists mostly of ungulates and monkeys, but rodents, reptiles, amphibians, birds and fish are also eaten.', 'Schaller, p. 290  In fact, they hunt about 90 different species of animals.', 'A solitary dog is a potential prey for leopards, although a pack of dogs can kill or drive off a leopard.', 'Even large pythons are potential prey for leopards.', \"In Africa, mid-sized antelopes provide a majority of the leopard's prey, especially impala and Thomson's gazelles.\", 'Schaller, p. 291  In Asia the leopard preys on deer such as chitals and muntjacs as well as various Asian antelopes and Ibex.', 'Leopards have even been spotted killing and eating crocodiles.', 'The leopard stalks its prey silently and at the last minute pounces on its prey and strangles its throat with a quick bite.', 'Leopards often hide their kills in dense vegetation or take them up trees,  and are capable of carrying animals up to three times their own weight this way.', 'Storing carcasses up trees keeps them away from other predators such as spotted hyenas, jackals, tigers and lions, though the latter will occasionally be successful in climbing and fetching the leopard kills.'], is_triggered=True, triggered_score=0.00972706291762478, token_count=271, metadata=None), Chunk(splits=['Schaller, p. 293', 'One survey of nearly 30 research papers found preferred prey weights of 10 to 40 kg, with 25 kg most preferred.', 'Along with impala and chital, a preference for bushbuck and common duiker was found.', 'Other prey selection factors include a preference for prey in small herds, in dense habitat, and those that afford the predator a low risk of injury.', 'Leopard resting on a tree', 'A male may follow a female who catches his attention.', 'Eventually fighting for reproductive rights can take place.', 'Depending on the region, leopards may mate all year round (Asia and Africa) or seasonally during January to February (Manchuria and Siberia).'], is_triggered=True, triggered_score=0.2534494471629691, token_count=125, metadata=None), Chunk(splits=['The estrous cycle lasts about 46 days and the female usually is in heat for 6â', '7 days.', 'Cubs are usually born in a litter of 2â', '3, but infant mortality is high and mothers are not commonly seen with more than 1â', '2 cubs.', 'The pregnant females find a cave, crevice among boulders, hollow tree, or thicket to give birth and make a den.', 'Cubs open their eyes after a period of 10 days.', 'The fur of the young tends to be longer and thicker than that of adults.', 'Their pelage is also more gray in color with less defined spots.', 'Around three months the infants begin to follow the mother out on hunts.', 'At one year of age leopard young can probably fend for themselves but they remain with the mother for 18â', '24 months.', 'Studies of leopard home range size have tended to focus on protected areas, which may have led to skewed data; as of the mid-1980s, only 13% of the leopard range actually fell within a protected area.', 'In their IUCN survey of the literature, Nowell and Jackson suggest male home territories vary between 30-78 square kilometers, but just 15-16 kmÂ² for females.', 'Research in a conservation area in Kenya shows similar territory sizes and sex differential: 32.8 kmÂ² ranges for males, on average, and 14 kmÂ² for females.'], is_triggered=False, triggered_score=None, token_count=252, metadata=None), Chunk(splits=['In Nepal, somewhat larger male ranges have been found at about 48 kmÂ², while female ranges are in-keeping with other research, at 17 kmÂ²; female home territories were seen to decrease to just five to seven kmÂ² when young cubs were present, while the sexual difference in range size seemed to be in positive proportion to overall increase.', \"However, significant variations in size of home territories have been suggested across the leopard's range.\", \"In Namibia, for instance, research that focussed on spatial ecology in farmlands outside of protected areas found ranges that were consistently above 100 kmÂ², with some more than 300 kmÂ²; admitting that their data were at odds with others', the researchers also suggested little or no sexual variation in the size of territories.\", 'Virtually all sources suggest that males do have larger ranges.', \"There seems to be little or no overlap in territory amongst males, although overlap exists between the sexes; one radio-collar analysis in the Ivory Coast found a female home range completely enclosed within a male's.\", 'The leopard is solitary and, aside from mating, interactions between individuals appear to be infrequent.', 'Aggressive enounters have been observed, however.', 'Two of five males studied over a period of a year at a game reserve in South Africa died, both violently.', 'One was initially wounded in a male-male territorial battle over a carcass; taken in by researchers, it was released after a successful convalescence only to be killed by a different male a few months later.', 'A second was killed by another predator, possibly a spotted hyena.'], is_triggered=False, triggered_score=None, token_count=298, metadata=None), Chunk(splits=['A third of the five was badly wounded in intraspecific fighting, but recovered.', 'Indian Leopard', 'It has been suggested that there may be as many as 30 extant subspecies of the Leopard.', 'However, modern taxonomic analyses have demonstrated that only 8/9 subspecies are valid.', 'Olga Uphyrkina et al. (November 2001).', 'Phylogenetics, genome diversity and origin of modern leopard, Panthera pardus.', 'Molecular Ecology, Volume 10, Issue 11, Page 2617.', 'Abstract   Sriyanie Miththapala. (August 1996).', 'Phylogeographic Subspecies Recognition in Leopards (Panthera pardus):', 'Molecular Genetic Variation.', 'Conservation Biology,'], is_triggered=True, triggered_score=0.20123196896642342, token_count=110, metadata=None), Chunk(splits=['Volume 10, Issue 4, Page 1115.', 'Abstract', 'Sri Lankan Leopard', 'Female leopard in the Sabi Sands area of South Africa.', 'Note the white spot on the tail used for communicating with cubs while hunting or in long grass', 'Other subspecies under the old taxonomic division:', 'Today usually included in the African Leopard (Panthera pardus pardus):', 'Today usually included in The Persian Leopard (Panthera pardus saxicolor):', 'Today usually included in The Indian Leopard (Panthera pardus fusca)', 'A pseudo-melanistic leopard has a normal background colour, but its excessive markings have coalesced so that its back seems to be an unbroken expanse of black.', 'In some specimens, the area of solid black extends down the flanks and limbs; only a few lateral streaks of golden-brown indicate the presence of normal background colour.', 'Any spots on the flanks and limbs that have not merged into the mass of swirls and stripes are unusually small and discrete, rather than forming rosettes.', 'The face and underparts are paler and dappled like those of ordinary spotted leopards.', 'In a paper about panthers and ounces of Asia, Reginald Innes Pocock used a photo of a leopard skin from southern India; it had large black-rimmed blotches, each containing a number of dots and it resembled the pattern of a jaguar or clouded leopard.', \"Another of Pocock's leopard skins from southern India had the normal rosettes broken up and fused and so much additional pigment that the animal looked like a black leopard streaked and speckled with yellow.\", 'Most other colour morphs of leopards are known only from paintings or museum specimens.'], is_triggered=False, triggered_score=None, token_count=294, metadata=None), Chunk(splits=['There have been very rare examples where the spots of a normal black leopard have coalesced to give a jet black leopard with no visible markings.', 'Pseudo-melanism (abundism) occurs in leopards.', 'The spots are more densely packed than normal and merge to largely obscure the background colour.', 'They may form swirls and, in some places, solid black areas.', 'Unlike a true black leopard the tawny background colour is visible in places.', 'One pseudo-melanistic leopard had a tawny orange coat with coalescing rosettes and spots, but white belly with normal black spots (like a black-and-tan dog).', 'A 1910 description of a pseudo-melanistic leopard:', 'Another pseudo-melanistic leopard skin was described in 1915 by Holdridge Ozro Collins who had purchased it in 1912.'], is_triggered=True, triggered_score=0.056896993283349614, token_count=147, metadata=None), Chunk(splits=['It had been killed in Malabar, India that same year.', 'In May 1936, the British Natural History Museum exhibited the mounted skin of an unusual Somali leopard.', 'The pelt was richly decorated with an intricate pattern of swirling stripes, blotches, curls and fine-line traceries.', 'This is different from a spotted leopard, but similar to a King Cheetah hence the modern cryptozoology term King Leopard.', 'Between 1885 and 1934, six pseudo-melanistic leopards were recorded in the Albany and Grahamstown districts of South Africa.', 'This indicated a mutation in the local leopard population.', 'Other King Leopards have been recorded from Malabar in southwestern India.'], is_triggered=True, triggered_score=0.13612905201571326, token_count=119, metadata=None), Chunk(splits=['Shooting for trophies may have wiped out these populations.', 'link title', 'Pumapard, Rothschild Museum, Tring', 'A pumapard is a hybrid animal resulting from a union between a leopard and a puma.', 'Three sets of these hybrids were bred in the late 1890s and early 1900s by Carl Hagenbeck at his animal park in Hamburg, Germany.', 'Most did not reach adulthood.', 'One of these was purchased in 1898 by Berlin Zoo.', 'A similar hybrid in Berlin Zoo purchased from Carl Hagenbeck was a cross between a male leopard and a female puma.', \"Hamburg Zoo's specimen was the reverse pairing, the one in the black and white photo, fathered by a puma bred to an Indian leopardess.\", 'Whether born to a female Puma mated to a male Leopard, or to a male Puma mated to a female Leopard, pumapards inherit a form of dwarfism.', 'Those reported grew to only half the size of the parents.', 'They have a Puma-like long body (proportional to the limbs, but nevertheless shorter than either parent), but short legs.'], is_triggered=True, triggered_score=0.17287921092400663, token_count=196, metadata=None), Chunk(splits=['The coat is variously described as sandy, tawny or greyish with brown, chestnut or \"faded\" rosettes.', 'Dionysus and a panther.', 'Crater.', 'The Louvre c. 370 BC', \"Leopards have been known to humans since antiquity and have featured in the art, mythology and folklore of many countries where they have occurred historically, such as Ancient Greece, Persia and Rome, as well as some where they haven't such as England.\", 'The modern use of the leopard as an emblem for sport or coat of arms is much more restricted to Africa, though numerous products worldwide have used the name.', 'Leopards were kept in a menagerie established by King John at the Tower of London in the 13th century; around 1235 three animals were given to Henry III by the Holy Roman Emperor Frederick II.'], is_triggered=True, triggered_score=0.2092325719743218, token_count=149, metadata=None), Chunk(splits=['Despite its size, this largely nocturnal and arboreal predator is difficult to see in the wild.', 'A female leopard in the Sabi Sands of South Africa illustrating just how close tourists can get to these wild cats.The best location to see leopards in Africa is in the Sabi Sand Private Game Reserve in South Africa, where leopards are habituated to safari vehicles and are seen on a daily basis at very close range.', \"In Asia, one can see leopards Yala National Park in Sri Lanka, which has one of the world's highest density of wild leopards, but even here sightings are by no means guaranteed because more than half the park is closed off to the public, allowing the animals to thrive.\", 'Another good destination for leopard watching is the recently reopened Wilpattu National Park, also in Sri Lanka.', 'In India the leopards are found all over the country and there is maximum man-animal conflict here only as they are spread everywhere.The best places in India can be national parks in Madhya Pradesh and in Uttarakhand.'], is_triggered=True, triggered_score=0.1068097066928766, token_count=195, metadata=None), Chunk(splits=['Coat of arms of the German state of Baden-WÃ¼rttemberg', 'The lion passant guardant or \"leopard\" is a frequently used charge in heraldry, most commonly appearing in groups of three.', 'The heraldric leopard lacks spots and sports a mane, making it visually almost identical to the heraldric lion, and the two are often used interchangeably.', 'These traditional lion passant guardants appear in the coat of arms of England and many of its former colonies; more modern naturalistic (leopard-like) depictions appear on the coat of arms of several African nations including Benin, Malawi, Somalia, Democratic Republic of the Congo and  Gabon which uses a black panther.', 'The Leopard is also the unofficial national animal of Germany, replacing the Tiger, which was, along with the eagle, the national animal of Nazi Germany.', 'The leopard tank was a German designed tank which entered service in 1965.', 'The Leopard men were a West African secret society who practised cannibalism.'], is_triggered=True, triggered_score=0.12517060334337218, token_count=180, metadata=None), Chunk(splits=[\"They were centred in Sierra Leone, Liberia and CÃ´te d'Ivoire.\", \"Members would dress in leopard skins, waylaying travellers with sharp claw-like weapons in the form of leopards' claws and teeth.\", \"The victims' flesh would be cut from their bodies and distributed to members of the society.\", 'There was a superstitious belief that this ritual cannibalism would strengthen both members of the society as well as their entire tribe.', 'Although most leopards will tend to avoid humans, people are occasionally targeted as prey.', 'Most healthy leopards prefer wild prey to humans, but cats who are injured, sickly or struggling with a shortage of regular prey often turn to hunting people and may become habituated to it.', 'In the most extreme cases, both in India, a leopard dubbed \"the Leopard of Rudraprayag\" is claimed to have killed over 125 people and the infamous leopardess called \"Panar Leopard\" killed over 400 after being injured by a poacher and thus being made unable to hunt normal prey.', 'The \"Leopard of Rudraprayag\" and the \"Panar Leopard\" were both killed by the famed hunter Jim Corbett.', 'Man-eating leopards are considered bold by feline standards and commonly enter human settlements for prey, more so than their lion and tiger counterparts.', 'Kenneth Anderson, who had first hand experience with many man-eating leopards, described them as far more threatening than tigers;', 'However because they can subsist on small prey and are less dependent on large prey, leopards are less likely to turn to man-eating than either lions or tigers.'], is_triggered=False, triggered_score=None, token_count=290, metadata=None), Chunk(splits=['Possibly the most famous cinematic leopard is the pet in the film Bringing Up Baby (1938) where its misadventures create madcap comedy for stars Cary Grant and Katharine Hepburn; the movie is one of the American Film Institute\\'s \"100 Greatest (American) Films\".', '* In the 1999 Tarzan movie by Disney, a vicious leopard, Sabor, was Tarzan\\'s natural and mortal enemy, although the Mangani name for leopards established in the books is \"Sheeta\".', \"* In Passion in the Desert (1997), a French soldier (played by British actor Ben Daniels) while lost in Egypt during Napoleon's Egyptian campaign stumbles upon a leopard and develops a strange relationship with the animal.\", \"Traditionally, the leopard is an uncommon name or mascot for sporting teams, though it has been used in several African soccer teams: the AFC Leopards, formed in 1964, are a soccer club based in Nairobi, Kenya, while the Black Leopards play in South Africa's Premier Soccer League, the Royal Leopards in Swaziland's Premier League, and the Golf Leopards in the Sierra Leone National Premier League.\", 'More recently, the leopard emblem has been a part of the English Basketball League since the 1990s with the Essex Leopards and later London Leopards.', 'The New Zealand Rugby League has featured the Otahuhu Leopards and then the Tamaki Leopards.', 'The use of Leopards by companies is uncommon, though Nissan Leopard was a luxury sports car produced by Nissan in the 1980s and Apple Inc. released Mac OS X version 10.5, nicknamed \"Leopard\" on October 26th, 2007.'], is_triggered=False, triggered_score=None, token_count=295, metadata=None), Chunk(splits=['In The Chronicles of Narnia; The Lion, The Witch, and the Wardrobe, leopards are seen fighting alongside Peter Pevensie.', '* Khalaf-von Jaffa, Norman Ali Bassam Ali Taher (2005).', 'The Arabian Leopard (Panthera pardus nimr).', 'Gazelle:', 'The Palestinian Biological Bulletin.', 'Number 42, June 2005. pp. 1-8. (in German).', '* Khalaf-Sakerfalke von Jaffa, Norman Ali Bassam Ali Taher (2006).', 'The Chinese Leopard (Panthera pardus japonensis, Gray 1862) in Neunkirchen Zoo, Neunkirchen, Saarland, Germany.', 'Gazelle:', 'The Palestinian Biological Bulletin.', 'Number 60, December 2006. pp. 1-10.', '* DeRuiter, D.J. and Berger, L.R. (2000) Leopards as Taphonomic Agents in dolomitic Caves - Implications for bone Accumulations in the Hominid-bearing Deposits of South Africa.'], is_triggered=True, triggered_score=0.17315735928749534, token_count=161, metadata=None), Chunk(splits=['J.', 'Arch.', 'Sci. 27, 665-684.'], is_triggered=False, triggered_score=None, token_count=11, metadata=None)]]\n"
     ]
    },
    {
     "data": {
      "text/plain": [
       "[[Chunk(splits=['leopard', \"The leopard (Panthera pardus) is an Old World mammal of the Felidae family and the smallest of the four 'big cats' of the genus Panthera, along with the tiger, lion, and jaguar.\", 'Leopards that are melanistic, either all-black or very dark in coloration, are known colloquially as Black Panthers.', 'Once distributed across southern Eurasia and Africa, from Korea to South Africa and Spain, it has disappeared from much of its former range and now chiefly occurs in subsaharan Africa.', 'There are fragmented populations in Israel, the Indian subcontinent, Indochina, Malaysia, and western China.', 'Despite the loss of range and continued population declines, the cat remains a least concern species;  its numbers are greater than that of the other Panthera species, all of which face more acute conservation concerns.', \"The species' success owes in part to its opportunistic hunting behaviour and its adaptability to a variety of habitats.\", 'The leopard consumes virtually any animal it can catch and ranges from rainforest to desert.', 'Its ecological role resembles that of the similarly-sized cougar in the Americas.', 'Physically, the spotted cat most closely resembles the jaguar, although it is of lighter build.', 'In Antiquity, it was believed that a leopard was a hybrid between a lion and a panther, as is reflected in its name, a Greek compound word derived from Î»Î'], is_triggered=True, triggered_score=0.054659678967150245, token_count=258, metadata=None),\n",
       "  Chunk(splits=['Ï', 'Î½ lÃ©on (\"lion\") and Ï', 'Î¬Ï', 'Î´Î¿Ï', 'pÃ¡rdos (\"male panther\"), the latter related to Sanskrit à¤ªà¥', 'à¤¦à¤¾à¤', 'à¥', 'pá¹', 'dÄ', 'ku (\"snake, tiger, panther\").', 'A panther can be any of several species of large felid; in North America, the term refers to cougars, in South America, jaguars, and elsewhere, leopards.', 'Early naturalists distinguished between leopards and panthers not by colour (a common misconception), but by the length of the tail panthers having longer tails than leopards.'], is_triggered=True, triggered_score=0.1531686132254773, token_count=108, metadata=None),\n",
       "  Chunk(splits=[\"Felis pardus was one of the many species described in Linnaeus's 18th-century work, Systema Naturae.\", 'The generic component of its modern scientific designation, Panthera pardus, is derived from Latin via Greek Ï', 'Î¬Î½Î¸Î·Ï', 'pÃ¡nthÄ', 'r.', 'A folk etymology held that it was a compound of Ï', 'Î±Î½ pan (\"all\") and Î¸Î·Ï', '(\"beast\").', 'However, it is believed instead to derive from an Indo-Iranian word meaning \"whitish-yellow, pale\"; in Sanskrit, this word\\'s reflex was à¤ªà¤¾à¤£à¥', 'à¤¡à¤° pÄ', 'á¹', 'á¸', 'ara, from which was derived à¤ªà¥', 'à¤£à¥', 'à¤¡à¤°à¥', 'à¤', 'puá¹', 'á¸', 'Ã¡rÄ«ka (\"tiger\", among other things), then borrowed into Greek.'], is_triggered=True, triggered_score=0.1723127959466253, token_count=135, metadata=None),\n",
       "  Chunk(splits=['The leopard is an agile and graceful predator.', 'Although smaller than the other members of Panthera, the leopard is still able to take large prey given a massive skull that well utilizes powerful jaw muscles.', 'Its body is comparatively long for a cat and its legs are short.', 'Head and body length is between 90 and 190 cm, the tail reaches 60 to 110cm.', 'Shoulder height is 45 to 80 cm.', 'Males are considerably larger than females and weigh 37 to 90 kg compared to 28 to 60 kg for females.'], is_triggered=True, triggered_score=0.08791835670574226, token_count=100, metadata=None),\n",
       "  Chunk(splits=['Ronald M.', 'Nowak:', \"Walker's Mammals of the World.\", 'Johns Hopkins University Press, 1999 ISBN 0-8018-5789-9', 'One of many spotted cats, a leopard may be mistaken for a cheetah or a jaguar.', \"The leopard has rosettes rather than cheetah's simple spots, but they lack internal spots, unlike the jaguar.\", 'The leopard is larger and less lanky than the cheetah but smaller than the jaguar.', \"The leopard's black, irregular rosettes serve as camouflage.\", 'They are circular in East Africa but tend to be square in southern Africa.  .', 'Leopards have been reported to reach 21 years of age in captivity.', 'A melanistic leopard, or \"black panther\"', 'A melanistic morph of the leopard occurs particularly in mountainous areas and rain forests.', 'The black color is heritable and caused by only one recessive gene locus.', 'In some regions, for example on the Malayan Peninsula, up to half of all leopards are black.', 'In Africa black leopards seem to be most common in the Ethiopian Highlands.', 'While they are commonly called black panthers, the term is not applied exclusively to leopards.', 'Black leopards are less successful on the African plains because their colouration makes them stand out.', 'As of 1996, the leopard had the largest distribution of any wild cat,  although populations before and since have shown a declining trend and are fragmented outside of subsaharan Africa.', 'The IUCN notes that within subsaharan Africa the species is \"still numerous and even thriving in marginal habitats\" where other large cats have disappeared, but that populations in North Africa may be extinct.'], is_triggered=False, triggered_score=None, token_count=298, metadata=None),\n",
       "  Chunk(splits=['In Asia, data on distribution are mixed: populations in Southwest and Central Asia are small and fragmented; in the northeast portion of the range, they are critically endangered; and in Indian, Southeast Asia, and China, the cat is still relatively abundant.', 'Leopards also like to live in grasslands, woodlands and riverside forests.', 'Graceful and stealthy, leopards are famous for their ability to go undetected.', 'They are good, agile climbers, but cannot get down from a tree headfirst, because they do not have the ankle flexibilityâ', 'the only two cats that do are the Margay and the Clouded Leopard.', 'Female leopard.', 'Note the white spots on the back of the ears used for communication with cubs when hunting in long grassAlong with climbing, they are strong swimmers but not as fond of water as tigers; for example, leopards will not normally lie in water.', 'They are mainly nocturnal but can be seen at any time of day and will even hunt during daytime on overcast days.', 'In regions where they are hunted, nocturnal behaviour is more common.', 'These cats are solitary, avoiding one another.'], is_triggered=True, triggered_score=0.25947741369079275, token_count=211, metadata=None),\n",
       "  Chunk(splits=['However, three or four are sometimes seen together.', \"Hearing and eyesight are the strongest of these cats' senses and are extremely acute.\", 'Olfaction is relied upon as well, but not for hunting.', 'When making a threat, leopards stretch their backs, depress their ribcages between their shoulder blades so they stick out, and lower their heads (similar to domestic cats).', 'During the day they may lie in bush, on rocks, or in a tree with their tails hanging below the treetops and giving them away.', 'Leopards are opportunistic hunters.', 'Although mid-sized animals are preferred, the leopard will eat anything from dung beetles to 900 kg male giant elands.'], is_triggered=True, triggered_score=-0.014150619759489195, token_count=127, metadata=None),\n",
       "  Chunk(splits=['Nowell, K.; Jackson, P. eds. (1996).', 'Wild Cats.', 'Status Survey and Conservation Action Plan.', 'IUCN/SSC Cat Specialist Group.', 'IUCN, Gland, Switzerland. (see Panthera Pardus, pp. 24 â', '29.)  Their diet consists mostly of ungulates and monkeys, but rodents, reptiles, amphibians, birds and fish are also eaten.', 'Schaller, p. 290  In fact, they hunt about 90 different species of animals.', 'A solitary dog is a potential prey for leopards, although a pack of dogs can kill or drive off a leopard.', 'Even large pythons are potential prey for leopards.', \"In Africa, mid-sized antelopes provide a majority of the leopard's prey, especially impala and Thomson's gazelles.\", 'Schaller, p. 291  In Asia the leopard preys on deer such as chitals and muntjacs as well as various Asian antelopes and Ibex.', 'Leopards have even been spotted killing and eating crocodiles.', 'The leopard stalks its prey silently and at the last minute pounces on its prey and strangles its throat with a quick bite.', 'Leopards often hide their kills in dense vegetation or take them up trees,  and are capable of carrying animals up to three times their own weight this way.', 'Storing carcasses up trees keeps them away from other predators such as spotted hyenas, jackals, tigers and lions, though the latter will occasionally be successful in climbing and fetching the leopard kills.'], is_triggered=True, triggered_score=0.00972706291762478, token_count=271, metadata=None),\n",
       "  Chunk(splits=['Schaller, p. 293', 'One survey of nearly 30 research papers found preferred prey weights of 10 to 40 kg, with 25 kg most preferred.', 'Along with impala and chital, a preference for bushbuck and common duiker was found.', 'Other prey selection factors include a preference for prey in small herds, in dense habitat, and those that afford the predator a low risk of injury.', 'Leopard resting on a tree', 'A male may follow a female who catches his attention.', 'Eventually fighting for reproductive rights can take place.', 'Depending on the region, leopards may mate all year round (Asia and Africa) or seasonally during January to February (Manchuria and Siberia).'], is_triggered=True, triggered_score=0.2534494471629691, token_count=125, metadata=None),\n",
       "  Chunk(splits=['The estrous cycle lasts about 46 days and the female usually is in heat for 6â', '7 days.', 'Cubs are usually born in a litter of 2â', '3, but infant mortality is high and mothers are not commonly seen with more than 1â', '2 cubs.', 'The pregnant females find a cave, crevice among boulders, hollow tree, or thicket to give birth and make a den.', 'Cubs open their eyes after a period of 10 days.', 'The fur of the young tends to be longer and thicker than that of adults.', 'Their pelage is also more gray in color with less defined spots.', 'Around three months the infants begin to follow the mother out on hunts.', 'At one year of age leopard young can probably fend for themselves but they remain with the mother for 18â', '24 months.', 'Studies of leopard home range size have tended to focus on protected areas, which may have led to skewed data; as of the mid-1980s, only 13% of the leopard range actually fell within a protected area.', 'In their IUCN survey of the literature, Nowell and Jackson suggest male home territories vary between 30-78 square kilometers, but just 15-16 kmÂ² for females.', 'Research in a conservation area in Kenya shows similar territory sizes and sex differential: 32.8 kmÂ² ranges for males, on average, and 14 kmÂ² for females.'], is_triggered=False, triggered_score=None, token_count=252, metadata=None),\n",
       "  Chunk(splits=['In Nepal, somewhat larger male ranges have been found at about 48 kmÂ², while female ranges are in-keeping with other research, at 17 kmÂ²; female home territories were seen to decrease to just five to seven kmÂ² when young cubs were present, while the sexual difference in range size seemed to be in positive proportion to overall increase.', \"However, significant variations in size of home territories have been suggested across the leopard's range.\", \"In Namibia, for instance, research that focussed on spatial ecology in farmlands outside of protected areas found ranges that were consistently above 100 kmÂ², with some more than 300 kmÂ²; admitting that their data were at odds with others', the researchers also suggested little or no sexual variation in the size of territories.\", 'Virtually all sources suggest that males do have larger ranges.', \"There seems to be little or no overlap in territory amongst males, although overlap exists between the sexes; one radio-collar analysis in the Ivory Coast found a female home range completely enclosed within a male's.\", 'The leopard is solitary and, aside from mating, interactions between individuals appear to be infrequent.', 'Aggressive enounters have been observed, however.', 'Two of five males studied over a period of a year at a game reserve in South Africa died, both violently.', 'One was initially wounded in a male-male territorial battle over a carcass; taken in by researchers, it was released after a successful convalescence only to be killed by a different male a few months later.', 'A second was killed by another predator, possibly a spotted hyena.'], is_triggered=False, triggered_score=None, token_count=298, metadata=None),\n",
       "  Chunk(splits=['A third of the five was badly wounded in intraspecific fighting, but recovered.', 'Indian Leopard', 'It has been suggested that there may be as many as 30 extant subspecies of the Leopard.', 'However, modern taxonomic analyses have demonstrated that only 8/9 subspecies are valid.', 'Olga Uphyrkina et al. (November 2001).', 'Phylogenetics, genome diversity and origin of modern leopard, Panthera pardus.', 'Molecular Ecology, Volume 10, Issue 11, Page 2617.', 'Abstract   Sriyanie Miththapala. (August 1996).', 'Phylogeographic Subspecies Recognition in Leopards (Panthera pardus):', 'Molecular Genetic Variation.', 'Conservation Biology,'], is_triggered=True, triggered_score=0.20123196896642342, token_count=110, metadata=None),\n",
       "  Chunk(splits=['Volume 10, Issue 4, Page 1115.', 'Abstract', 'Sri Lankan Leopard', 'Female leopard in the Sabi Sands area of South Africa.', 'Note the white spot on the tail used for communicating with cubs while hunting or in long grass', 'Other subspecies under the old taxonomic division:', 'Today usually included in the African Leopard (Panthera pardus pardus):', 'Today usually included in The Persian Leopard (Panthera pardus saxicolor):', 'Today usually included in The Indian Leopard (Panthera pardus fusca)', 'A pseudo-melanistic leopard has a normal background colour, but its excessive markings have coalesced so that its back seems to be an unbroken expanse of black.', 'In some specimens, the area of solid black extends down the flanks and limbs; only a few lateral streaks of golden-brown indicate the presence of normal background colour.', 'Any spots on the flanks and limbs that have not merged into the mass of swirls and stripes are unusually small and discrete, rather than forming rosettes.', 'The face and underparts are paler and dappled like those of ordinary spotted leopards.', 'In a paper about panthers and ounces of Asia, Reginald Innes Pocock used a photo of a leopard skin from southern India; it had large black-rimmed blotches, each containing a number of dots and it resembled the pattern of a jaguar or clouded leopard.', \"Another of Pocock's leopard skins from southern India had the normal rosettes broken up and fused and so much additional pigment that the animal looked like a black leopard streaked and speckled with yellow.\", 'Most other colour morphs of leopards are known only from paintings or museum specimens.'], is_triggered=False, triggered_score=None, token_count=294, metadata=None),\n",
       "  Chunk(splits=['There have been very rare examples where the spots of a normal black leopard have coalesced to give a jet black leopard with no visible markings.', 'Pseudo-melanism (abundism) occurs in leopards.', 'The spots are more densely packed than normal and merge to largely obscure the background colour.', 'They may form swirls and, in some places, solid black areas.', 'Unlike a true black leopard the tawny background colour is visible in places.', 'One pseudo-melanistic leopard had a tawny orange coat with coalescing rosettes and spots, but white belly with normal black spots (like a black-and-tan dog).', 'A 1910 description of a pseudo-melanistic leopard:', 'Another pseudo-melanistic leopard skin was described in 1915 by Holdridge Ozro Collins who had purchased it in 1912.'], is_triggered=True, triggered_score=0.056896993283349614, token_count=147, metadata=None),\n",
       "  Chunk(splits=['It had been killed in Malabar, India that same year.', 'In May 1936, the British Natural History Museum exhibited the mounted skin of an unusual Somali leopard.', 'The pelt was richly decorated with an intricate pattern of swirling stripes, blotches, curls and fine-line traceries.', 'This is different from a spotted leopard, but similar to a King Cheetah hence the modern cryptozoology term King Leopard.', 'Between 1885 and 1934, six pseudo-melanistic leopards were recorded in the Albany and Grahamstown districts of South Africa.', 'This indicated a mutation in the local leopard population.', 'Other King Leopards have been recorded from Malabar in southwestern India.'], is_triggered=True, triggered_score=0.13612905201571326, token_count=119, metadata=None),\n",
       "  Chunk(splits=['Shooting for trophies may have wiped out these populations.', 'link title', 'Pumapard, Rothschild Museum, Tring', 'A pumapard is a hybrid animal resulting from a union between a leopard and a puma.', 'Three sets of these hybrids were bred in the late 1890s and early 1900s by Carl Hagenbeck at his animal park in Hamburg, Germany.', 'Most did not reach adulthood.', 'One of these was purchased in 1898 by Berlin Zoo.', 'A similar hybrid in Berlin Zoo purchased from Carl Hagenbeck was a cross between a male leopard and a female puma.', \"Hamburg Zoo's specimen was the reverse pairing, the one in the black and white photo, fathered by a puma bred to an Indian leopardess.\", 'Whether born to a female Puma mated to a male Leopard, or to a male Puma mated to a female Leopard, pumapards inherit a form of dwarfism.', 'Those reported grew to only half the size of the parents.', 'They have a Puma-like long body (proportional to the limbs, but nevertheless shorter than either parent), but short legs.'], is_triggered=True, triggered_score=0.17287921092400663, token_count=196, metadata=None),\n",
       "  Chunk(splits=['The coat is variously described as sandy, tawny or greyish with brown, chestnut or \"faded\" rosettes.', 'Dionysus and a panther.', 'Crater.', 'The Louvre c. 370 BC', \"Leopards have been known to humans since antiquity and have featured in the art, mythology and folklore of many countries where they have occurred historically, such as Ancient Greece, Persia and Rome, as well as some where they haven't such as England.\", 'The modern use of the leopard as an emblem for sport or coat of arms is much more restricted to Africa, though numerous products worldwide have used the name.', 'Leopards were kept in a menagerie established by King John at the Tower of London in the 13th century; around 1235 three animals were given to Henry III by the Holy Roman Emperor Frederick II.'], is_triggered=True, triggered_score=0.2092325719743218, token_count=149, metadata=None),\n",
       "  Chunk(splits=['Despite its size, this largely nocturnal and arboreal predator is difficult to see in the wild.', 'A female leopard in the Sabi Sands of South Africa illustrating just how close tourists can get to these wild cats.The best location to see leopards in Africa is in the Sabi Sand Private Game Reserve in South Africa, where leopards are habituated to safari vehicles and are seen on a daily basis at very close range.', \"In Asia, one can see leopards Yala National Park in Sri Lanka, which has one of the world's highest density of wild leopards, but even here sightings are by no means guaranteed because more than half the park is closed off to the public, allowing the animals to thrive.\", 'Another good destination for leopard watching is the recently reopened Wilpattu National Park, also in Sri Lanka.', 'In India the leopards are found all over the country and there is maximum man-animal conflict here only as they are spread everywhere.The best places in India can be national parks in Madhya Pradesh and in Uttarakhand.'], is_triggered=True, triggered_score=0.1068097066928766, token_count=195, metadata=None),\n",
       "  Chunk(splits=['Coat of arms of the German state of Baden-WÃ¼rttemberg', 'The lion passant guardant or \"leopard\" is a frequently used charge in heraldry, most commonly appearing in groups of three.', 'The heraldric leopard lacks spots and sports a mane, making it visually almost identical to the heraldric lion, and the two are often used interchangeably.', 'These traditional lion passant guardants appear in the coat of arms of England and many of its former colonies; more modern naturalistic (leopard-like) depictions appear on the coat of arms of several African nations including Benin, Malawi, Somalia, Democratic Republic of the Congo and  Gabon which uses a black panther.', 'The Leopard is also the unofficial national animal of Germany, replacing the Tiger, which was, along with the eagle, the national animal of Nazi Germany.', 'The leopard tank was a German designed tank which entered service in 1965.', 'The Leopard men were a West African secret society who practised cannibalism.'], is_triggered=True, triggered_score=0.12517060334337218, token_count=180, metadata=None),\n",
       "  Chunk(splits=[\"They were centred in Sierra Leone, Liberia and CÃ´te d'Ivoire.\", \"Members would dress in leopard skins, waylaying travellers with sharp claw-like weapons in the form of leopards' claws and teeth.\", \"The victims' flesh would be cut from their bodies and distributed to members of the society.\", 'There was a superstitious belief that this ritual cannibalism would strengthen both members of the society as well as their entire tribe.', 'Although most leopards will tend to avoid humans, people are occasionally targeted as prey.', 'Most healthy leopards prefer wild prey to humans, but cats who are injured, sickly or struggling with a shortage of regular prey often turn to hunting people and may become habituated to it.', 'In the most extreme cases, both in India, a leopard dubbed \"the Leopard of Rudraprayag\" is claimed to have killed over 125 people and the infamous leopardess called \"Panar Leopard\" killed over 400 after being injured by a poacher and thus being made unable to hunt normal prey.', 'The \"Leopard of Rudraprayag\" and the \"Panar Leopard\" were both killed by the famed hunter Jim Corbett.', 'Man-eating leopards are considered bold by feline standards and commonly enter human settlements for prey, more so than their lion and tiger counterparts.', 'Kenneth Anderson, who had first hand experience with many man-eating leopards, described them as far more threatening than tigers;', 'However because they can subsist on small prey and are less dependent on large prey, leopards are less likely to turn to man-eating than either lions or tigers.'], is_triggered=False, triggered_score=None, token_count=290, metadata=None),\n",
       "  Chunk(splits=['Possibly the most famous cinematic leopard is the pet in the film Bringing Up Baby (1938) where its misadventures create madcap comedy for stars Cary Grant and Katharine Hepburn; the movie is one of the American Film Institute\\'s \"100 Greatest (American) Films\".', '* In the 1999 Tarzan movie by Disney, a vicious leopard, Sabor, was Tarzan\\'s natural and mortal enemy, although the Mangani name for leopards established in the books is \"Sheeta\".', \"* In Passion in the Desert (1997), a French soldier (played by British actor Ben Daniels) while lost in Egypt during Napoleon's Egyptian campaign stumbles upon a leopard and develops a strange relationship with the animal.\", \"Traditionally, the leopard is an uncommon name or mascot for sporting teams, though it has been used in several African soccer teams: the AFC Leopards, formed in 1964, are a soccer club based in Nairobi, Kenya, while the Black Leopards play in South Africa's Premier Soccer League, the Royal Leopards in Swaziland's Premier League, and the Golf Leopards in the Sierra Leone National Premier League.\", 'More recently, the leopard emblem has been a part of the English Basketball League since the 1990s with the Essex Leopards and later London Leopards.', 'The New Zealand Rugby League has featured the Otahuhu Leopards and then the Tamaki Leopards.', 'The use of Leopards by companies is uncommon, though Nissan Leopard was a luxury sports car produced by Nissan in the 1980s and Apple Inc. released Mac OS X version 10.5, nicknamed \"Leopard\" on October 26th, 2007.'], is_triggered=False, triggered_score=None, token_count=295, metadata=None),\n",
       "  Chunk(splits=['In The Chronicles of Narnia; The Lion, The Witch, and the Wardrobe, leopards are seen fighting alongside Peter Pevensie.', '* Khalaf-von Jaffa, Norman Ali Bassam Ali Taher (2005).', 'The Arabian Leopard (Panthera pardus nimr).', 'Gazelle:', 'The Palestinian Biological Bulletin.', 'Number 42, June 2005. pp. 1-8. (in German).', '* Khalaf-Sakerfalke von Jaffa, Norman Ali Bassam Ali Taher (2006).', 'The Chinese Leopard (Panthera pardus japonensis, Gray 1862) in Neunkirchen Zoo, Neunkirchen, Saarland, Germany.', 'Gazelle:', 'The Palestinian Biological Bulletin.', 'Number 60, December 2006. pp. 1-10.', '* DeRuiter, D.J. and Berger, L.R. (2000) Leopards as Taphonomic Agents in dolomitic Caves - Implications for bone Accumulations in the Hominid-bearing Deposits of South Africa.'], is_triggered=True, triggered_score=0.17315735928749534, token_count=161, metadata=None),\n",
       "  Chunk(splits=['J.', 'Arch.', 'Sci. 27, 665-684.'], is_triggered=False, triggered_score=None, token_count=11, metadata=None)]]"
      ]
     },
     "execution_count": 12,
     "metadata": {},
     "output_type": "execute_result"
    }
   ],
   "source": [
    "load_structure(\"./chunks_extracted/S08_set1_a2.pkl.gz\")"
   ]
  },
  {
   "cell_type": "code",
   "execution_count": null,
   "metadata": {},
   "outputs": [],
   "source": []
  }
 ],
 "metadata": {
  "kernelspec": {
   "display_name": "base",
   "language": "python",
   "name": "python3"
  },
  "language_info": {
   "codemirror_mode": {
    "name": "ipython",
    "version": 3
   },
   "file_extension": ".py",
   "mimetype": "text/x-python",
   "name": "python",
   "nbconvert_exporter": "python",
   "pygments_lexer": "ipython3",
   "version": "3.11.7"
  }
 },
 "nbformat": 4,
 "nbformat_minor": 2
}
