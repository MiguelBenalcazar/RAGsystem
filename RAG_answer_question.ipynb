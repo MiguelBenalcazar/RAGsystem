{
 "cells": [
  {
   "cell_type": "code",
   "execution_count": 1,
   "metadata": {},
   "outputs": [],
   "source": [
    "import pandas as pd\n",
    "from RAG_Basic.RAG import RAG\n",
    "from tqdm.auto import tqdm\n",
    "from utils.utils import save_structure"
   ]
  },
  {
   "cell_type": "code",
   "execution_count": 2,
   "metadata": {},
   "outputs": [
    {
     "name": "stderr",
     "output_type": "stream",
     "text": [
      "/home/mab/anaconda3/lib/python3.11/site-packages/huggingface_hub/file_download.py:1132: FutureWarning: `resume_download` is deprecated and will be removed in version 1.0.0. Downloads always resume when possible. If you want to force a new download, use `force_download=True`.\n",
      "  warnings.warn(\n"
     ]
    },
    {
     "name": "stdout",
     "output_type": "stream",
     "text": [
      "loaded data structure\n"
     ]
    }
   ],
   "source": [
    "rag = RAG()"
   ]
  },
  {
   "cell_type": "code",
   "execution_count": 3,
   "metadata": {},
   "outputs": [],
   "source": [
    "df = pd.read_csv('./data/question_answer_pairs.txt' , delimiter='\\t')"
   ]
  },
  {
   "cell_type": "code",
   "execution_count": 4,
   "metadata": {},
   "outputs": [
    {
     "data": {
      "text/html": [
       "<div>\n",
       "<style scoped>\n",
       "    .dataframe tbody tr th:only-of-type {\n",
       "        vertical-align: middle;\n",
       "    }\n",
       "\n",
       "    .dataframe tbody tr th {\n",
       "        vertical-align: top;\n",
       "    }\n",
       "\n",
       "    .dataframe thead th {\n",
       "        text-align: right;\n",
       "    }\n",
       "</style>\n",
       "<table border=\"1\" class=\"dataframe\">\n",
       "  <thead>\n",
       "    <tr style=\"text-align: right;\">\n",
       "      <th></th>\n",
       "      <th>ArticleTitle</th>\n",
       "      <th>Question</th>\n",
       "      <th>Answer</th>\n",
       "      <th>DifficultyFromQuestioner</th>\n",
       "      <th>DifficultyFromAnswerer</th>\n",
       "      <th>ArticleFile</th>\n",
       "    </tr>\n",
       "  </thead>\n",
       "  <tbody>\n",
       "    <tr>\n",
       "      <th>0</th>\n",
       "      <td>Abraham_Lincoln</td>\n",
       "      <td>Was Abraham Lincoln the sixteenth President of...</td>\n",
       "      <td>yes</td>\n",
       "      <td>easy</td>\n",
       "      <td>easy</td>\n",
       "      <td>S08_set3_a4</td>\n",
       "    </tr>\n",
       "    <tr>\n",
       "      <th>1</th>\n",
       "      <td>Abraham_Lincoln</td>\n",
       "      <td>Did Lincoln sign the National Banking Act of 1...</td>\n",
       "      <td>yes</td>\n",
       "      <td>easy</td>\n",
       "      <td>medium</td>\n",
       "      <td>S08_set3_a4</td>\n",
       "    </tr>\n",
       "    <tr>\n",
       "      <th>2</th>\n",
       "      <td>Abraham_Lincoln</td>\n",
       "      <td>Did Lincoln's mother die of pneumonia?</td>\n",
       "      <td>no</td>\n",
       "      <td>easy</td>\n",
       "      <td>medium</td>\n",
       "      <td>S08_set3_a4</td>\n",
       "    </tr>\n",
       "    <tr>\n",
       "      <th>3</th>\n",
       "      <td>Abraham_Lincoln</td>\n",
       "      <td>How long was Lincoln's formal education?</td>\n",
       "      <td>18 months.</td>\n",
       "      <td>medium</td>\n",
       "      <td>medium</td>\n",
       "      <td>S08_set3_a4</td>\n",
       "    </tr>\n",
       "    <tr>\n",
       "      <th>4</th>\n",
       "      <td>Abraham_Lincoln</td>\n",
       "      <td>When did Lincoln begin his political career?</td>\n",
       "      <td>1832</td>\n",
       "      <td>medium</td>\n",
       "      <td>easy</td>\n",
       "      <td>S08_set3_a4</td>\n",
       "    </tr>\n",
       "    <tr>\n",
       "      <th>...</th>\n",
       "      <td>...</td>\n",
       "      <td>...</td>\n",
       "      <td>...</td>\n",
       "      <td>...</td>\n",
       "      <td>...</td>\n",
       "      <td>...</td>\n",
       "    </tr>\n",
       "    <tr>\n",
       "      <th>729</th>\n",
       "      <td>Anders_Celsius</td>\n",
       "      <td>How old was Anders Celsius when he died?</td>\n",
       "      <td>42</td>\n",
       "      <td>NaN</td>\n",
       "      <td>medium</td>\n",
       "      <td>S09_set4_a5</td>\n",
       "    </tr>\n",
       "    <tr>\n",
       "      <th>730</th>\n",
       "      <td>Anders_Celsius</td>\n",
       "      <td>What is Anders Celsius`s last name?</td>\n",
       "      <td>Celsius</td>\n",
       "      <td>NaN</td>\n",
       "      <td>easy</td>\n",
       "      <td>S09_set4_a5</td>\n",
       "    </tr>\n",
       "    <tr>\n",
       "      <th>731</th>\n",
       "      <td>Anders_Celsius</td>\n",
       "      <td>Was celsius born in Uppsala  in Sweden?</td>\n",
       "      <td>yes</td>\n",
       "      <td>NaN</td>\n",
       "      <td>easy</td>\n",
       "      <td>S09_set4_a5</td>\n",
       "    </tr>\n",
       "    <tr>\n",
       "      <th>732</th>\n",
       "      <td>Anders_Celsius</td>\n",
       "      <td>Was Anders Celsius the first  to perform  and ...</td>\n",
       "      <td>yes</td>\n",
       "      <td>NaN</td>\n",
       "      <td>easy</td>\n",
       "      <td>S09_set4_a5</td>\n",
       "    </tr>\n",
       "    <tr>\n",
       "      <th>733</th>\n",
       "      <td>Anders_Celsius</td>\n",
       "      <td>Was Anders Celsius professor at Uppsala Univer...</td>\n",
       "      <td>yes</td>\n",
       "      <td>NaN</td>\n",
       "      <td>easy</td>\n",
       "      <td>S09_set4_a5</td>\n",
       "    </tr>\n",
       "  </tbody>\n",
       "</table>\n",
       "<p>734 rows × 6 columns</p>\n",
       "</div>"
      ],
      "text/plain": [
       "        ArticleTitle                                           Question  \\\n",
       "0    Abraham_Lincoln  Was Abraham Lincoln the sixteenth President of...   \n",
       "1    Abraham_Lincoln  Did Lincoln sign the National Banking Act of 1...   \n",
       "2    Abraham_Lincoln             Did Lincoln's mother die of pneumonia?   \n",
       "3    Abraham_Lincoln           How long was Lincoln's formal education?   \n",
       "4    Abraham_Lincoln       When did Lincoln begin his political career?   \n",
       "..               ...                                                ...   \n",
       "729   Anders_Celsius           How old was Anders Celsius when he died?   \n",
       "730   Anders_Celsius                What is Anders Celsius`s last name?   \n",
       "731   Anders_Celsius            Was celsius born in Uppsala  in Sweden?   \n",
       "732   Anders_Celsius  Was Anders Celsius the first  to perform  and ...   \n",
       "733   Anders_Celsius  Was Anders Celsius professor at Uppsala Univer...   \n",
       "\n",
       "         Answer DifficultyFromQuestioner DifficultyFromAnswerer  ArticleFile  \n",
       "0           yes                     easy                   easy  S08_set3_a4  \n",
       "1           yes                     easy                 medium  S08_set3_a4  \n",
       "2            no                     easy                 medium  S08_set3_a4  \n",
       "3    18 months.                   medium                 medium  S08_set3_a4  \n",
       "4          1832                   medium                   easy  S08_set3_a4  \n",
       "..          ...                      ...                    ...          ...  \n",
       "729          42                      NaN                 medium  S09_set4_a5  \n",
       "730     Celsius                      NaN                   easy  S09_set4_a5  \n",
       "731         yes                      NaN                   easy  S09_set4_a5  \n",
       "732         yes                      NaN                   easy  S09_set4_a5  \n",
       "733         yes                      NaN                   easy  S09_set4_a5  \n",
       "\n",
       "[734 rows x 6 columns]"
      ]
     },
     "execution_count": 4,
     "metadata": {},
     "output_type": "execute_result"
    }
   ],
   "source": [
    "df"
   ]
  },
  {
   "cell_type": "code",
   "execution_count": 5,
   "metadata": {},
   "outputs": [
    {
     "data": {
      "application/vnd.jupyter.widget-view+json": {
       "model_id": "53a9335a1cf5415d97201be4f9042d71",
       "version_major": 2,
       "version_minor": 0
      },
      "text/plain": [
       "  0%|          | 0/734 [00:00<?, ?it/s]"
      ]
     },
     "metadata": {},
     "output_type": "display_data"
    },
    {
     "name": "stdout",
     "output_type": "stream",
     "text": [
      "0 Was Abraham Lincoln the sixteenth President of the United States? <class 'str'>\n"
     ]
    },
    {
     "ename": "NameError",
     "evalue": "name 'responses' is not defined",
     "output_type": "error",
     "traceback": [
      "\u001b[0;31m---------------------------------------------------------------------------\u001b[0m",
      "\u001b[0;31mNameError\u001b[0m                                 Traceback (most recent call last)",
      "Cell \u001b[0;32mIn[5], line 9\u001b[0m\n\u001b[1;32m      7\u001b[0m question \u001b[38;5;241m=\u001b[39m df\u001b[38;5;241m.\u001b[39mQuestion\u001b[38;5;241m.\u001b[39mvalues[i]\n\u001b[1;32m      8\u001b[0m respones \u001b[38;5;241m=\u001b[39m rag(question)\n\u001b[0;32m----> 9\u001b[0m \u001b[38;5;28mprint\u001b[39m(responses)\n\u001b[1;32m     10\u001b[0m answer\u001b[38;5;241m.\u001b[39mappend(respones)\n\u001b[1;32m     11\u001b[0m \u001b[38;5;28;01mbreak\u001b[39;00m\n",
      "\u001b[0;31mNameError\u001b[0m: name 'responses' is not defined"
     ]
    }
   ],
   "source": [
    "answer = []\n",
    "for i in tqdm(range(0, len(df.Question.values))):\n",
    "    if type(df.Question.values[i]) == str:\n",
    "        print(i ,df.Question.values[i], type(df.Question.values[i]))\n",
    "    else:\n",
    "        print(i ,df.Question.values[i], type(df.Question.values[i]), \"______________\")\n",
    "    question = df.Question.values[i]\n",
    "    respones = rag(question)\n",
    "    print(responses)\n",
    "    answer.append(respones)\n",
    "    break"
   ]
  },
  {
   "cell_type": "code",
   "execution_count": 5,
   "metadata": {},
   "outputs": [
    {
     "name": "stdout",
     "output_type": "stream",
     "text": [
      "Data structure has been saved to ./questions_answered/S08_question_answer_pairs.pkl.gz\n"
     ]
    }
   ],
   "source": [
    "save_structure(answer, \"./questions_answered\", \"S08_question_answer_pairs\")"
   ]
  },
  {
   "cell_type": "code",
   "execution_count": 2,
   "metadata": {},
   "outputs": [
    {
     "name": "stdout",
     "output_type": "stream",
     "text": [
      "loaded data structure\n"
     ]
    }
   ],
   "source": [
    "from utils.utils import load_structure\n",
    "data = load_structure(\"./questions_answered/S08_question_answer_pairs.pkl.gz\")"
   ]
  },
  {
   "cell_type": "code",
   "execution_count": 6,
   "metadata": {},
   "outputs": [
    {
     "data": {
      "text/plain": [
       "{'llama3_filter': 'Yes.',\n",
       " 'phi3_filter': ' Yes, Abraham Lincoln was the sixteenth President of the United States.',\n",
       " 'llama3': \"I do not have enough information in the provided text to determine whether Abraham Lincoln was the sixteenth President of the United States or not. Therefore, my answer is: I don't know.\",\n",
       " 'phi3': \" Lincoln was a lawyer before entering politics; served as Illinois state legislator (1834-1842); elected U.S. House member in 1846, where he opposed the Mexican War and questioned territorial boundary claims; unsuccessfully sought U.S. Senate seat in 1858 but gained national prominence with his Cooper Union speech advocating for anti-slavery; Republican nominee in 1860 presidential election, won all but two states, delivering the Second Inaugural Address at war's end and leading to abolition of slavery via Emancipation Proclamation and Thirteenth Amendment.\",\n",
       " 'result_search_filtered': [(array([0.9980089], dtype=float32),\n",
       "   'Abraham Lincoln Abraham Lincoln (February 12, 1809 â April 15, 1865) was the sixteenth President of the United States, serving from March 4, 1861 until his assassination. As an outspoken opponent of the expansion of slavery in the United States, \"[I]n his short autobiography written for the 1860 presidential campaign, Lincoln would describe his protest in the Illinois legislature as one that \\'briefly defined his position on the slavery question, and so far as it goes, it was then the same that it is now.\" This was in reference to the anti-expansion sentiments he had then expressed.',\n",
       "   2)],\n",
       " 'Retrieved': ['Abraham Lincoln Abraham Lincoln (February 12, 1809 â April 15, 1865) was the sixteenth President of the United States, serving from March 4, 1861 until his assassination. As an outspoken opponent of the expansion of slavery in the United States, \"[I]n his short autobiography written for the 1860 presidential campaign, Lincoln would describe his protest in the Illinois legislature as one that \\'briefly defined his position on the slavery question, and so far as it goes, it was then the same that it is now.\" This was in reference to the anti-expansion sentiments he had then expressed.',\n",
       "  'South Carolina took the lead, followed by six other cotton-growing states in the deep South. The upper South (Delaware, Maryland, Virginia, North Carolina, Tennessee, Kentucky, Missouri, and Arkansas) listened to and rejected the secessionist appeal. They decided to stay in the Union, though they warned Lincoln that they would not support an invasion through their territory. The seven Confederate states seceded before Lincoln took office, declaring themselves to be a new nation, the Confederate States of America. President Buchanan and President-elect Lincoln refused to recognize the Confederacy. President-elect Lincoln evaded possible assassins in Baltimore, and on February 23, 1861, arrived in disguise in Washington, D.C. At his inauguration on March 4, 1861, the German American Turners formed Lincoln\\'s bodyguard; and a sizable garrison of federal troops was also present, ready to protect the capital from Confederate invasion and local insurrection. Photograph showing the March 4, 1861, inauguration of Abraham Lincoln in front of United States Capitol. In his First Inaugural Address, Lincoln declared, \"I hold that in contemplation of universal law and of the Constitution the Union of these States is perpetual. Perpetuity is implied, if not expressed, in the fundamental law of all national governments,\" arguing further that the purpose of the United States Constitution was \"to form a more perfect union\" than the Articles of Confederation which were explicitly perpetual, thus the Constitution too was perpetual.',\n",
       "  'Doris Kearns Goodwin, Team of Rivals: The Political Genius of Abraham Lincoln (2005) p. 91. Holzer pg. 232. Writing of the Cooper Union  speech, Holzer notes, \"Cooper Union proved a unique confluence of political culture, rhetorical opportunity, technological innovation, and human genius, and it brought Abraham Lincoln to the center stage of American politics at precisely the right time and place, and with precisely the right message: that slavery was wrong, and ought to be confined to the areas where it already existed, and placed on the \\'course of ultimate extinction... .\\'\"  Lincoln won the Republican Party nomination in 1860 and was elected president later that year. During his term, he helped preserve the United States by leading the defeat of the secessionist Confederate States of America in the American Civil War. He introduced measures that resulted in the abolition of slavery, issuing his Emancipation Proclamation in 1863 and promoting the passage of the Thirteenth Amendment to the Constitution in 1865. Lincoln closely supervised the victorious war effort, especially the selection of top generals, including Ulysses S. Grant. Historians have concluded that he handled the factions of the Republican Party well, bringing leaders of each faction into his cabinet and forcing them to cooperate. Lincoln successfully defused a war scare with the United Kingdom in 1861. Under his leadership, the Union took control of the border slave states at the start of the war. Additionally, he managed his own reelection in the 1864 presidential election.',\n",
       "  'Lieutenant David H. Todd, a half-brother of Mary Todd Lincoln, served as commandant of the Libby Prison camp during the war. The first photograph ever taken of Abraham Lincoln, a daguerreotype taken by Shepherd in 1846. A Whig and an admirer of party leader Henry Clay,  Lincoln was elected to a term in the U.S. House of Representatives in 1846. As a freshman House member, he was not a particularly powerful or influential figure. He spoke out against the Mexican-American War, which he attributed to President Polk\\'s desire for \"military glory â that attractive rainbow, that rises in showers of blood.\" He also challenged the President\\'s claims regarding the Texas boundary and offered Spot Resolutions demanding to know on what \"spot\" on US soil that blood was first spilt. Congressional Globe, 30th Session (1848) pp.93-95  In January of 1848, he was among the 82 Whigs who defeated 81 Democrats in a procedural vote on an amendment to send a routine resolution back to committee with instructions to add the words \"a war unnecessarily and unconstitutionally begun by the President of the United States.\" The amendment passed, but the bill never reemerged from committee and was never finally voted upon. House Journal, 30th Session (1848) pp.183-184',\n",
       "  'The Radicals thought this policy too lenient, and passed their own plan, the Wade-Davis Bill, in 1864. When Lincoln pocket-vetoed the bill, the Radicals retaliated by refusing to seat representatives elected from Louisiana, Arkansas, and Tennessee. Donald (1995) ch. 20 On April 9, 1865, Lee surrendered at Appomattox Court House in Virginia, and the war was effectively over. The other rebel armies surrendered soon after, and there was no subsequent guerrilla warfare. Lincoln went to Richmond to make a public gesture of sitting at Jefferson Davis\\'s own desk, symbolically saying to the nation that the President of the United States held authority over the entire land. He was greeted at the city as a conquering hero by freed slaves, whose sentiments were epitomized by one admirer\\'s quote, \"I know I am free for I have seen the face of Father Abraham and have felt him.\" When a general asked Lincoln how the defeated Confederates should be treated, Lincoln replied, \"Let \\'em up easy.\"  Donald (1995) 576, 580,   \"President Lincoln Enters Richmond, 1865\" EyeWitness to History, www.eywitnesstohistory.com (2000). One of the last photographs of Lincoln, likely taken between February and April 1865 Lincoln\\'s powerful rhetoric defined the issues of the war for the nation, the world, and posterity. His extraordinary command of the English language was evidenced in the Gettysburg Address, a speech dedicating the cemetery at Gettysburg that he delivered on November 19, 1863.',\n",
       "  'Presented with 303 death warrants for convicted Santee Dakota who had massacred innocent farmers, Lincoln affirmed 39 of these for execution (one was later reprieved). The assassination of Abraham Lincoln. From left to right: Henry Rathbone, Clara Harris, Mary Todd Lincoln, Abraham Lincoln and John Wilkes Booth Originally, John Wilkes Booth, a well-known actor and a Confederate spy from Maryland, had formulated a plan to kidnap Lincoln in exchange for the release of Confederate prisoners. After attending an April 11 speech in which Lincoln promoted voting rights for blacks, an incensed Booth changed his plans and determined to assassinate the president. Harrison, Lowell Hayes, Lincoln of Kentucky, University Press of Kentucky, 2000, pp. 3â',\n",
       "  'Historians agree that except for Simon Cameron, it was a highly effective group. Abraham Lincoln\\'s official White House portrait Lincoln appointed the following Justices to the Supreme Court of the United States: In March 1860 in a speech in New Haven, Connecticut, Lincoln said, with respect to slavery, â Whenever this question shall be settled, it must be settled on some philosophical basis. No policy that does not rest upon some philosophical public opinion can be permanently maintained.\" The philosophical basis for Lincolnâ s beliefs regarding slavery and other issues of the day require that Lincoln be examined \"seriously as a man of ideas.\" Lincoln was a strong supporter of the American Whig version of liberal capitalism who, more than most politicians of the time, was able to express his ideas within the context of Nineteenth Century religious beliefs.',\n",
       "  \"Lincoln, Illinois, is the only city to be named for Abraham Lincoln before he became President. Lincoln's name and image appear in numerous places. These include the Lincoln Memorial in Washington, D.C., the U.S. Lincoln $5 bill and the Lincoln cent, Lincoln's sculpture on the Mount Rushmore, and the Lincoln Home National Historic Site in Springfield, Illinois. In addition, New Salem, Illinois (a reconstruction of Lincoln's early adult hometown), Ford's Theatre, and Petersen House (where he died) are all preserved as museums. The Lincoln Shrine in Redlands, California, is located behind the A.K.\",\n",
       "  'His nicknames, \"Honest Abe\" and \"the Rail-Splitter,\" were exploited to the full. The goal was to emphasize the superior power of \"free labor,\" whereby a common farm boy could work his way to the top by his own efforts. Thomas (1952) p 216; Reinhard H. Luthin, The First Lincoln Campaign (1944); Nevins vol 4; On November 6, 1860, Lincoln was elected as the 16th President of the United States, beating Democrat Stephen A. Douglas, John C. Breckinridge of the Southern Democrats, and John Bell of the new Constitutional Union Party. He was the first Republican president, winning entirely on the strength of his support in the North: he was not even on the ballot in nine states in the South, and won only 2 of 996 counties in the other Southern states. Lincoln gained 1,865,908 votes (39.9% of the total), for 180 electoral votes; Douglas, 1,380,202 (29.5%) for 12 electoral votes; Breckenridge, 848,019 (18.1%) for 72 electoral votes; and Bell, 590,901 (12.5%) for 39 electoral votes. There were fusion tickets in some states, but even if his opponents had combined in every state, Lincoln had a majority vote in all but two of the states in which he won the electoral votes and would still have won the electoral college and the election. As Lincoln\\'s election became more likely, secessionists made it clear that their states would leave the Union.',\n",
       "  \"Smiley Public Library. The state nickname for Illinois is Land of Lincoln. Counties in 19 U.S. states (Arkansas, Colorado, Idaho, Kansas, Maine, Minnesota, Mississippi, Montana, Nebraska, Nevada, New Mexico, Oklahoma, Oregon, South Dakota, Tennessee, West Virginia, Washington, Wisconsin, and Wyoming) are named after Lincoln. Abraham Lincoln's birthday, February 12, was formerly a national holiday, now commemorated as Presidents' Day. However, it is still observed in Illinois and many other states as a separate legal holiday, Lincoln's Birthday. A dozen states have legal holidays celebrating the third Monday in February as 'Presidents' Day' as a combination Washington-Lincoln Day. To commemorate his upcoming 200th birthday in February 2009, Congress established the Abraham Lincoln Bicentennial Commission (ALBC) in 2000. Dedicated to renewing American appreciation of Lincolnâ s legacy, the 15-member commission is made up of lawmakers and scholars and also features an adivsory board of over 130 various Lincoln historians and enthusiasts. Located at Library of Congress in Washington, D.C., the ALBC is the organizing force behind numerous tributes, programs and cultural events highlighting a two-year celebration scheduled to begin in February 2008 at Lincolnâ\",\n",
       "  'Abraham Lincoln Abraham Lincoln (February 12, 1809 â April 15, 1865) was the sixteenth President of the United States, serving from March 4, 1861 until his assassination. As an outspoken opponent of the expansion of slavery in the United States, \"[I]n his short autobiography written for the 1860 presidential campaign, Lincoln would describe his protest in the Illinois legislature as one that \\'briefly defined his position on the slavery question, and so far as it goes, it was then the same that it is now.\" This was in reference to the anti-expansion sentiments he had then expressed.',\n",
       "  'His nicknames, \"Honest Abe\" and \"the Rail-Splitter,\" were exploited to the full. The goal was to emphasize the superior power of \"free labor,\" whereby a common farm boy could work his way to the top by his own efforts. Thomas (1952) p 216; Reinhard H. Luthin, The First Lincoln Campaign (1944); Nevins vol 4; On November 6, 1860, Lincoln was elected as the 16th President of the United States, beating Democrat Stephen A. Douglas, John C. Breckinridge of the Southern Democrats, and John Bell of the new Constitutional Union Party. He was the first Republican president, winning entirely on the strength of his support in the North: he was not even on the ballot in nine states in the South, and won only 2 of 996 counties in the other Southern states. Lincoln gained 1,865,908 votes (39.9% of the total), for 180 electoral votes; Douglas, 1,380,202 (29.5%) for 12 electoral votes; Breckenridge, 848,019 (18.1%) for 72 electoral votes; and Bell, 590,901 (12.5%) for 39 electoral votes. There were fusion tickets in some states, but even if his opponents had combined in every state, Lincoln had a majority vote in all but two of the states in which he won the electoral votes and would still have won the electoral college and the election. As Lincoln\\'s election became more likely, secessionists made it clear that their states would leave the Union.',\n",
       "  \"Guelzo pg.194-195 It was the Declaration of Independence, rather than the Bible, that Lincoln most relied on in order to oppose any further territorial expansion of slavery. He saw the Declaration as more than a political document. To him, as well as to many abolitionists and other antislavery leaders, it was, foremost, a moral document that had forever determined valuable criteria in shaping the future of the nation. Miller pg. 297 While Lincoln is usually portrayed bearded, he first grew a beard in 1860 at the suggestion of 11-year-old Grace Bedell Lincoln's death made the President a martyr to many. Repeated polls of historians have ranked Lincoln as among the greatest presidents in U.S. history, often appearing in the first position. Among contemporary admirers, Lincoln is usually seen as personifying classical values of honesty and integrity, as well as respect for individual and minority rights, and human freedom in general. Many American organizations of all purposes and agendas continue to cite his name and image, with interests ranging from the gay rights-supporting Log Cabin Republicans to the insurance corporation Lincoln National Corporation. The Lincoln automobile is also named after him. The ballistic missile submarine Abraham Lincoln (SSBN-602) and the aircraft carrier Abraham Lincoln (CVN-72) were named in his honor. Also, the Liberty ship, SS Nancy Hanks was named to honor his mother. During the Spanish Civil War the American faction of the International Brigades named themselves the Abraham Lincoln Brigade after Lincoln. Lincoln has been memorialized in many city names, notably the capital of Nebraska.\",\n",
       "  \"Donald, (1995) ch. 2. Lincoln's formal education consisted of about 18 months of schooling. Largely self-educated, he read every book he could get his hands on, once walking.  just to borrow one  While his favorite book was The Life of George Washington, Lincoln mastered the Bible, Shakespeare, and English and American history, and developed a plain writing style that puzzled audiences more used to grandiose rhetoric. He was also a talented local wrestler and skilled with an ax; some rails he had allegedly split in his youth were exhibited at the 1860 Republican National Convention, as the party celebrated the poor-boy-made-good theme. Lincoln avoided hunting and fishing because he did not like killing animals, even for food. Though he was unusually tall at  , 4 inches and strong, Lincoln spent so much time reading that some neighbors suspected he must be doing it to avoid strenuous manual labor. Young Abraham Lincoln Lincoln began his political career in 1832, at age 23, with an unsuccessful campaign for the Illinois General Assembly, as a member of the Whig Party. He ran eighth in a field of 13 candidates.\",\n",
       "  'Lieutenant David H. Todd, a half-brother of Mary Todd Lincoln, served as commandant of the Libby Prison camp during the war. The first photograph ever taken of Abraham Lincoln, a daguerreotype taken by Shepherd in 1846. A Whig and an admirer of party leader Henry Clay,  Lincoln was elected to a term in the U.S. House of Representatives in 1846. As a freshman House member, he was not a particularly powerful or influential figure. He spoke out against the Mexican-American War, which he attributed to President Polk\\'s desire for \"military glory â that attractive rainbow, that rises in showers of blood.\" He also challenged the President\\'s claims regarding the Texas boundary and offered Spot Resolutions demanding to know on what \"spot\" on US soil that blood was first spilt. Congressional Globe, 30th Session (1848) pp.93-95  In January of 1848, he was among the 82 Whigs who defeated 81 Democrats in a procedural vote on an amendment to send a routine resolution back to committee with instructions to add the words \"a war unnecessarily and unconstitutionally begun by the President of the United States.\" The amendment passed, but the bill never reemerged from committee and was never finally voted upon. House Journal, 30th Session (1848) pp.183-184',\n",
       "  'Lamon, 1872 - portions reprinted in  Chapter VIII: Abraham Lincoln, Deist, and Admirer of Thomas Paine, From the book Religious Beliefs of Our Presidents by Franklin Steiner (1936) Lincoln was just seven years old when, in 1816, the family was forced to make a new start in Perry County (now in Spencer County), Indiana. He later noted that this move was \"partly on account of slavery,\" and partly because of difficulties with land deeds in Kentucky: Unlike land in the Northwest Territory, Kentucky never had a proper U.S. survey, and farmers often had difficulties proving title to their property. Lincoln was only nine when his mother, then thirty-four years old, died of milk sickness. Soon afterwards, his father remarried  to Sarah Bush Johnston. Sarah Lincoln raised young Lincoln like one of her own children. Years later she compared Lincoln to her own son, saying \"Both were good boys, but I must say â both now being dead that Abe was the best boy I ever saw or ever expect to see.\" Lincoln was affectionate toward his stepmother, whom he would call \"Mother\" for the rest of his life, but he was distant from his father.',\n",
       "  'Opponents of the war (also known as \"Copperheads\") criticized him for refusing to compromise on the slavery issue. Conversely, the Radical Republicans, an abolitionist faction of the Republican Party, criticized him for moving too slowly in abolishing slavery. Even with these problems, Lincoln successfully rallied public opinion through his rhetoric and speeches; his Gettysburg Address is but one example of this. At the close of the war, Lincoln held a moderate view of Reconstruction, seeking to speedily reunite the nation through a policy of generous reconciliation. His assassination in 1865 was the first presidential assassination in U.S. history and made him a martyr for the ideal of national unity. Scholars now rank Lincoln among the top three U.S. Presidents, with the majority of those surveyed placing him first. He is noted for his lasting influence on U.S. politics, including a redefinition of republicanism. As Diggins explains, \"Lincoln presented Americans a theory of history that offers a profound contribution to the theory and destiny of republicanism itself.\" John Patrick Diggins, The Lost Soul of American Politics: Virtue, Self-interest, and the Foundations of Liberalism (1986) p. 307. Foner (1970) p. 215 noted that, \"Lincoln stressed the moral basis of Republicanism.\" Jaffa (2000) p. 399, stresses Lincoln\\'s emphasis on the Declaration of Independence as what Lincoln called the \"sheet anchor\" of republicanism. See also McPherson (1992) pp.61-64.',\n",
       "  'He won all but two states, capturing 212 of 233 electoral votes. On March 4 1865, Lincoln delivered his second inaugural address, his favorite of all his speeches. At this time, a victory over the rebels was at hand, slavery was dead, and Lincoln was looking to the future. â Running the â Machineâ â An 1864 cartoon featuring Lincoln, William Fessenden, Edwin Stanton, William Seward and Gideon Welles takes a swing at the Lincoln administration The war was a source of constant frustration for the president, and occupied nearly all of his time.',\n",
       "  'Doris Kearns Goodwin, Team of Rivals: The Political Genius of Abraham Lincoln (2005) p. 91. Holzer pg. 232. Writing of the Cooper Union  speech, Holzer notes, \"Cooper Union proved a unique confluence of political culture, rhetorical opportunity, technological innovation, and human genius, and it brought Abraham Lincoln to the center stage of American politics at precisely the right time and place, and with precisely the right message: that slavery was wrong, and ought to be confined to the areas where it already existed, and placed on the \\'course of ultimate extinction... .\\'\"  Lincoln won the Republican Party nomination in 1860 and was elected president later that year. During his term, he helped preserve the United States by leading the defeat of the secessionist Confederate States of America in the American Civil War. He introduced measures that resulted in the abolition of slavery, issuing his Emancipation Proclamation in 1863 and promoting the passage of the Thirteenth Amendment to the Constitution in 1865. Lincoln closely supervised the victorious war effort, especially the selection of top generals, including Ulysses S. Grant. Historians have concluded that he handled the factions of the Republican Party well, bringing leaders of each faction into his cabinet and forcing them to cooperate. Lincoln successfully defused a war scare with the United Kingdom in 1861. Under his leadership, the Union took control of the border slave states at the start of the war. Additionally, he managed his own reelection in the 1864 presidential election.',\n",
       "  'Donald, (1995) ch. 8. On May 9-10, 1860, the Illinois Republican State Convention was held in Decatur. At this convention, Lincoln received his first endorsement to run for the presidency. \"The Rail Candidate,\" Lincoln\\'s 1860 candidacy is held up by slavery issue (slave on left) and party organization (New York Tribune editor Horace Greeley on right) Photo of Lincoln taken February 27, 1860 in New York City by Mathew Brady, the day of his famous Cooper Union speech. Entering the presidential nomination process as a distinct underdog, Lincoln was eventually chosen as the Republican candidate for the 1860 election for several reasons. His expressed views on slavery were seen as more moderate than those of rivals William H.']}"
      ]
     },
     "execution_count": 6,
     "metadata": {},
     "output_type": "execute_result"
    }
   ],
   "source": [
    "respones"
   ]
  },
  {
   "cell_type": "code",
   "execution_count": null,
   "metadata": {},
   "outputs": [],
   "source": []
  }
 ],
 "metadata": {
  "kernelspec": {
   "display_name": "base",
   "language": "python",
   "name": "python3"
  },
  "language_info": {
   "codemirror_mode": {
    "name": "ipython",
    "version": 3
   },
   "file_extension": ".py",
   "mimetype": "text/x-python",
   "name": "python",
   "nbconvert_exporter": "python",
   "pygments_lexer": "ipython3",
   "version": "3.1.-1"
  }
 },
 "nbformat": 4,
 "nbformat_minor": 2
}
